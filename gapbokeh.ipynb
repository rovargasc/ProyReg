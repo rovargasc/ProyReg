{
 "cells": [
  {
   "cell_type": "code",
   "execution_count": 1,
   "metadata": {
    "id": "Q-MLv_4ZxI7V"
   },
   "outputs": [],
   "source": [
    "# !pip install gapminder\n",
    "# !pip install bokeh"
   ]
  },
  {
   "cell_type": "code",
   "execution_count": 2,
   "metadata": {
    "id": "3JXPCrYJxpuH"
   },
   "outputs": [],
   "source": [
    "import pandas as pd\n",
    "from bokeh.io import curdoc\n",
    "from bokeh.plotting import figure\n",
    "from bokeh.models import HoverTool, ColumnDataSource, CategoricalColorMapper, Slider, Select, Button\n",
    "from bokeh.layouts import column, row\n",
    "from bokeh.palettes import Spectral6"
   ]
  },
  {
   "cell_type": "code",
   "execution_count": 3,
   "metadata": {
    "colab": {
     "base_uri": "https://localhost:8080/",
     "height": 238
    },
    "id": "XvmUFpaSxh7_",
    "outputId": "e1ec9de7-926c-4c62-ba6a-35e4cb59aed9"
   },
   "outputs": [
    {
     "data": {
      "text/html": [
       "<div>\n",
       "<style scoped>\n",
       "    .dataframe tbody tr th:only-of-type {\n",
       "        vertical-align: middle;\n",
       "    }\n",
       "\n",
       "    .dataframe tbody tr th {\n",
       "        vertical-align: top;\n",
       "    }\n",
       "\n",
       "    .dataframe thead th {\n",
       "        text-align: right;\n",
       "    }\n",
       "</style>\n",
       "<table border=\"1\" class=\"dataframe\">\n",
       "  <thead>\n",
       "    <tr style=\"text-align: right;\">\n",
       "      <th></th>\n",
       "      <th>Country</th>\n",
       "      <th>fertility</th>\n",
       "      <th>life</th>\n",
       "      <th>population</th>\n",
       "      <th>child_mortality</th>\n",
       "      <th>gdp</th>\n",
       "      <th>region</th>\n",
       "    </tr>\n",
       "    <tr>\n",
       "      <th>Year</th>\n",
       "      <th></th>\n",
       "      <th></th>\n",
       "      <th></th>\n",
       "      <th></th>\n",
       "      <th></th>\n",
       "      <th></th>\n",
       "      <th></th>\n",
       "    </tr>\n",
       "  </thead>\n",
       "  <tbody>\n",
       "    <tr>\n",
       "      <th>1964</th>\n",
       "      <td>Afghanistan</td>\n",
       "      <td>7.671</td>\n",
       "      <td>33.639</td>\n",
       "      <td>10474903.0</td>\n",
       "      <td>339.7</td>\n",
       "      <td>1182.0</td>\n",
       "      <td>South Asia</td>\n",
       "    </tr>\n",
       "    <tr>\n",
       "      <th>1965</th>\n",
       "      <td>Afghanistan</td>\n",
       "      <td>7.671</td>\n",
       "      <td>34.152</td>\n",
       "      <td>10697983.0</td>\n",
       "      <td>334.1</td>\n",
       "      <td>1182.0</td>\n",
       "      <td>South Asia</td>\n",
       "    </tr>\n",
       "    <tr>\n",
       "      <th>1966</th>\n",
       "      <td>Afghanistan</td>\n",
       "      <td>7.671</td>\n",
       "      <td>34.662</td>\n",
       "      <td>10927724.0</td>\n",
       "      <td>328.7</td>\n",
       "      <td>1168.0</td>\n",
       "      <td>South Asia</td>\n",
       "    </tr>\n",
       "    <tr>\n",
       "      <th>1967</th>\n",
       "      <td>Afghanistan</td>\n",
       "      <td>7.671</td>\n",
       "      <td>35.170</td>\n",
       "      <td>11163656.0</td>\n",
       "      <td>323.3</td>\n",
       "      <td>1173.0</td>\n",
       "      <td>South Asia</td>\n",
       "    </tr>\n",
       "    <tr>\n",
       "      <th>1968</th>\n",
       "      <td>Afghanistan</td>\n",
       "      <td>7.671</td>\n",
       "      <td>35.674</td>\n",
       "      <td>11411022.0</td>\n",
       "      <td>318.1</td>\n",
       "      <td>1187.0</td>\n",
       "      <td>South Asia</td>\n",
       "    </tr>\n",
       "  </tbody>\n",
       "</table>\n",
       "</div>"
      ],
      "text/plain": [
       "          Country  fertility    life  population  child_mortality     gdp  \\\n",
       "Year                                                                        \n",
       "1964  Afghanistan      7.671  33.639  10474903.0            339.7  1182.0   \n",
       "1965  Afghanistan      7.671  34.152  10697983.0            334.1  1182.0   \n",
       "1966  Afghanistan      7.671  34.662  10927724.0            328.7  1168.0   \n",
       "1967  Afghanistan      7.671  35.170  11163656.0            323.3  1173.0   \n",
       "1968  Afghanistan      7.671  35.674  11411022.0            318.1  1187.0   \n",
       "\n",
       "          region  \n",
       "Year              \n",
       "1964  South Asia  \n",
       "1965  South Asia  \n",
       "1966  South Asia  \n",
       "1967  South Asia  \n",
       "1968  South Asia  "
      ]
     },
     "execution_count": 3,
     "metadata": {},
     "output_type": "execute_result"
    }
   ],
   "source": [
    "data = pd.read_csv(\"https://raw.githubusercontent.com/abrahamzetz/gapminder_bokeh/main/gapminder_tidy.csv\", index_col='Year')#gapminder.gapminder\n",
    "data.head()"
   ]
  },
  {
   "cell_type": "code",
   "execution_count": 4,
   "metadata": {
    "id": "G0iyzl9dxvQi"
   },
   "outputs": [],
   "source": [
    "# Make the base plot\n",
    "\n",
    "# Define initial plot axes\n",
    "x = 'fertility'\n",
    "xmin, xmax = min(data[x]), max(data[x])\n",
    "\n",
    "y = 'life'\n",
    "ymin, ymax = min(data[y]), max(data[y])\n",
    "\n",
    "year = min(data.index)\n",
    "\n",
    "\n",
    "# Define labels to make axis labels updated\n",
    "label= {\n",
    "    'fertility' : 'Fertilidad (# hijos por mujer)',\n",
    "    'life' : 'Esperanza de vida (años)',\n",
    "    'child_mortality' : 'Tasa de mortalidad infantil',\n",
    "    'gdp': 'PIB país'\n",
    "}\n",
    "\n",
    "diccionario = {\n",
    "    'x'       : data.loc[year, x],\n",
    "    'y'       : data.loc[year, y],\n",
    "    'country' : data.loc[year, 'Country'],\n",
    "    'pop'     : data.loc[year, 'population'],\n",
    "    'pop_size': data.loc[year, 'population'] / 20000000 + 2,\n",
    "    'region'  : data.loc[year, 'region']\n",
    "}\n",
    "\n",
    "\n",
    "# de donde salen los datos\n",
    "source = ColumnDataSource(data = diccionario)\n",
    "\n",
    "# Mapeamos los colores\n",
    "regions_list = data['region'].unique().tolist()\n",
    "color_mapper = CategoricalColorMapper(factors=regions_list, palette=Spectral6)\n",
    "\n",
    "\n",
    "# Creamos la figura\n",
    "plot = figure(title='Gráfico de {} vs {} para el año {}'.format(label[y], label[x], year), height=700, width=1000,\n",
    "              x_range=(xmin, xmax), y_range=(ymin, ymax))\n",
    "\n",
    "plot.circle(x='x', y='y', fill_alpha=0.6, source=source,\n",
    "            color=dict(field='region', transform=color_mapper), size='pop_size', legend_group='region')\n",
    "\n",
    "plot.legend.location = 'top_right'\n",
    "\n",
    "plot.xaxis.axis_label = label[x]\n",
    "\n",
    "plot.yaxis.axis_label = label[y]"
   ]
  },
  {
   "cell_type": "code",
   "execution_count": 5,
   "metadata": {
    "id": "lUlje6Yhz7dF"
   },
   "outputs": [],
   "source": [
    "# Creamos un HoverTool\n",
    "hover = HoverTool(tooltips=[\n",
    "    ('País', '@country'),\n",
    "    ('Región', '@region'),\n",
    "    ('Población', '@pop{0,0}'),\n",
    "    (label[x], '@x{0,0.00}'),\n",
    "    (label[y], '@y{0,0.00}')\n",
    "])\n",
    "\n",
    "plot.add_tools(hover)"
   ]
  },
  {
   "cell_type": "code",
   "execution_count": 6,
   "metadata": {
    "id": "fVwjcGjfz-wz"
   },
   "outputs": [],
   "source": [
    "# Define the callback function for interacting with the widgets\n",
    "def update_plot(attr, old, new):\n",
    "    #Use global hover to update HoverTool    \n",
    "    global hover\n",
    "    \n",
    "    #Get value of current widgets\n",
    "    year = slider.value\n",
    "    x = x_select.value\n",
    "    y = y_select.value\n",
    "    \n",
    "    # Label plot axes\n",
    "    plot.xaxis.axis_label = label[x]\n",
    "    plot.yaxis.axis_label = label[y]\n",
    "    \n",
    "    # Set new_data\n",
    "    new_data = {\n",
    "        'x'       : data.loc[year, x],\n",
    "        'y'       : data.loc[year, y],\n",
    "        'country' : data.loc[year, 'Country'],\n",
    "        'pop'     : data.loc[year, 'population'],\n",
    "        'pop_size': data.loc[year, 'population'] / 20000000 + 2,\n",
    "        'region'  : data.loc[year, 'region']\n",
    "    }\n",
    "    \n",
    "    # Assign new_data to source.data\n",
    "    source.data = new_data\n",
    "\n",
    "    # Set the range of all axes\n",
    "    plot.x_range.start = min(data[x])\n",
    "    plot.x_range.end = max(data[x])\n",
    "    plot.y_range.start = min(data[y])\n",
    "    plot.y_range.end = max(data[y])\n",
    "\n",
    "    # Add title to plot\n",
    "    plot.title.text = 'Gráfico de {} vs {} para el año {}'.format(label[y], label[x], year)\n",
    "    \n",
    "    # Updating the hover tools\n",
    "    plot.tools.remove(hover)\n",
    "    \n",
    "    hover = HoverTool(tooltips=[\n",
    "        ('País', '@country'),\n",
    "        ('Región', '@region'),\n",
    "        ('Población', '@pop{0,0}'),\n",
    "        (label[x], '@x{0,0.00}'),\n",
    "        (label[y], '@y{0,0.00}')\n",
    "    ])\n",
    "\n",
    "    plot.add_tools(hover)"
   ]
  },
  {
   "cell_type": "code",
   "execution_count": 7,
   "metadata": {
    "id": "G7BFJBDf0B08"
   },
   "outputs": [],
   "source": [
    "# Create a year slider\n",
    "slider = Slider(start=min(data.index), end=max(data.index), step=1, value=min(data.index), title='Year')\n",
    "\n",
    "# Attach the callback to slider\n",
    "slider.on_change('value', update_plot)\n",
    "\n",
    "# Create the list of the dropdown menus\n",
    "dropdown = ['fertility', 'life', 'child_mortality', 'gdp']\n",
    "\n",
    "# Create a dropdown Select widget for the x data\n",
    "x_select = Select(\n",
    "    options=dropdown,\n",
    "    value=dropdown[0],\n",
    "    title='eje x'\n",
    ")\n",
    "\n",
    "# Attach the update_plot callback to x dropdown\n",
    "x_select.on_change('value', update_plot)\n",
    "\n",
    "# Create a dropdown Select widget for the y data\n",
    "y_select = Select(\n",
    "    options=dropdown,\n",
    "    value=dropdown[1],\n",
    "    title='eje y'\n",
    ")\n",
    "\n",
    "# Attach the update_plot callback to y dropdown\n",
    "y_select.on_change('value', update_plot)"
   ]
  },
  {
   "cell_type": "code",
   "execution_count": 15,
   "metadata": {
    "id": "KmFG5hil0EgQ"
   },
   "outputs": [],
   "source": [
    "# Create play-pause button\n",
    "\n",
    "#define the callback function to animate the slider when clicking the button\n",
    "def animate_update():\n",
    "    year = slider.value + 1\n",
    "    if year > max(data.index):\n",
    "        year = min(data.index)\n",
    "    slider.value = year\n",
    "\n",
    "#create global variable for callback\n",
    "callback_animate = None\n",
    "\n",
    "#define the callback function for clicking the button\n",
    "def animate():\n",
    "    global callback_animate\n",
    "    if button.label == '► Play':\n",
    "        button.label = '❚❚ Pause'\n",
    "        callback_animate = curdoc().add_periodic_callback(animate_update, 200)\n",
    "    else:\n",
    "        button.label = '► Play'\n",
    "        curdoc().remove_periodic_callback(callback_animate)\n",
    "\n",
    "#create the button and set on-click callback\n",
    "button = Button(label='► Play', width=60)\n",
    "button.on_click(animate)"
   ]
  },
  {
   "cell_type": "code",
   "execution_count": 9,
   "metadata": {
    "id": "GwR2FGgK0HF2"
   },
   "outputs": [],
   "source": [
    "# Create layout and add to current document\n",
    "layout = row(column(slider, button, x_select, y_select), plot)\n",
    "curdoc().add_root(layout)\n",
    "curdoc().title = 'Gapminder'"
   ]
  },
  {
   "cell_type": "code",
   "execution_count": 10,
   "metadata": {
    "colab": {
     "base_uri": "https://localhost:8080/"
    },
    "id": "QTNG0eLS1pYA",
    "outputId": "bdb08a80-89e5-42d3-c7cd-82a6b969851a"
   },
   "outputs": [
    {
     "name": "stdout",
     "output_type": "stream",
     "text": [
      "^C\n"
     ]
    }
   ],
   "source": [
    "#!bokeh serve --show GapBOKEH.ipynb\n",
    "!bokeh serve --show --port 4004 GapBOKEH.ipynb"
   ]
  },
  {
   "cell_type": "code",
   "execution_count": 16,
   "metadata": {
    "id": "YPfzc_0p0xIY"
   },
   "outputs": [],
   "source": [
    "from bokeh.io import output_notebook\n",
    "from bokeh.io import output_file\n",
    "output_file('gapminder.html')\n",
    "# from bokeh.io import output_notebook\n",
    "# output_notebook(plot)"
   ]
  },
  {
   "cell_type": "code",
   "execution_count": 18,
   "metadata": {},
   "outputs": [
    {
     "name": "stderr",
     "output_type": "stream",
     "text": [
      "WARNING:bokeh.embed.util:\n",
      "You are generating standalone HTML/JS output, but trying to use real Python\n",
      "callbacks (i.e. with on_change or on_event). This combination cannot work.\n",
      "\n",
      "Only JavaScript callbacks may be used with standalone output. For more\n",
      "information on JavaScript callbacks with Bokeh, see:\n",
      "\n",
      "    https://docs.bokeh.org/en/latest/docs/user_guide/interaction/callbacks.html\n",
      "\n",
      "Alternatively, to use real Python callbacks, a Bokeh server application may\n",
      "be used. For more information on building and running Bokeh applications, see:\n",
      "\n",
      "    https://docs.bokeh.org/en/latest/docs/user_guide/server.html\n",
      "\n"
     ]
    },
    {
     "data": {
      "text/plain": [
       "'C:\\\\Users\\\\rosme\\\\Registraduria\\\\Borradores_dashboards\\\\gapminder\\\\custom_filename.html'"
      ]
     },
     "execution_count": 18,
     "metadata": {},
     "output_type": "execute_result"
    }
   ],
   "source": [
    "from bokeh.plotting import figure, output_file, save\n",
    "\n",
    "output_file(filename=\"custom_filename.html\", title=\"Static HTML file\")\n",
    "#save(layout)"
   ]
  }
 ],
 "metadata": {
  "colab": {
   "provenance": []
  },
  "kernelspec": {
   "display_name": "Python 3 (ipykernel)",
   "language": "python",
   "name": "python3"
  },
  "language_info": {
   "codemirror_mode": {
    "name": "ipython",
    "version": 3
   },
   "file_extension": ".py",
   "mimetype": "text/x-python",
   "name": "python",
   "nbconvert_exporter": "python",
   "pygments_lexer": "ipython3",
   "version": "3.10.8"
  }
 },
 "nbformat": 4,
 "nbformat_minor": 4
}
