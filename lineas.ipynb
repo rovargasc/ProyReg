{
 "cells": [
  {
   "cell_type": "code",
   "execution_count": 1,
   "id": "37c629ad-9e28-4f8d-aed8-66b9a860d60c",
   "metadata": {},
   "outputs": [
    {
     "name": "stdout",
     "output_type": "stream",
     "text": [
      "Using data directory: C:\\Users\\rosme\\.bokeh\\data\n",
      "Skipping 'CGM.csv' (checksum match)\n",
      "Skipping 'US_Counties.zip' (checksum match)\n",
      "Skipping 'us_cities.json' (checksum match)\n",
      "Skipping 'unemployment09.csv' (checksum match)\n",
      "Skipping 'AAPL.csv' (checksum match)\n",
      "Skipping 'FB.csv' (checksum match)\n",
      "Skipping 'GOOG.csv' (checksum match)\n",
      "Skipping 'IBM.csv' (checksum match)\n",
      "Skipping 'MSFT.csv' (checksum match)\n",
      "Skipping 'WPP2012_SA_DB03_POPULATION_QUINQUENNIAL.zip' (checksum match)\n",
      "Skipping 'gapminder_fertility.csv' (checksum match)\n",
      "Skipping 'gapminder_population.csv' (checksum match)\n",
      "Skipping 'gapminder_life_expectancy.csv' (checksum match)\n",
      "Skipping 'gapminder_regions.csv' (checksum match)\n",
      "Skipping 'world_cities.zip' (checksum match)\n",
      "Skipping 'airports.json' (checksum match)\n",
      "Skipping 'movies.db.zip' (checksum match)\n",
      "Skipping 'airports.csv' (checksum match)\n",
      "Skipping 'routes.csv' (checksum match)\n",
      "Skipping 'haarcascade_frontalface_default.xml' (checksum match)\n"
     ]
    }
   ],
   "source": [
    "import bokeh.sampledata\n",
    "bokeh.sampledata.download()\n",
    "from bokeh.sampledata.stocks import MSFT\n",
    "from bokeh.models import Button, Slider, DatetimeTickFormatter, Legend\n",
    "from bokeh.plotting import figure, column, row\n",
    "from bokeh.models.ranges import FactorRange\n",
    "from bokeh.io import curdoc\n",
    "\n",
    "import time\n",
    "from functools import partial\n",
    "import pandas as pd\n",
    "\n",
    "## Prepare Data\n",
    "msft_df = pd.DataFrame(MSFT)\n",
    "msft_df[\"date\"] = pd.to_datetime(msft_df[\"date\"])\n",
    "\n",
    "## Create Chart\n",
    "days = 90\n",
    "\n",
    "\n",
    "fig = figure(x_axis_type=\"datetime\", width=900, height=500,\n",
    "             title = \"Microsoft Candlestick Chart\")\n",
    "\n",
    "line1 = fig.line(x=\"date\", y=\"open\", color=\"dodgerblue\", source=msft_df[:days])\n",
    "line2 = fig.line(x=\"date\", y=\"high\", color=\"lime\", source=msft_df[:days])\n",
    "line3 = fig.line(x=\"date\", y=\"low\", color=\"tomato\", source=msft_df[:days])\n",
    "line4 = fig.line(x=\"date\", y=\"close\", color=\"orange\", source=msft_df[:days])\n",
    "\n",
    "fig.xaxis.axis_label=\"Date\"\n",
    "fig.yaxis.axis_label=\"Price ($)\"\n",
    "\n",
    "fig.xaxis.formatter = DatetimeTickFormatter(days=\"%m-%d-%Y\")\n",
    "\n",
    "legend = Legend(items=[\n",
    "    (\"Open\",   [line1]),\n",
    "    (\"High\",   [line2]),\n",
    "    (\"Low\",   [line3]),\n",
    "    (\"Close\",   [line4]),\n",
    "], location=(0, 100))\n",
    "\n",
    "fig.add_layout(legend, 'right')\n",
    "\n",
    "## Define Widgets\n",
    "btn = Button(label=\"Play\")\n",
    "\n",
    "## Define Callbacks\n",
    "curr_cnt = days\n",
    "def update_chart():\n",
    "    global curr_cnt\n",
    "    curr_cnt += 1\n",
    "    if curr_cnt == len(msft_df):\n",
    "        curr_cnt = days\n",
    "\n",
    "    line1.data_source.data = msft_df[curr_cnt-days:curr_cnt]\n",
    "    line2.data_source.data = msft_df[curr_cnt-days:curr_cnt]\n",
    "    line3.data_source.data = msft_df[curr_cnt-days:curr_cnt]\n",
    "    line4.data_source.data = msft_df[curr_cnt-days:curr_cnt]\n",
    "\n",
    "callback = None\n",
    "def execute_animation():\n",
    "    global callback\n",
    "    if btn.label == \"Play\":\n",
    "        btn.label = \"Pause\"\n",
    "        callback = curdoc().add_periodic_callback(update_chart, 200)\n",
    "    else:\n",
    "        btn.label = \"Play\"\n",
    "        curdoc().remove_periodic_callback(callback)\n",
    "\n",
    "\n",
    "## Register Callbacks\n",
    "btn.on_click(execute_animation)\n",
    "\n",
    "## GUI\n",
    "curdoc().add_root(column(btn, fig))"
   ]
  },
  {
   "cell_type": "code",
   "execution_count": 2,
   "id": "d76ba17d-9f59-4e97-ad17-897fb2ee351d",
   "metadata": {},
   "outputs": [
    {
     "name": "stdout",
     "output_type": "stream",
     "text": [
      "^C\n"
     ]
    }
   ],
   "source": [
    "!bokeh serve --show --port 3011 lineas.ipynb"
   ]
  }
 ],
 "metadata": {
  "kernelspec": {
   "display_name": "Python 3 (ipykernel)",
   "language": "python",
   "name": "python3"
  },
  "language_info": {
   "codemirror_mode": {
    "name": "ipython",
    "version": 3
   },
   "file_extension": ".py",
   "mimetype": "text/x-python",
   "name": "python",
   "nbconvert_exporter": "python",
   "pygments_lexer": "ipython3",
   "version": "3.10.8"
  }
 },
 "nbformat": 4,
 "nbformat_minor": 5
}
