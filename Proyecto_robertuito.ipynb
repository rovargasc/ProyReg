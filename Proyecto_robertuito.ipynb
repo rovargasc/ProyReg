{
  "nbformat": 4,
  "nbformat_minor": 0,
  "metadata": {
    "colab": {
      "provenance": []
    },
    "kernelspec": {
      "name": "python3",
      "display_name": "Python 3"
    },
    "language_info": {
      "name": "python"
    },
    "widgets": {
      "application/vnd.jupyter.widget-state+json": {
        "67c0ee8f245e46ffa0fdf8d01d0816a0": {
          "model_module": "@jupyter-widgets/controls",
          "model_name": "HBoxModel",
          "model_module_version": "1.5.0",
          "state": {
            "_dom_classes": [],
            "_model_module": "@jupyter-widgets/controls",
            "_model_module_version": "1.5.0",
            "_model_name": "HBoxModel",
            "_view_count": null,
            "_view_module": "@jupyter-widgets/controls",
            "_view_module_version": "1.5.0",
            "_view_name": "HBoxView",
            "box_style": "",
            "children": [
              "IPY_MODEL_31768c76945e46839a0e85ea900ad5d9",
              "IPY_MODEL_9b934e54fe0d4743a6a95e5fc7bf5112",
              "IPY_MODEL_9f9acac14e4e478d92aa56f6dc43774a"
            ],
            "layout": "IPY_MODEL_aaece8e218034c9bb938ea01fd302ac9"
          }
        },
        "31768c76945e46839a0e85ea900ad5d9": {
          "model_module": "@jupyter-widgets/controls",
          "model_name": "HTMLModel",
          "model_module_version": "1.5.0",
          "state": {
            "_dom_classes": [],
            "_model_module": "@jupyter-widgets/controls",
            "_model_module_version": "1.5.0",
            "_model_name": "HTMLModel",
            "_view_count": null,
            "_view_module": "@jupyter-widgets/controls",
            "_view_module_version": "1.5.0",
            "_view_name": "HTMLView",
            "description": "",
            "description_tooltip": null,
            "layout": "IPY_MODEL_38fe691e77014edb94c95a75f4b8c20a",
            "placeholder": "​",
            "style": "IPY_MODEL_5fd191f48f384496a2454b6087cfe0bf",
            "value": "100%"
          }
        },
        "9b934e54fe0d4743a6a95e5fc7bf5112": {
          "model_module": "@jupyter-widgets/controls",
          "model_name": "FloatProgressModel",
          "model_module_version": "1.5.0",
          "state": {
            "_dom_classes": [],
            "_model_module": "@jupyter-widgets/controls",
            "_model_module_version": "1.5.0",
            "_model_name": "FloatProgressModel",
            "_view_count": null,
            "_view_module": "@jupyter-widgets/controls",
            "_view_module_version": "1.5.0",
            "_view_name": "ProgressView",
            "bar_style": "success",
            "description": "",
            "description_tooltip": null,
            "layout": "IPY_MODEL_bb9b97f85c15452881e2769958df1882",
            "max": 42,
            "min": 0,
            "orientation": "horizontal",
            "style": "IPY_MODEL_067c806c775142609d73e514e1c5ccd2",
            "value": 42
          }
        },
        "9f9acac14e4e478d92aa56f6dc43774a": {
          "model_module": "@jupyter-widgets/controls",
          "model_name": "HTMLModel",
          "model_module_version": "1.5.0",
          "state": {
            "_dom_classes": [],
            "_model_module": "@jupyter-widgets/controls",
            "_model_module_version": "1.5.0",
            "_model_name": "HTMLModel",
            "_view_count": null,
            "_view_module": "@jupyter-widgets/controls",
            "_view_module_version": "1.5.0",
            "_view_name": "HTMLView",
            "description": "",
            "description_tooltip": null,
            "layout": "IPY_MODEL_5fd5ec2e3ce74783b2fdbdf682c5ce8b",
            "placeholder": "​",
            "style": "IPY_MODEL_332d9c17264a478cab92c32c614fb2b6",
            "value": " 42/42 [00:00&lt;00:00, 106.14ba/s]"
          }
        },
        "aaece8e218034c9bb938ea01fd302ac9": {
          "model_module": "@jupyter-widgets/base",
          "model_name": "LayoutModel",
          "model_module_version": "1.2.0",
          "state": {
            "_model_module": "@jupyter-widgets/base",
            "_model_module_version": "1.2.0",
            "_model_name": "LayoutModel",
            "_view_count": null,
            "_view_module": "@jupyter-widgets/base",
            "_view_module_version": "1.2.0",
            "_view_name": "LayoutView",
            "align_content": null,
            "align_items": null,
            "align_self": null,
            "border": null,
            "bottom": null,
            "display": null,
            "flex": null,
            "flex_flow": null,
            "grid_area": null,
            "grid_auto_columns": null,
            "grid_auto_flow": null,
            "grid_auto_rows": null,
            "grid_column": null,
            "grid_gap": null,
            "grid_row": null,
            "grid_template_areas": null,
            "grid_template_columns": null,
            "grid_template_rows": null,
            "height": null,
            "justify_content": null,
            "justify_items": null,
            "left": null,
            "margin": null,
            "max_height": null,
            "max_width": null,
            "min_height": null,
            "min_width": null,
            "object_fit": null,
            "object_position": null,
            "order": null,
            "overflow": null,
            "overflow_x": null,
            "overflow_y": null,
            "padding": null,
            "right": null,
            "top": null,
            "visibility": null,
            "width": null
          }
        },
        "38fe691e77014edb94c95a75f4b8c20a": {
          "model_module": "@jupyter-widgets/base",
          "model_name": "LayoutModel",
          "model_module_version": "1.2.0",
          "state": {
            "_model_module": "@jupyter-widgets/base",
            "_model_module_version": "1.2.0",
            "_model_name": "LayoutModel",
            "_view_count": null,
            "_view_module": "@jupyter-widgets/base",
            "_view_module_version": "1.2.0",
            "_view_name": "LayoutView",
            "align_content": null,
            "align_items": null,
            "align_self": null,
            "border": null,
            "bottom": null,
            "display": null,
            "flex": null,
            "flex_flow": null,
            "grid_area": null,
            "grid_auto_columns": null,
            "grid_auto_flow": null,
            "grid_auto_rows": null,
            "grid_column": null,
            "grid_gap": null,
            "grid_row": null,
            "grid_template_areas": null,
            "grid_template_columns": null,
            "grid_template_rows": null,
            "height": null,
            "justify_content": null,
            "justify_items": null,
            "left": null,
            "margin": null,
            "max_height": null,
            "max_width": null,
            "min_height": null,
            "min_width": null,
            "object_fit": null,
            "object_position": null,
            "order": null,
            "overflow": null,
            "overflow_x": null,
            "overflow_y": null,
            "padding": null,
            "right": null,
            "top": null,
            "visibility": null,
            "width": null
          }
        },
        "5fd191f48f384496a2454b6087cfe0bf": {
          "model_module": "@jupyter-widgets/controls",
          "model_name": "DescriptionStyleModel",
          "model_module_version": "1.5.0",
          "state": {
            "_model_module": "@jupyter-widgets/controls",
            "_model_module_version": "1.5.0",
            "_model_name": "DescriptionStyleModel",
            "_view_count": null,
            "_view_module": "@jupyter-widgets/base",
            "_view_module_version": "1.2.0",
            "_view_name": "StyleView",
            "description_width": ""
          }
        },
        "bb9b97f85c15452881e2769958df1882": {
          "model_module": "@jupyter-widgets/base",
          "model_name": "LayoutModel",
          "model_module_version": "1.2.0",
          "state": {
            "_model_module": "@jupyter-widgets/base",
            "_model_module_version": "1.2.0",
            "_model_name": "LayoutModel",
            "_view_count": null,
            "_view_module": "@jupyter-widgets/base",
            "_view_module_version": "1.2.0",
            "_view_name": "LayoutView",
            "align_content": null,
            "align_items": null,
            "align_self": null,
            "border": null,
            "bottom": null,
            "display": null,
            "flex": null,
            "flex_flow": null,
            "grid_area": null,
            "grid_auto_columns": null,
            "grid_auto_flow": null,
            "grid_auto_rows": null,
            "grid_column": null,
            "grid_gap": null,
            "grid_row": null,
            "grid_template_areas": null,
            "grid_template_columns": null,
            "grid_template_rows": null,
            "height": null,
            "justify_content": null,
            "justify_items": null,
            "left": null,
            "margin": null,
            "max_height": null,
            "max_width": null,
            "min_height": null,
            "min_width": null,
            "object_fit": null,
            "object_position": null,
            "order": null,
            "overflow": null,
            "overflow_x": null,
            "overflow_y": null,
            "padding": null,
            "right": null,
            "top": null,
            "visibility": null,
            "width": null
          }
        },
        "067c806c775142609d73e514e1c5ccd2": {
          "model_module": "@jupyter-widgets/controls",
          "model_name": "ProgressStyleModel",
          "model_module_version": "1.5.0",
          "state": {
            "_model_module": "@jupyter-widgets/controls",
            "_model_module_version": "1.5.0",
            "_model_name": "ProgressStyleModel",
            "_view_count": null,
            "_view_module": "@jupyter-widgets/base",
            "_view_module_version": "1.2.0",
            "_view_name": "StyleView",
            "bar_color": null,
            "description_width": ""
          }
        },
        "5fd5ec2e3ce74783b2fdbdf682c5ce8b": {
          "model_module": "@jupyter-widgets/base",
          "model_name": "LayoutModel",
          "model_module_version": "1.2.0",
          "state": {
            "_model_module": "@jupyter-widgets/base",
            "_model_module_version": "1.2.0",
            "_model_name": "LayoutModel",
            "_view_count": null,
            "_view_module": "@jupyter-widgets/base",
            "_view_module_version": "1.2.0",
            "_view_name": "LayoutView",
            "align_content": null,
            "align_items": null,
            "align_self": null,
            "border": null,
            "bottom": null,
            "display": null,
            "flex": null,
            "flex_flow": null,
            "grid_area": null,
            "grid_auto_columns": null,
            "grid_auto_flow": null,
            "grid_auto_rows": null,
            "grid_column": null,
            "grid_gap": null,
            "grid_row": null,
            "grid_template_areas": null,
            "grid_template_columns": null,
            "grid_template_rows": null,
            "height": null,
            "justify_content": null,
            "justify_items": null,
            "left": null,
            "margin": null,
            "max_height": null,
            "max_width": null,
            "min_height": null,
            "min_width": null,
            "object_fit": null,
            "object_position": null,
            "order": null,
            "overflow": null,
            "overflow_x": null,
            "overflow_y": null,
            "padding": null,
            "right": null,
            "top": null,
            "visibility": null,
            "width": null
          }
        },
        "332d9c17264a478cab92c32c614fb2b6": {
          "model_module": "@jupyter-widgets/controls",
          "model_name": "DescriptionStyleModel",
          "model_module_version": "1.5.0",
          "state": {
            "_model_module": "@jupyter-widgets/controls",
            "_model_module_version": "1.5.0",
            "_model_name": "DescriptionStyleModel",
            "_view_count": null,
            "_view_module": "@jupyter-widgets/base",
            "_view_module_version": "1.2.0",
            "_view_name": "StyleView",
            "description_width": ""
          }
        },
        "f4fa38ab37a840379b739bcb7339518d": {
          "model_module": "@jupyter-widgets/controls",
          "model_name": "HBoxModel",
          "model_module_version": "1.5.0",
          "state": {
            "_dom_classes": [],
            "_model_module": "@jupyter-widgets/controls",
            "_model_module_version": "1.5.0",
            "_model_name": "HBoxModel",
            "_view_count": null,
            "_view_module": "@jupyter-widgets/controls",
            "_view_module_version": "1.5.0",
            "_view_name": "HBoxView",
            "box_style": "",
            "children": [
              "IPY_MODEL_67161e60fcf843d082a023337c96ccf4",
              "IPY_MODEL_e3b51cdc84864e7cb80f67e0e3143430",
              "IPY_MODEL_bd48fcf1dd4b44d3b64d3463601fe615"
            ],
            "layout": "IPY_MODEL_a8da775ec584403bb0b5cf15088567b4"
          }
        },
        "67161e60fcf843d082a023337c96ccf4": {
          "model_module": "@jupyter-widgets/controls",
          "model_name": "HTMLModel",
          "model_module_version": "1.5.0",
          "state": {
            "_dom_classes": [],
            "_model_module": "@jupyter-widgets/controls",
            "_model_module_version": "1.5.0",
            "_model_name": "HTMLModel",
            "_view_count": null,
            "_view_module": "@jupyter-widgets/controls",
            "_view_module_version": "1.5.0",
            "_view_name": "HTMLView",
            "description": "",
            "description_tooltip": null,
            "layout": "IPY_MODEL_0cea3747249c4ee6bce40f0b8458cab4",
            "placeholder": "​",
            "style": "IPY_MODEL_47bfe2e040d34e1ca3154329caac2196",
            "value": "Downloading https://raw.githubusercontent.com/stanfordnlp/stanza-resources/main/resources_1.4.1.json: "
          }
        },
        "e3b51cdc84864e7cb80f67e0e3143430": {
          "model_module": "@jupyter-widgets/controls",
          "model_name": "FloatProgressModel",
          "model_module_version": "1.5.0",
          "state": {
            "_dom_classes": [],
            "_model_module": "@jupyter-widgets/controls",
            "_model_module_version": "1.5.0",
            "_model_name": "FloatProgressModel",
            "_view_count": null,
            "_view_module": "@jupyter-widgets/controls",
            "_view_module_version": "1.5.0",
            "_view_name": "ProgressView",
            "bar_style": "success",
            "description": "",
            "description_tooltip": null,
            "layout": "IPY_MODEL_72f34ca47f064c969ab2625db0f21999",
            "max": 28918,
            "min": 0,
            "orientation": "horizontal",
            "style": "IPY_MODEL_cc28712dd2754882af76b2229568228b",
            "value": 28918
          }
        },
        "bd48fcf1dd4b44d3b64d3463601fe615": {
          "model_module": "@jupyter-widgets/controls",
          "model_name": "HTMLModel",
          "model_module_version": "1.5.0",
          "state": {
            "_dom_classes": [],
            "_model_module": "@jupyter-widgets/controls",
            "_model_module_version": "1.5.0",
            "_model_name": "HTMLModel",
            "_view_count": null,
            "_view_module": "@jupyter-widgets/controls",
            "_view_module_version": "1.5.0",
            "_view_name": "HTMLView",
            "description": "",
            "description_tooltip": null,
            "layout": "IPY_MODEL_0c216fbf9bfc48c5aec9f200928de5cf",
            "placeholder": "​",
            "style": "IPY_MODEL_6ea5945102d84dc68f800a8f7105ff74",
            "value": " 193k/? [00:00&lt;00:00, 1.85MB/s]"
          }
        },
        "a8da775ec584403bb0b5cf15088567b4": {
          "model_module": "@jupyter-widgets/base",
          "model_name": "LayoutModel",
          "model_module_version": "1.2.0",
          "state": {
            "_model_module": "@jupyter-widgets/base",
            "_model_module_version": "1.2.0",
            "_model_name": "LayoutModel",
            "_view_count": null,
            "_view_module": "@jupyter-widgets/base",
            "_view_module_version": "1.2.0",
            "_view_name": "LayoutView",
            "align_content": null,
            "align_items": null,
            "align_self": null,
            "border": null,
            "bottom": null,
            "display": null,
            "flex": null,
            "flex_flow": null,
            "grid_area": null,
            "grid_auto_columns": null,
            "grid_auto_flow": null,
            "grid_auto_rows": null,
            "grid_column": null,
            "grid_gap": null,
            "grid_row": null,
            "grid_template_areas": null,
            "grid_template_columns": null,
            "grid_template_rows": null,
            "height": null,
            "justify_content": null,
            "justify_items": null,
            "left": null,
            "margin": null,
            "max_height": null,
            "max_width": null,
            "min_height": null,
            "min_width": null,
            "object_fit": null,
            "object_position": null,
            "order": null,
            "overflow": null,
            "overflow_x": null,
            "overflow_y": null,
            "padding": null,
            "right": null,
            "top": null,
            "visibility": null,
            "width": null
          }
        },
        "0cea3747249c4ee6bce40f0b8458cab4": {
          "model_module": "@jupyter-widgets/base",
          "model_name": "LayoutModel",
          "model_module_version": "1.2.0",
          "state": {
            "_model_module": "@jupyter-widgets/base",
            "_model_module_version": "1.2.0",
            "_model_name": "LayoutModel",
            "_view_count": null,
            "_view_module": "@jupyter-widgets/base",
            "_view_module_version": "1.2.0",
            "_view_name": "LayoutView",
            "align_content": null,
            "align_items": null,
            "align_self": null,
            "border": null,
            "bottom": null,
            "display": null,
            "flex": null,
            "flex_flow": null,
            "grid_area": null,
            "grid_auto_columns": null,
            "grid_auto_flow": null,
            "grid_auto_rows": null,
            "grid_column": null,
            "grid_gap": null,
            "grid_row": null,
            "grid_template_areas": null,
            "grid_template_columns": null,
            "grid_template_rows": null,
            "height": null,
            "justify_content": null,
            "justify_items": null,
            "left": null,
            "margin": null,
            "max_height": null,
            "max_width": null,
            "min_height": null,
            "min_width": null,
            "object_fit": null,
            "object_position": null,
            "order": null,
            "overflow": null,
            "overflow_x": null,
            "overflow_y": null,
            "padding": null,
            "right": null,
            "top": null,
            "visibility": null,
            "width": null
          }
        },
        "47bfe2e040d34e1ca3154329caac2196": {
          "model_module": "@jupyter-widgets/controls",
          "model_name": "DescriptionStyleModel",
          "model_module_version": "1.5.0",
          "state": {
            "_model_module": "@jupyter-widgets/controls",
            "_model_module_version": "1.5.0",
            "_model_name": "DescriptionStyleModel",
            "_view_count": null,
            "_view_module": "@jupyter-widgets/base",
            "_view_module_version": "1.2.0",
            "_view_name": "StyleView",
            "description_width": ""
          }
        },
        "72f34ca47f064c969ab2625db0f21999": {
          "model_module": "@jupyter-widgets/base",
          "model_name": "LayoutModel",
          "model_module_version": "1.2.0",
          "state": {
            "_model_module": "@jupyter-widgets/base",
            "_model_module_version": "1.2.0",
            "_model_name": "LayoutModel",
            "_view_count": null,
            "_view_module": "@jupyter-widgets/base",
            "_view_module_version": "1.2.0",
            "_view_name": "LayoutView",
            "align_content": null,
            "align_items": null,
            "align_self": null,
            "border": null,
            "bottom": null,
            "display": null,
            "flex": null,
            "flex_flow": null,
            "grid_area": null,
            "grid_auto_columns": null,
            "grid_auto_flow": null,
            "grid_auto_rows": null,
            "grid_column": null,
            "grid_gap": null,
            "grid_row": null,
            "grid_template_areas": null,
            "grid_template_columns": null,
            "grid_template_rows": null,
            "height": null,
            "justify_content": null,
            "justify_items": null,
            "left": null,
            "margin": null,
            "max_height": null,
            "max_width": null,
            "min_height": null,
            "min_width": null,
            "object_fit": null,
            "object_position": null,
            "order": null,
            "overflow": null,
            "overflow_x": null,
            "overflow_y": null,
            "padding": null,
            "right": null,
            "top": null,
            "visibility": null,
            "width": null
          }
        },
        "cc28712dd2754882af76b2229568228b": {
          "model_module": "@jupyter-widgets/controls",
          "model_name": "ProgressStyleModel",
          "model_module_version": "1.5.0",
          "state": {
            "_model_module": "@jupyter-widgets/controls",
            "_model_module_version": "1.5.0",
            "_model_name": "ProgressStyleModel",
            "_view_count": null,
            "_view_module": "@jupyter-widgets/base",
            "_view_module_version": "1.2.0",
            "_view_name": "StyleView",
            "bar_color": null,
            "description_width": ""
          }
        },
        "0c216fbf9bfc48c5aec9f200928de5cf": {
          "model_module": "@jupyter-widgets/base",
          "model_name": "LayoutModel",
          "model_module_version": "1.2.0",
          "state": {
            "_model_module": "@jupyter-widgets/base",
            "_model_module_version": "1.2.0",
            "_model_name": "LayoutModel",
            "_view_count": null,
            "_view_module": "@jupyter-widgets/base",
            "_view_module_version": "1.2.0",
            "_view_name": "LayoutView",
            "align_content": null,
            "align_items": null,
            "align_self": null,
            "border": null,
            "bottom": null,
            "display": null,
            "flex": null,
            "flex_flow": null,
            "grid_area": null,
            "grid_auto_columns": null,
            "grid_auto_flow": null,
            "grid_auto_rows": null,
            "grid_column": null,
            "grid_gap": null,
            "grid_row": null,
            "grid_template_areas": null,
            "grid_template_columns": null,
            "grid_template_rows": null,
            "height": null,
            "justify_content": null,
            "justify_items": null,
            "left": null,
            "margin": null,
            "max_height": null,
            "max_width": null,
            "min_height": null,
            "min_width": null,
            "object_fit": null,
            "object_position": null,
            "order": null,
            "overflow": null,
            "overflow_x": null,
            "overflow_y": null,
            "padding": null,
            "right": null,
            "top": null,
            "visibility": null,
            "width": null
          }
        },
        "6ea5945102d84dc68f800a8f7105ff74": {
          "model_module": "@jupyter-widgets/controls",
          "model_name": "DescriptionStyleModel",
          "model_module_version": "1.5.0",
          "state": {
            "_model_module": "@jupyter-widgets/controls",
            "_model_module_version": "1.5.0",
            "_model_name": "DescriptionStyleModel",
            "_view_count": null,
            "_view_module": "@jupyter-widgets/base",
            "_view_module_version": "1.2.0",
            "_view_name": "StyleView",
            "description_width": ""
          }
        },
        "4bff3718ebf54f86a666946419e6cd2c": {
          "model_module": "@jupyter-widgets/controls",
          "model_name": "HBoxModel",
          "model_module_version": "1.5.0",
          "state": {
            "_dom_classes": [],
            "_model_module": "@jupyter-widgets/controls",
            "_model_module_version": "1.5.0",
            "_model_name": "HBoxModel",
            "_view_count": null,
            "_view_module": "@jupyter-widgets/controls",
            "_view_module_version": "1.5.0",
            "_view_name": "HBoxView",
            "box_style": "",
            "children": [
              "IPY_MODEL_c78309395dcb48e393bb29c090580b8d",
              "IPY_MODEL_e784f87d287b411799e791d9255e2682",
              "IPY_MODEL_3382e7ccf8104875846aa68745e40884"
            ],
            "layout": "IPY_MODEL_8d474d8365734c2db8f6f74ba595482e"
          }
        },
        "c78309395dcb48e393bb29c090580b8d": {
          "model_module": "@jupyter-widgets/controls",
          "model_name": "HTMLModel",
          "model_module_version": "1.5.0",
          "state": {
            "_dom_classes": [],
            "_model_module": "@jupyter-widgets/controls",
            "_model_module_version": "1.5.0",
            "_model_name": "HTMLModel",
            "_view_count": null,
            "_view_module": "@jupyter-widgets/controls",
            "_view_module_version": "1.5.0",
            "_view_name": "HTMLView",
            "description": "",
            "description_tooltip": null,
            "layout": "IPY_MODEL_69e9810e71d9421c982fc85eae74ce46",
            "placeholder": "​",
            "style": "IPY_MODEL_e696b4503e9a4a84a1daf03e256a0439",
            "value": "Downloading https://huggingface.co/stanfordnlp/stanza-es/resolve/v1.4.1/models/tokenize/ancora.pt: 100%"
          }
        },
        "e784f87d287b411799e791d9255e2682": {
          "model_module": "@jupyter-widgets/controls",
          "model_name": "FloatProgressModel",
          "model_module_version": "1.5.0",
          "state": {
            "_dom_classes": [],
            "_model_module": "@jupyter-widgets/controls",
            "_model_module_version": "1.5.0",
            "_model_name": "FloatProgressModel",
            "_view_count": null,
            "_view_module": "@jupyter-widgets/controls",
            "_view_module_version": "1.5.0",
            "_view_name": "ProgressView",
            "bar_style": "success",
            "description": "",
            "description_tooltip": null,
            "layout": "IPY_MODEL_60be671f86124baf85301dc19c890022",
            "max": 635364,
            "min": 0,
            "orientation": "horizontal",
            "style": "IPY_MODEL_d1ebc487bc9240f0bf694d7820639a0f",
            "value": 635364
          }
        },
        "3382e7ccf8104875846aa68745e40884": {
          "model_module": "@jupyter-widgets/controls",
          "model_name": "HTMLModel",
          "model_module_version": "1.5.0",
          "state": {
            "_dom_classes": [],
            "_model_module": "@jupyter-widgets/controls",
            "_model_module_version": "1.5.0",
            "_model_name": "HTMLModel",
            "_view_count": null,
            "_view_module": "@jupyter-widgets/controls",
            "_view_module_version": "1.5.0",
            "_view_name": "HTMLView",
            "description": "",
            "description_tooltip": null,
            "layout": "IPY_MODEL_1ca5a69896274c50bbcd24ce6dbab6d4",
            "placeholder": "​",
            "style": "IPY_MODEL_7ad9e87ff65c445faf3282210fd2f46b",
            "value": " 635k/635k [00:00&lt;00:00, 2.16MB/s]"
          }
        },
        "8d474d8365734c2db8f6f74ba595482e": {
          "model_module": "@jupyter-widgets/base",
          "model_name": "LayoutModel",
          "model_module_version": "1.2.0",
          "state": {
            "_model_module": "@jupyter-widgets/base",
            "_model_module_version": "1.2.0",
            "_model_name": "LayoutModel",
            "_view_count": null,
            "_view_module": "@jupyter-widgets/base",
            "_view_module_version": "1.2.0",
            "_view_name": "LayoutView",
            "align_content": null,
            "align_items": null,
            "align_self": null,
            "border": null,
            "bottom": null,
            "display": null,
            "flex": null,
            "flex_flow": null,
            "grid_area": null,
            "grid_auto_columns": null,
            "grid_auto_flow": null,
            "grid_auto_rows": null,
            "grid_column": null,
            "grid_gap": null,
            "grid_row": null,
            "grid_template_areas": null,
            "grid_template_columns": null,
            "grid_template_rows": null,
            "height": null,
            "justify_content": null,
            "justify_items": null,
            "left": null,
            "margin": null,
            "max_height": null,
            "max_width": null,
            "min_height": null,
            "min_width": null,
            "object_fit": null,
            "object_position": null,
            "order": null,
            "overflow": null,
            "overflow_x": null,
            "overflow_y": null,
            "padding": null,
            "right": null,
            "top": null,
            "visibility": null,
            "width": null
          }
        },
        "69e9810e71d9421c982fc85eae74ce46": {
          "model_module": "@jupyter-widgets/base",
          "model_name": "LayoutModel",
          "model_module_version": "1.2.0",
          "state": {
            "_model_module": "@jupyter-widgets/base",
            "_model_module_version": "1.2.0",
            "_model_name": "LayoutModel",
            "_view_count": null,
            "_view_module": "@jupyter-widgets/base",
            "_view_module_version": "1.2.0",
            "_view_name": "LayoutView",
            "align_content": null,
            "align_items": null,
            "align_self": null,
            "border": null,
            "bottom": null,
            "display": null,
            "flex": null,
            "flex_flow": null,
            "grid_area": null,
            "grid_auto_columns": null,
            "grid_auto_flow": null,
            "grid_auto_rows": null,
            "grid_column": null,
            "grid_gap": null,
            "grid_row": null,
            "grid_template_areas": null,
            "grid_template_columns": null,
            "grid_template_rows": null,
            "height": null,
            "justify_content": null,
            "justify_items": null,
            "left": null,
            "margin": null,
            "max_height": null,
            "max_width": null,
            "min_height": null,
            "min_width": null,
            "object_fit": null,
            "object_position": null,
            "order": null,
            "overflow": null,
            "overflow_x": null,
            "overflow_y": null,
            "padding": null,
            "right": null,
            "top": null,
            "visibility": null,
            "width": null
          }
        },
        "e696b4503e9a4a84a1daf03e256a0439": {
          "model_module": "@jupyter-widgets/controls",
          "model_name": "DescriptionStyleModel",
          "model_module_version": "1.5.0",
          "state": {
            "_model_module": "@jupyter-widgets/controls",
            "_model_module_version": "1.5.0",
            "_model_name": "DescriptionStyleModel",
            "_view_count": null,
            "_view_module": "@jupyter-widgets/base",
            "_view_module_version": "1.2.0",
            "_view_name": "StyleView",
            "description_width": ""
          }
        },
        "60be671f86124baf85301dc19c890022": {
          "model_module": "@jupyter-widgets/base",
          "model_name": "LayoutModel",
          "model_module_version": "1.2.0",
          "state": {
            "_model_module": "@jupyter-widgets/base",
            "_model_module_version": "1.2.0",
            "_model_name": "LayoutModel",
            "_view_count": null,
            "_view_module": "@jupyter-widgets/base",
            "_view_module_version": "1.2.0",
            "_view_name": "LayoutView",
            "align_content": null,
            "align_items": null,
            "align_self": null,
            "border": null,
            "bottom": null,
            "display": null,
            "flex": null,
            "flex_flow": null,
            "grid_area": null,
            "grid_auto_columns": null,
            "grid_auto_flow": null,
            "grid_auto_rows": null,
            "grid_column": null,
            "grid_gap": null,
            "grid_row": null,
            "grid_template_areas": null,
            "grid_template_columns": null,
            "grid_template_rows": null,
            "height": null,
            "justify_content": null,
            "justify_items": null,
            "left": null,
            "margin": null,
            "max_height": null,
            "max_width": null,
            "min_height": null,
            "min_width": null,
            "object_fit": null,
            "object_position": null,
            "order": null,
            "overflow": null,
            "overflow_x": null,
            "overflow_y": null,
            "padding": null,
            "right": null,
            "top": null,
            "visibility": null,
            "width": null
          }
        },
        "d1ebc487bc9240f0bf694d7820639a0f": {
          "model_module": "@jupyter-widgets/controls",
          "model_name": "ProgressStyleModel",
          "model_module_version": "1.5.0",
          "state": {
            "_model_module": "@jupyter-widgets/controls",
            "_model_module_version": "1.5.0",
            "_model_name": "ProgressStyleModel",
            "_view_count": null,
            "_view_module": "@jupyter-widgets/base",
            "_view_module_version": "1.2.0",
            "_view_name": "StyleView",
            "bar_color": null,
            "description_width": ""
          }
        },
        "1ca5a69896274c50bbcd24ce6dbab6d4": {
          "model_module": "@jupyter-widgets/base",
          "model_name": "LayoutModel",
          "model_module_version": "1.2.0",
          "state": {
            "_model_module": "@jupyter-widgets/base",
            "_model_module_version": "1.2.0",
            "_model_name": "LayoutModel",
            "_view_count": null,
            "_view_module": "@jupyter-widgets/base",
            "_view_module_version": "1.2.0",
            "_view_name": "LayoutView",
            "align_content": null,
            "align_items": null,
            "align_self": null,
            "border": null,
            "bottom": null,
            "display": null,
            "flex": null,
            "flex_flow": null,
            "grid_area": null,
            "grid_auto_columns": null,
            "grid_auto_flow": null,
            "grid_auto_rows": null,
            "grid_column": null,
            "grid_gap": null,
            "grid_row": null,
            "grid_template_areas": null,
            "grid_template_columns": null,
            "grid_template_rows": null,
            "height": null,
            "justify_content": null,
            "justify_items": null,
            "left": null,
            "margin": null,
            "max_height": null,
            "max_width": null,
            "min_height": null,
            "min_width": null,
            "object_fit": null,
            "object_position": null,
            "order": null,
            "overflow": null,
            "overflow_x": null,
            "overflow_y": null,
            "padding": null,
            "right": null,
            "top": null,
            "visibility": null,
            "width": null
          }
        },
        "7ad9e87ff65c445faf3282210fd2f46b": {
          "model_module": "@jupyter-widgets/controls",
          "model_name": "DescriptionStyleModel",
          "model_module_version": "1.5.0",
          "state": {
            "_model_module": "@jupyter-widgets/controls",
            "_model_module_version": "1.5.0",
            "_model_name": "DescriptionStyleModel",
            "_view_count": null,
            "_view_module": "@jupyter-widgets/base",
            "_view_module_version": "1.2.0",
            "_view_name": "StyleView",
            "description_width": ""
          }
        },
        "699c07fbc14f4000888f2670a1816838": {
          "model_module": "@jupyter-widgets/controls",
          "model_name": "HBoxModel",
          "model_module_version": "1.5.0",
          "state": {
            "_dom_classes": [],
            "_model_module": "@jupyter-widgets/controls",
            "_model_module_version": "1.5.0",
            "_model_name": "HBoxModel",
            "_view_count": null,
            "_view_module": "@jupyter-widgets/controls",
            "_view_module_version": "1.5.0",
            "_view_name": "HBoxView",
            "box_style": "",
            "children": [
              "IPY_MODEL_26c0e7c5e5044800aa4336b8b4dc4530",
              "IPY_MODEL_234ea0c95ad04a6ca20e7f689b5aef83",
              "IPY_MODEL_19a27c1488f44d8eba48d6f9c520e885"
            ],
            "layout": "IPY_MODEL_6e113bebf38a41b3851a39938d9f767a"
          }
        },
        "26c0e7c5e5044800aa4336b8b4dc4530": {
          "model_module": "@jupyter-widgets/controls",
          "model_name": "HTMLModel",
          "model_module_version": "1.5.0",
          "state": {
            "_dom_classes": [],
            "_model_module": "@jupyter-widgets/controls",
            "_model_module_version": "1.5.0",
            "_model_name": "HTMLModel",
            "_view_count": null,
            "_view_module": "@jupyter-widgets/controls",
            "_view_module_version": "1.5.0",
            "_view_name": "HTMLView",
            "description": "",
            "description_tooltip": null,
            "layout": "IPY_MODEL_790e4abe86524642b44fe164bdbdb18e",
            "placeholder": "​",
            "style": "IPY_MODEL_a7b8e512fbf54bf998f9338b99660180",
            "value": "Downloading https://huggingface.co/stanfordnlp/stanza-es/resolve/v1.4.1/models/mwt/ancora.pt: 100%"
          }
        },
        "234ea0c95ad04a6ca20e7f689b5aef83": {
          "model_module": "@jupyter-widgets/controls",
          "model_name": "FloatProgressModel",
          "model_module_version": "1.5.0",
          "state": {
            "_dom_classes": [],
            "_model_module": "@jupyter-widgets/controls",
            "_model_module_version": "1.5.0",
            "_model_name": "FloatProgressModel",
            "_view_count": null,
            "_view_module": "@jupyter-widgets/controls",
            "_view_module_version": "1.5.0",
            "_view_name": "ProgressView",
            "bar_style": "success",
            "description": "",
            "description_tooltip": null,
            "layout": "IPY_MODEL_9216275af1664b5da031f3bae6fd7142",
            "max": 601112,
            "min": 0,
            "orientation": "horizontal",
            "style": "IPY_MODEL_bc0961ab8a374c0d8a2bed2367ff7cbc",
            "value": 601112
          }
        },
        "19a27c1488f44d8eba48d6f9c520e885": {
          "model_module": "@jupyter-widgets/controls",
          "model_name": "HTMLModel",
          "model_module_version": "1.5.0",
          "state": {
            "_dom_classes": [],
            "_model_module": "@jupyter-widgets/controls",
            "_model_module_version": "1.5.0",
            "_model_name": "HTMLModel",
            "_view_count": null,
            "_view_module": "@jupyter-widgets/controls",
            "_view_module_version": "1.5.0",
            "_view_name": "HTMLView",
            "description": "",
            "description_tooltip": null,
            "layout": "IPY_MODEL_e31140cb134944e093e883f622bb7766",
            "placeholder": "​",
            "style": "IPY_MODEL_fd002ecb3add459591b3950afb0375e2",
            "value": " 601k/601k [00:00&lt;00:00, 2.50MB/s]"
          }
        },
        "6e113bebf38a41b3851a39938d9f767a": {
          "model_module": "@jupyter-widgets/base",
          "model_name": "LayoutModel",
          "model_module_version": "1.2.0",
          "state": {
            "_model_module": "@jupyter-widgets/base",
            "_model_module_version": "1.2.0",
            "_model_name": "LayoutModel",
            "_view_count": null,
            "_view_module": "@jupyter-widgets/base",
            "_view_module_version": "1.2.0",
            "_view_name": "LayoutView",
            "align_content": null,
            "align_items": null,
            "align_self": null,
            "border": null,
            "bottom": null,
            "display": null,
            "flex": null,
            "flex_flow": null,
            "grid_area": null,
            "grid_auto_columns": null,
            "grid_auto_flow": null,
            "grid_auto_rows": null,
            "grid_column": null,
            "grid_gap": null,
            "grid_row": null,
            "grid_template_areas": null,
            "grid_template_columns": null,
            "grid_template_rows": null,
            "height": null,
            "justify_content": null,
            "justify_items": null,
            "left": null,
            "margin": null,
            "max_height": null,
            "max_width": null,
            "min_height": null,
            "min_width": null,
            "object_fit": null,
            "object_position": null,
            "order": null,
            "overflow": null,
            "overflow_x": null,
            "overflow_y": null,
            "padding": null,
            "right": null,
            "top": null,
            "visibility": null,
            "width": null
          }
        },
        "790e4abe86524642b44fe164bdbdb18e": {
          "model_module": "@jupyter-widgets/base",
          "model_name": "LayoutModel",
          "model_module_version": "1.2.0",
          "state": {
            "_model_module": "@jupyter-widgets/base",
            "_model_module_version": "1.2.0",
            "_model_name": "LayoutModel",
            "_view_count": null,
            "_view_module": "@jupyter-widgets/base",
            "_view_module_version": "1.2.0",
            "_view_name": "LayoutView",
            "align_content": null,
            "align_items": null,
            "align_self": null,
            "border": null,
            "bottom": null,
            "display": null,
            "flex": null,
            "flex_flow": null,
            "grid_area": null,
            "grid_auto_columns": null,
            "grid_auto_flow": null,
            "grid_auto_rows": null,
            "grid_column": null,
            "grid_gap": null,
            "grid_row": null,
            "grid_template_areas": null,
            "grid_template_columns": null,
            "grid_template_rows": null,
            "height": null,
            "justify_content": null,
            "justify_items": null,
            "left": null,
            "margin": null,
            "max_height": null,
            "max_width": null,
            "min_height": null,
            "min_width": null,
            "object_fit": null,
            "object_position": null,
            "order": null,
            "overflow": null,
            "overflow_x": null,
            "overflow_y": null,
            "padding": null,
            "right": null,
            "top": null,
            "visibility": null,
            "width": null
          }
        },
        "a7b8e512fbf54bf998f9338b99660180": {
          "model_module": "@jupyter-widgets/controls",
          "model_name": "DescriptionStyleModel",
          "model_module_version": "1.5.0",
          "state": {
            "_model_module": "@jupyter-widgets/controls",
            "_model_module_version": "1.5.0",
            "_model_name": "DescriptionStyleModel",
            "_view_count": null,
            "_view_module": "@jupyter-widgets/base",
            "_view_module_version": "1.2.0",
            "_view_name": "StyleView",
            "description_width": ""
          }
        },
        "9216275af1664b5da031f3bae6fd7142": {
          "model_module": "@jupyter-widgets/base",
          "model_name": "LayoutModel",
          "model_module_version": "1.2.0",
          "state": {
            "_model_module": "@jupyter-widgets/base",
            "_model_module_version": "1.2.0",
            "_model_name": "LayoutModel",
            "_view_count": null,
            "_view_module": "@jupyter-widgets/base",
            "_view_module_version": "1.2.0",
            "_view_name": "LayoutView",
            "align_content": null,
            "align_items": null,
            "align_self": null,
            "border": null,
            "bottom": null,
            "display": null,
            "flex": null,
            "flex_flow": null,
            "grid_area": null,
            "grid_auto_columns": null,
            "grid_auto_flow": null,
            "grid_auto_rows": null,
            "grid_column": null,
            "grid_gap": null,
            "grid_row": null,
            "grid_template_areas": null,
            "grid_template_columns": null,
            "grid_template_rows": null,
            "height": null,
            "justify_content": null,
            "justify_items": null,
            "left": null,
            "margin": null,
            "max_height": null,
            "max_width": null,
            "min_height": null,
            "min_width": null,
            "object_fit": null,
            "object_position": null,
            "order": null,
            "overflow": null,
            "overflow_x": null,
            "overflow_y": null,
            "padding": null,
            "right": null,
            "top": null,
            "visibility": null,
            "width": null
          }
        },
        "bc0961ab8a374c0d8a2bed2367ff7cbc": {
          "model_module": "@jupyter-widgets/controls",
          "model_name": "ProgressStyleModel",
          "model_module_version": "1.5.0",
          "state": {
            "_model_module": "@jupyter-widgets/controls",
            "_model_module_version": "1.5.0",
            "_model_name": "ProgressStyleModel",
            "_view_count": null,
            "_view_module": "@jupyter-widgets/base",
            "_view_module_version": "1.2.0",
            "_view_name": "StyleView",
            "bar_color": null,
            "description_width": ""
          }
        },
        "e31140cb134944e093e883f622bb7766": {
          "model_module": "@jupyter-widgets/base",
          "model_name": "LayoutModel",
          "model_module_version": "1.2.0",
          "state": {
            "_model_module": "@jupyter-widgets/base",
            "_model_module_version": "1.2.0",
            "_model_name": "LayoutModel",
            "_view_count": null,
            "_view_module": "@jupyter-widgets/base",
            "_view_module_version": "1.2.0",
            "_view_name": "LayoutView",
            "align_content": null,
            "align_items": null,
            "align_self": null,
            "border": null,
            "bottom": null,
            "display": null,
            "flex": null,
            "flex_flow": null,
            "grid_area": null,
            "grid_auto_columns": null,
            "grid_auto_flow": null,
            "grid_auto_rows": null,
            "grid_column": null,
            "grid_gap": null,
            "grid_row": null,
            "grid_template_areas": null,
            "grid_template_columns": null,
            "grid_template_rows": null,
            "height": null,
            "justify_content": null,
            "justify_items": null,
            "left": null,
            "margin": null,
            "max_height": null,
            "max_width": null,
            "min_height": null,
            "min_width": null,
            "object_fit": null,
            "object_position": null,
            "order": null,
            "overflow": null,
            "overflow_x": null,
            "overflow_y": null,
            "padding": null,
            "right": null,
            "top": null,
            "visibility": null,
            "width": null
          }
        },
        "fd002ecb3add459591b3950afb0375e2": {
          "model_module": "@jupyter-widgets/controls",
          "model_name": "DescriptionStyleModel",
          "model_module_version": "1.5.0",
          "state": {
            "_model_module": "@jupyter-widgets/controls",
            "_model_module_version": "1.5.0",
            "_model_name": "DescriptionStyleModel",
            "_view_count": null,
            "_view_module": "@jupyter-widgets/base",
            "_view_module_version": "1.2.0",
            "_view_name": "StyleView",
            "description_width": ""
          }
        },
        "0d5051daf954424298f2be3c6922209f": {
          "model_module": "@jupyter-widgets/controls",
          "model_name": "HBoxModel",
          "model_module_version": "1.5.0",
          "state": {
            "_dom_classes": [],
            "_model_module": "@jupyter-widgets/controls",
            "_model_module_version": "1.5.0",
            "_model_name": "HBoxModel",
            "_view_count": null,
            "_view_module": "@jupyter-widgets/controls",
            "_view_module_version": "1.5.0",
            "_view_name": "HBoxView",
            "box_style": "",
            "children": [
              "IPY_MODEL_67b04f218cff40f2b288929ede2ce20b",
              "IPY_MODEL_f7e0c140ba3049e7b79a9c7a4dc103f8",
              "IPY_MODEL_338a5418ca97449a84e978f5d1117799"
            ],
            "layout": "IPY_MODEL_22de1570878f49d6995ffe6db275b49c"
          }
        },
        "67b04f218cff40f2b288929ede2ce20b": {
          "model_module": "@jupyter-widgets/controls",
          "model_name": "HTMLModel",
          "model_module_version": "1.5.0",
          "state": {
            "_dom_classes": [],
            "_model_module": "@jupyter-widgets/controls",
            "_model_module_version": "1.5.0",
            "_model_name": "HTMLModel",
            "_view_count": null,
            "_view_module": "@jupyter-widgets/controls",
            "_view_module_version": "1.5.0",
            "_view_name": "HTMLView",
            "description": "",
            "description_tooltip": null,
            "layout": "IPY_MODEL_baf0a3d3ebcf420db85075cedb07337a",
            "placeholder": "​",
            "style": "IPY_MODEL_d655e86081ae4368a35a184de6baf890",
            "value": "Downloading https://huggingface.co/stanfordnlp/stanza-es/resolve/v1.4.1/models/pos/ancora.pt: 100%"
          }
        },
        "f7e0c140ba3049e7b79a9c7a4dc103f8": {
          "model_module": "@jupyter-widgets/controls",
          "model_name": "FloatProgressModel",
          "model_module_version": "1.5.0",
          "state": {
            "_dom_classes": [],
            "_model_module": "@jupyter-widgets/controls",
            "_model_module_version": "1.5.0",
            "_model_name": "FloatProgressModel",
            "_view_count": null,
            "_view_module": "@jupyter-widgets/controls",
            "_view_module_version": "1.5.0",
            "_view_name": "ProgressView",
            "bar_style": "success",
            "description": "",
            "description_tooltip": null,
            "layout": "IPY_MODEL_957ba3e9d0b14be684933d3bc8ad7c1c",
            "max": 36830109,
            "min": 0,
            "orientation": "horizontal",
            "style": "IPY_MODEL_ece7201b68164ec39f47699f8ea53bc2",
            "value": 36830109
          }
        },
        "338a5418ca97449a84e978f5d1117799": {
          "model_module": "@jupyter-widgets/controls",
          "model_name": "HTMLModel",
          "model_module_version": "1.5.0",
          "state": {
            "_dom_classes": [],
            "_model_module": "@jupyter-widgets/controls",
            "_model_module_version": "1.5.0",
            "_model_name": "HTMLModel",
            "_view_count": null,
            "_view_module": "@jupyter-widgets/controls",
            "_view_module_version": "1.5.0",
            "_view_name": "HTMLView",
            "description": "",
            "description_tooltip": null,
            "layout": "IPY_MODEL_6367ab4302fd4a7c826a98ae9c36f1b5",
            "placeholder": "​",
            "style": "IPY_MODEL_0e84882fbeeb43678d1360cbe159ef02",
            "value": " 36.8M/36.8M [00:00&lt;00:00, 75.1MB/s]"
          }
        },
        "22de1570878f49d6995ffe6db275b49c": {
          "model_module": "@jupyter-widgets/base",
          "model_name": "LayoutModel",
          "model_module_version": "1.2.0",
          "state": {
            "_model_module": "@jupyter-widgets/base",
            "_model_module_version": "1.2.0",
            "_model_name": "LayoutModel",
            "_view_count": null,
            "_view_module": "@jupyter-widgets/base",
            "_view_module_version": "1.2.0",
            "_view_name": "LayoutView",
            "align_content": null,
            "align_items": null,
            "align_self": null,
            "border": null,
            "bottom": null,
            "display": null,
            "flex": null,
            "flex_flow": null,
            "grid_area": null,
            "grid_auto_columns": null,
            "grid_auto_flow": null,
            "grid_auto_rows": null,
            "grid_column": null,
            "grid_gap": null,
            "grid_row": null,
            "grid_template_areas": null,
            "grid_template_columns": null,
            "grid_template_rows": null,
            "height": null,
            "justify_content": null,
            "justify_items": null,
            "left": null,
            "margin": null,
            "max_height": null,
            "max_width": null,
            "min_height": null,
            "min_width": null,
            "object_fit": null,
            "object_position": null,
            "order": null,
            "overflow": null,
            "overflow_x": null,
            "overflow_y": null,
            "padding": null,
            "right": null,
            "top": null,
            "visibility": null,
            "width": null
          }
        },
        "baf0a3d3ebcf420db85075cedb07337a": {
          "model_module": "@jupyter-widgets/base",
          "model_name": "LayoutModel",
          "model_module_version": "1.2.0",
          "state": {
            "_model_module": "@jupyter-widgets/base",
            "_model_module_version": "1.2.0",
            "_model_name": "LayoutModel",
            "_view_count": null,
            "_view_module": "@jupyter-widgets/base",
            "_view_module_version": "1.2.0",
            "_view_name": "LayoutView",
            "align_content": null,
            "align_items": null,
            "align_self": null,
            "border": null,
            "bottom": null,
            "display": null,
            "flex": null,
            "flex_flow": null,
            "grid_area": null,
            "grid_auto_columns": null,
            "grid_auto_flow": null,
            "grid_auto_rows": null,
            "grid_column": null,
            "grid_gap": null,
            "grid_row": null,
            "grid_template_areas": null,
            "grid_template_columns": null,
            "grid_template_rows": null,
            "height": null,
            "justify_content": null,
            "justify_items": null,
            "left": null,
            "margin": null,
            "max_height": null,
            "max_width": null,
            "min_height": null,
            "min_width": null,
            "object_fit": null,
            "object_position": null,
            "order": null,
            "overflow": null,
            "overflow_x": null,
            "overflow_y": null,
            "padding": null,
            "right": null,
            "top": null,
            "visibility": null,
            "width": null
          }
        },
        "d655e86081ae4368a35a184de6baf890": {
          "model_module": "@jupyter-widgets/controls",
          "model_name": "DescriptionStyleModel",
          "model_module_version": "1.5.0",
          "state": {
            "_model_module": "@jupyter-widgets/controls",
            "_model_module_version": "1.5.0",
            "_model_name": "DescriptionStyleModel",
            "_view_count": null,
            "_view_module": "@jupyter-widgets/base",
            "_view_module_version": "1.2.0",
            "_view_name": "StyleView",
            "description_width": ""
          }
        },
        "957ba3e9d0b14be684933d3bc8ad7c1c": {
          "model_module": "@jupyter-widgets/base",
          "model_name": "LayoutModel",
          "model_module_version": "1.2.0",
          "state": {
            "_model_module": "@jupyter-widgets/base",
            "_model_module_version": "1.2.0",
            "_model_name": "LayoutModel",
            "_view_count": null,
            "_view_module": "@jupyter-widgets/base",
            "_view_module_version": "1.2.0",
            "_view_name": "LayoutView",
            "align_content": null,
            "align_items": null,
            "align_self": null,
            "border": null,
            "bottom": null,
            "display": null,
            "flex": null,
            "flex_flow": null,
            "grid_area": null,
            "grid_auto_columns": null,
            "grid_auto_flow": null,
            "grid_auto_rows": null,
            "grid_column": null,
            "grid_gap": null,
            "grid_row": null,
            "grid_template_areas": null,
            "grid_template_columns": null,
            "grid_template_rows": null,
            "height": null,
            "justify_content": null,
            "justify_items": null,
            "left": null,
            "margin": null,
            "max_height": null,
            "max_width": null,
            "min_height": null,
            "min_width": null,
            "object_fit": null,
            "object_position": null,
            "order": null,
            "overflow": null,
            "overflow_x": null,
            "overflow_y": null,
            "padding": null,
            "right": null,
            "top": null,
            "visibility": null,
            "width": null
          }
        },
        "ece7201b68164ec39f47699f8ea53bc2": {
          "model_module": "@jupyter-widgets/controls",
          "model_name": "ProgressStyleModel",
          "model_module_version": "1.5.0",
          "state": {
            "_model_module": "@jupyter-widgets/controls",
            "_model_module_version": "1.5.0",
            "_model_name": "ProgressStyleModel",
            "_view_count": null,
            "_view_module": "@jupyter-widgets/base",
            "_view_module_version": "1.2.0",
            "_view_name": "StyleView",
            "bar_color": null,
            "description_width": ""
          }
        },
        "6367ab4302fd4a7c826a98ae9c36f1b5": {
          "model_module": "@jupyter-widgets/base",
          "model_name": "LayoutModel",
          "model_module_version": "1.2.0",
          "state": {
            "_model_module": "@jupyter-widgets/base",
            "_model_module_version": "1.2.0",
            "_model_name": "LayoutModel",
            "_view_count": null,
            "_view_module": "@jupyter-widgets/base",
            "_view_module_version": "1.2.0",
            "_view_name": "LayoutView",
            "align_content": null,
            "align_items": null,
            "align_self": null,
            "border": null,
            "bottom": null,
            "display": null,
            "flex": null,
            "flex_flow": null,
            "grid_area": null,
            "grid_auto_columns": null,
            "grid_auto_flow": null,
            "grid_auto_rows": null,
            "grid_column": null,
            "grid_gap": null,
            "grid_row": null,
            "grid_template_areas": null,
            "grid_template_columns": null,
            "grid_template_rows": null,
            "height": null,
            "justify_content": null,
            "justify_items": null,
            "left": null,
            "margin": null,
            "max_height": null,
            "max_width": null,
            "min_height": null,
            "min_width": null,
            "object_fit": null,
            "object_position": null,
            "order": null,
            "overflow": null,
            "overflow_x": null,
            "overflow_y": null,
            "padding": null,
            "right": null,
            "top": null,
            "visibility": null,
            "width": null
          }
        },
        "0e84882fbeeb43678d1360cbe159ef02": {
          "model_module": "@jupyter-widgets/controls",
          "model_name": "DescriptionStyleModel",
          "model_module_version": "1.5.0",
          "state": {
            "_model_module": "@jupyter-widgets/controls",
            "_model_module_version": "1.5.0",
            "_model_name": "DescriptionStyleModel",
            "_view_count": null,
            "_view_module": "@jupyter-widgets/base",
            "_view_module_version": "1.2.0",
            "_view_name": "StyleView",
            "description_width": ""
          }
        },
        "fdd45e1ba28d44ecae83338ad83a198c": {
          "model_module": "@jupyter-widgets/controls",
          "model_name": "HBoxModel",
          "model_module_version": "1.5.0",
          "state": {
            "_dom_classes": [],
            "_model_module": "@jupyter-widgets/controls",
            "_model_module_version": "1.5.0",
            "_model_name": "HBoxModel",
            "_view_count": null,
            "_view_module": "@jupyter-widgets/controls",
            "_view_module_version": "1.5.0",
            "_view_name": "HBoxView",
            "box_style": "",
            "children": [
              "IPY_MODEL_8fae77d908d04d48b1e5b4f6d0602b70",
              "IPY_MODEL_7bb954c1e9b845afb1e1e68d61f35a17",
              "IPY_MODEL_8d18204c553644dca3dbd5c7f7e4ea7d"
            ],
            "layout": "IPY_MODEL_f1f5350c5d374f739ffcedd0d9e3011e"
          }
        },
        "8fae77d908d04d48b1e5b4f6d0602b70": {
          "model_module": "@jupyter-widgets/controls",
          "model_name": "HTMLModel",
          "model_module_version": "1.5.0",
          "state": {
            "_dom_classes": [],
            "_model_module": "@jupyter-widgets/controls",
            "_model_module_version": "1.5.0",
            "_model_name": "HTMLModel",
            "_view_count": null,
            "_view_module": "@jupyter-widgets/controls",
            "_view_module_version": "1.5.0",
            "_view_name": "HTMLView",
            "description": "",
            "description_tooltip": null,
            "layout": "IPY_MODEL_babb2737a6004b32b0a0ece002bb64c0",
            "placeholder": "​",
            "style": "IPY_MODEL_e25f45fcccb648b9b2f68a2714e030f4",
            "value": "Downloading https://huggingface.co/stanfordnlp/stanza-es/resolve/v1.4.1/models/lemma/ancora.pt: 100%"
          }
        },
        "7bb954c1e9b845afb1e1e68d61f35a17": {
          "model_module": "@jupyter-widgets/controls",
          "model_name": "FloatProgressModel",
          "model_module_version": "1.5.0",
          "state": {
            "_dom_classes": [],
            "_model_module": "@jupyter-widgets/controls",
            "_model_module_version": "1.5.0",
            "_model_name": "FloatProgressModel",
            "_view_count": null,
            "_view_module": "@jupyter-widgets/controls",
            "_view_module_version": "1.5.0",
            "_view_name": "ProgressView",
            "bar_style": "success",
            "description": "",
            "description_tooltip": null,
            "layout": "IPY_MODEL_4548705a94994c1cbde490a1f02e9050",
            "max": 4607916,
            "min": 0,
            "orientation": "horizontal",
            "style": "IPY_MODEL_4515805ffc2c4cd5b53af5cc9086633d",
            "value": 4607916
          }
        },
        "8d18204c553644dca3dbd5c7f7e4ea7d": {
          "model_module": "@jupyter-widgets/controls",
          "model_name": "HTMLModel",
          "model_module_version": "1.5.0",
          "state": {
            "_dom_classes": [],
            "_model_module": "@jupyter-widgets/controls",
            "_model_module_version": "1.5.0",
            "_model_name": "HTMLModel",
            "_view_count": null,
            "_view_module": "@jupyter-widgets/controls",
            "_view_module_version": "1.5.0",
            "_view_name": "HTMLView",
            "description": "",
            "description_tooltip": null,
            "layout": "IPY_MODEL_ffd3dfeebc5644fbb9d30b25dcd842c9",
            "placeholder": "​",
            "style": "IPY_MODEL_f45459ded44d46018bdcb387841d9d56",
            "value": " 4.61M/4.61M [00:00&lt;00:00, 11.0MB/s]"
          }
        },
        "f1f5350c5d374f739ffcedd0d9e3011e": {
          "model_module": "@jupyter-widgets/base",
          "model_name": "LayoutModel",
          "model_module_version": "1.2.0",
          "state": {
            "_model_module": "@jupyter-widgets/base",
            "_model_module_version": "1.2.0",
            "_model_name": "LayoutModel",
            "_view_count": null,
            "_view_module": "@jupyter-widgets/base",
            "_view_module_version": "1.2.0",
            "_view_name": "LayoutView",
            "align_content": null,
            "align_items": null,
            "align_self": null,
            "border": null,
            "bottom": null,
            "display": null,
            "flex": null,
            "flex_flow": null,
            "grid_area": null,
            "grid_auto_columns": null,
            "grid_auto_flow": null,
            "grid_auto_rows": null,
            "grid_column": null,
            "grid_gap": null,
            "grid_row": null,
            "grid_template_areas": null,
            "grid_template_columns": null,
            "grid_template_rows": null,
            "height": null,
            "justify_content": null,
            "justify_items": null,
            "left": null,
            "margin": null,
            "max_height": null,
            "max_width": null,
            "min_height": null,
            "min_width": null,
            "object_fit": null,
            "object_position": null,
            "order": null,
            "overflow": null,
            "overflow_x": null,
            "overflow_y": null,
            "padding": null,
            "right": null,
            "top": null,
            "visibility": null,
            "width": null
          }
        },
        "babb2737a6004b32b0a0ece002bb64c0": {
          "model_module": "@jupyter-widgets/base",
          "model_name": "LayoutModel",
          "model_module_version": "1.2.0",
          "state": {
            "_model_module": "@jupyter-widgets/base",
            "_model_module_version": "1.2.0",
            "_model_name": "LayoutModel",
            "_view_count": null,
            "_view_module": "@jupyter-widgets/base",
            "_view_module_version": "1.2.0",
            "_view_name": "LayoutView",
            "align_content": null,
            "align_items": null,
            "align_self": null,
            "border": null,
            "bottom": null,
            "display": null,
            "flex": null,
            "flex_flow": null,
            "grid_area": null,
            "grid_auto_columns": null,
            "grid_auto_flow": null,
            "grid_auto_rows": null,
            "grid_column": null,
            "grid_gap": null,
            "grid_row": null,
            "grid_template_areas": null,
            "grid_template_columns": null,
            "grid_template_rows": null,
            "height": null,
            "justify_content": null,
            "justify_items": null,
            "left": null,
            "margin": null,
            "max_height": null,
            "max_width": null,
            "min_height": null,
            "min_width": null,
            "object_fit": null,
            "object_position": null,
            "order": null,
            "overflow": null,
            "overflow_x": null,
            "overflow_y": null,
            "padding": null,
            "right": null,
            "top": null,
            "visibility": null,
            "width": null
          }
        },
        "e25f45fcccb648b9b2f68a2714e030f4": {
          "model_module": "@jupyter-widgets/controls",
          "model_name": "DescriptionStyleModel",
          "model_module_version": "1.5.0",
          "state": {
            "_model_module": "@jupyter-widgets/controls",
            "_model_module_version": "1.5.0",
            "_model_name": "DescriptionStyleModel",
            "_view_count": null,
            "_view_module": "@jupyter-widgets/base",
            "_view_module_version": "1.2.0",
            "_view_name": "StyleView",
            "description_width": ""
          }
        },
        "4548705a94994c1cbde490a1f02e9050": {
          "model_module": "@jupyter-widgets/base",
          "model_name": "LayoutModel",
          "model_module_version": "1.2.0",
          "state": {
            "_model_module": "@jupyter-widgets/base",
            "_model_module_version": "1.2.0",
            "_model_name": "LayoutModel",
            "_view_count": null,
            "_view_module": "@jupyter-widgets/base",
            "_view_module_version": "1.2.0",
            "_view_name": "LayoutView",
            "align_content": null,
            "align_items": null,
            "align_self": null,
            "border": null,
            "bottom": null,
            "display": null,
            "flex": null,
            "flex_flow": null,
            "grid_area": null,
            "grid_auto_columns": null,
            "grid_auto_flow": null,
            "grid_auto_rows": null,
            "grid_column": null,
            "grid_gap": null,
            "grid_row": null,
            "grid_template_areas": null,
            "grid_template_columns": null,
            "grid_template_rows": null,
            "height": null,
            "justify_content": null,
            "justify_items": null,
            "left": null,
            "margin": null,
            "max_height": null,
            "max_width": null,
            "min_height": null,
            "min_width": null,
            "object_fit": null,
            "object_position": null,
            "order": null,
            "overflow": null,
            "overflow_x": null,
            "overflow_y": null,
            "padding": null,
            "right": null,
            "top": null,
            "visibility": null,
            "width": null
          }
        },
        "4515805ffc2c4cd5b53af5cc9086633d": {
          "model_module": "@jupyter-widgets/controls",
          "model_name": "ProgressStyleModel",
          "model_module_version": "1.5.0",
          "state": {
            "_model_module": "@jupyter-widgets/controls",
            "_model_module_version": "1.5.0",
            "_model_name": "ProgressStyleModel",
            "_view_count": null,
            "_view_module": "@jupyter-widgets/base",
            "_view_module_version": "1.2.0",
            "_view_name": "StyleView",
            "bar_color": null,
            "description_width": ""
          }
        },
        "ffd3dfeebc5644fbb9d30b25dcd842c9": {
          "model_module": "@jupyter-widgets/base",
          "model_name": "LayoutModel",
          "model_module_version": "1.2.0",
          "state": {
            "_model_module": "@jupyter-widgets/base",
            "_model_module_version": "1.2.0",
            "_model_name": "LayoutModel",
            "_view_count": null,
            "_view_module": "@jupyter-widgets/base",
            "_view_module_version": "1.2.0",
            "_view_name": "LayoutView",
            "align_content": null,
            "align_items": null,
            "align_self": null,
            "border": null,
            "bottom": null,
            "display": null,
            "flex": null,
            "flex_flow": null,
            "grid_area": null,
            "grid_auto_columns": null,
            "grid_auto_flow": null,
            "grid_auto_rows": null,
            "grid_column": null,
            "grid_gap": null,
            "grid_row": null,
            "grid_template_areas": null,
            "grid_template_columns": null,
            "grid_template_rows": null,
            "height": null,
            "justify_content": null,
            "justify_items": null,
            "left": null,
            "margin": null,
            "max_height": null,
            "max_width": null,
            "min_height": null,
            "min_width": null,
            "object_fit": null,
            "object_position": null,
            "order": null,
            "overflow": null,
            "overflow_x": null,
            "overflow_y": null,
            "padding": null,
            "right": null,
            "top": null,
            "visibility": null,
            "width": null
          }
        },
        "f45459ded44d46018bdcb387841d9d56": {
          "model_module": "@jupyter-widgets/controls",
          "model_name": "DescriptionStyleModel",
          "model_module_version": "1.5.0",
          "state": {
            "_model_module": "@jupyter-widgets/controls",
            "_model_module_version": "1.5.0",
            "_model_name": "DescriptionStyleModel",
            "_view_count": null,
            "_view_module": "@jupyter-widgets/base",
            "_view_module_version": "1.2.0",
            "_view_name": "StyleView",
            "description_width": ""
          }
        },
        "43dc0e5d1ac8433199bf1cf252527cd7": {
          "model_module": "@jupyter-widgets/controls",
          "model_name": "HBoxModel",
          "model_module_version": "1.5.0",
          "state": {
            "_dom_classes": [],
            "_model_module": "@jupyter-widgets/controls",
            "_model_module_version": "1.5.0",
            "_model_name": "HBoxModel",
            "_view_count": null,
            "_view_module": "@jupyter-widgets/controls",
            "_view_module_version": "1.5.0",
            "_view_name": "HBoxView",
            "box_style": "",
            "children": [
              "IPY_MODEL_bd2fccf26bf14b63be2b957cee0bce36",
              "IPY_MODEL_a7e59f9eff5f4327b41707bf7c718fd7",
              "IPY_MODEL_0e1df058e6a548829d060e6df8d22f2b"
            ],
            "layout": "IPY_MODEL_7cfa27feadf24e30ae9403f70e8b5796"
          }
        },
        "bd2fccf26bf14b63be2b957cee0bce36": {
          "model_module": "@jupyter-widgets/controls",
          "model_name": "HTMLModel",
          "model_module_version": "1.5.0",
          "state": {
            "_dom_classes": [],
            "_model_module": "@jupyter-widgets/controls",
            "_model_module_version": "1.5.0",
            "_model_name": "HTMLModel",
            "_view_count": null,
            "_view_module": "@jupyter-widgets/controls",
            "_view_module_version": "1.5.0",
            "_view_name": "HTMLView",
            "description": "",
            "description_tooltip": null,
            "layout": "IPY_MODEL_be2190050af44d5d891275877b010c3e",
            "placeholder": "​",
            "style": "IPY_MODEL_be809fa72eef41ffa80406b57fef01f6",
            "value": "Downloading https://huggingface.co/stanfordnlp/stanza-es/resolve/v1.4.1/models/pretrain/ancora.pt: 100%"
          }
        },
        "a7e59f9eff5f4327b41707bf7c718fd7": {
          "model_module": "@jupyter-widgets/controls",
          "model_name": "FloatProgressModel",
          "model_module_version": "1.5.0",
          "state": {
            "_dom_classes": [],
            "_model_module": "@jupyter-widgets/controls",
            "_model_module_version": "1.5.0",
            "_model_name": "FloatProgressModel",
            "_view_count": null,
            "_view_module": "@jupyter-widgets/controls",
            "_view_module_version": "1.5.0",
            "_view_name": "ProgressView",
            "bar_style": "success",
            "description": "",
            "description_tooltip": null,
            "layout": "IPY_MODEL_21080a28394d4cfa8efae41de1a06dce",
            "max": 106892736,
            "min": 0,
            "orientation": "horizontal",
            "style": "IPY_MODEL_f62aee1bed8e41f6bd558e1947faa355",
            "value": 106892736
          }
        },
        "0e1df058e6a548829d060e6df8d22f2b": {
          "model_module": "@jupyter-widgets/controls",
          "model_name": "HTMLModel",
          "model_module_version": "1.5.0",
          "state": {
            "_dom_classes": [],
            "_model_module": "@jupyter-widgets/controls",
            "_model_module_version": "1.5.0",
            "_model_name": "HTMLModel",
            "_view_count": null,
            "_view_module": "@jupyter-widgets/controls",
            "_view_module_version": "1.5.0",
            "_view_name": "HTMLView",
            "description": "",
            "description_tooltip": null,
            "layout": "IPY_MODEL_e1e1625978734431b28e3b9eb1e29c82",
            "placeholder": "​",
            "style": "IPY_MODEL_617f54a2230747b4877e9b7fa2d1f3a2",
            "value": " 107M/107M [00:01&lt;00:00, 98.9MB/s]"
          }
        },
        "7cfa27feadf24e30ae9403f70e8b5796": {
          "model_module": "@jupyter-widgets/base",
          "model_name": "LayoutModel",
          "model_module_version": "1.2.0",
          "state": {
            "_model_module": "@jupyter-widgets/base",
            "_model_module_version": "1.2.0",
            "_model_name": "LayoutModel",
            "_view_count": null,
            "_view_module": "@jupyter-widgets/base",
            "_view_module_version": "1.2.0",
            "_view_name": "LayoutView",
            "align_content": null,
            "align_items": null,
            "align_self": null,
            "border": null,
            "bottom": null,
            "display": null,
            "flex": null,
            "flex_flow": null,
            "grid_area": null,
            "grid_auto_columns": null,
            "grid_auto_flow": null,
            "grid_auto_rows": null,
            "grid_column": null,
            "grid_gap": null,
            "grid_row": null,
            "grid_template_areas": null,
            "grid_template_columns": null,
            "grid_template_rows": null,
            "height": null,
            "justify_content": null,
            "justify_items": null,
            "left": null,
            "margin": null,
            "max_height": null,
            "max_width": null,
            "min_height": null,
            "min_width": null,
            "object_fit": null,
            "object_position": null,
            "order": null,
            "overflow": null,
            "overflow_x": null,
            "overflow_y": null,
            "padding": null,
            "right": null,
            "top": null,
            "visibility": null,
            "width": null
          }
        },
        "be2190050af44d5d891275877b010c3e": {
          "model_module": "@jupyter-widgets/base",
          "model_name": "LayoutModel",
          "model_module_version": "1.2.0",
          "state": {
            "_model_module": "@jupyter-widgets/base",
            "_model_module_version": "1.2.0",
            "_model_name": "LayoutModel",
            "_view_count": null,
            "_view_module": "@jupyter-widgets/base",
            "_view_module_version": "1.2.0",
            "_view_name": "LayoutView",
            "align_content": null,
            "align_items": null,
            "align_self": null,
            "border": null,
            "bottom": null,
            "display": null,
            "flex": null,
            "flex_flow": null,
            "grid_area": null,
            "grid_auto_columns": null,
            "grid_auto_flow": null,
            "grid_auto_rows": null,
            "grid_column": null,
            "grid_gap": null,
            "grid_row": null,
            "grid_template_areas": null,
            "grid_template_columns": null,
            "grid_template_rows": null,
            "height": null,
            "justify_content": null,
            "justify_items": null,
            "left": null,
            "margin": null,
            "max_height": null,
            "max_width": null,
            "min_height": null,
            "min_width": null,
            "object_fit": null,
            "object_position": null,
            "order": null,
            "overflow": null,
            "overflow_x": null,
            "overflow_y": null,
            "padding": null,
            "right": null,
            "top": null,
            "visibility": null,
            "width": null
          }
        },
        "be809fa72eef41ffa80406b57fef01f6": {
          "model_module": "@jupyter-widgets/controls",
          "model_name": "DescriptionStyleModel",
          "model_module_version": "1.5.0",
          "state": {
            "_model_module": "@jupyter-widgets/controls",
            "_model_module_version": "1.5.0",
            "_model_name": "DescriptionStyleModel",
            "_view_count": null,
            "_view_module": "@jupyter-widgets/base",
            "_view_module_version": "1.2.0",
            "_view_name": "StyleView",
            "description_width": ""
          }
        },
        "21080a28394d4cfa8efae41de1a06dce": {
          "model_module": "@jupyter-widgets/base",
          "model_name": "LayoutModel",
          "model_module_version": "1.2.0",
          "state": {
            "_model_module": "@jupyter-widgets/base",
            "_model_module_version": "1.2.0",
            "_model_name": "LayoutModel",
            "_view_count": null,
            "_view_module": "@jupyter-widgets/base",
            "_view_module_version": "1.2.0",
            "_view_name": "LayoutView",
            "align_content": null,
            "align_items": null,
            "align_self": null,
            "border": null,
            "bottom": null,
            "display": null,
            "flex": null,
            "flex_flow": null,
            "grid_area": null,
            "grid_auto_columns": null,
            "grid_auto_flow": null,
            "grid_auto_rows": null,
            "grid_column": null,
            "grid_gap": null,
            "grid_row": null,
            "grid_template_areas": null,
            "grid_template_columns": null,
            "grid_template_rows": null,
            "height": null,
            "justify_content": null,
            "justify_items": null,
            "left": null,
            "margin": null,
            "max_height": null,
            "max_width": null,
            "min_height": null,
            "min_width": null,
            "object_fit": null,
            "object_position": null,
            "order": null,
            "overflow": null,
            "overflow_x": null,
            "overflow_y": null,
            "padding": null,
            "right": null,
            "top": null,
            "visibility": null,
            "width": null
          }
        },
        "f62aee1bed8e41f6bd558e1947faa355": {
          "model_module": "@jupyter-widgets/controls",
          "model_name": "ProgressStyleModel",
          "model_module_version": "1.5.0",
          "state": {
            "_model_module": "@jupyter-widgets/controls",
            "_model_module_version": "1.5.0",
            "_model_name": "ProgressStyleModel",
            "_view_count": null,
            "_view_module": "@jupyter-widgets/base",
            "_view_module_version": "1.2.0",
            "_view_name": "StyleView",
            "bar_color": null,
            "description_width": ""
          }
        },
        "e1e1625978734431b28e3b9eb1e29c82": {
          "model_module": "@jupyter-widgets/base",
          "model_name": "LayoutModel",
          "model_module_version": "1.2.0",
          "state": {
            "_model_module": "@jupyter-widgets/base",
            "_model_module_version": "1.2.0",
            "_model_name": "LayoutModel",
            "_view_count": null,
            "_view_module": "@jupyter-widgets/base",
            "_view_module_version": "1.2.0",
            "_view_name": "LayoutView",
            "align_content": null,
            "align_items": null,
            "align_self": null,
            "border": null,
            "bottom": null,
            "display": null,
            "flex": null,
            "flex_flow": null,
            "grid_area": null,
            "grid_auto_columns": null,
            "grid_auto_flow": null,
            "grid_auto_rows": null,
            "grid_column": null,
            "grid_gap": null,
            "grid_row": null,
            "grid_template_areas": null,
            "grid_template_columns": null,
            "grid_template_rows": null,
            "height": null,
            "justify_content": null,
            "justify_items": null,
            "left": null,
            "margin": null,
            "max_height": null,
            "max_width": null,
            "min_height": null,
            "min_width": null,
            "object_fit": null,
            "object_position": null,
            "order": null,
            "overflow": null,
            "overflow_x": null,
            "overflow_y": null,
            "padding": null,
            "right": null,
            "top": null,
            "visibility": null,
            "width": null
          }
        },
        "617f54a2230747b4877e9b7fa2d1f3a2": {
          "model_module": "@jupyter-widgets/controls",
          "model_name": "DescriptionStyleModel",
          "model_module_version": "1.5.0",
          "state": {
            "_model_module": "@jupyter-widgets/controls",
            "_model_module_version": "1.5.0",
            "_model_name": "DescriptionStyleModel",
            "_view_count": null,
            "_view_module": "@jupyter-widgets/base",
            "_view_module_version": "1.2.0",
            "_view_name": "StyleView",
            "description_width": ""
          }
        },
        "8232c3311915415191a314449e85d79a": {
          "model_module": "@jupyter-widgets/controls",
          "model_name": "HBoxModel",
          "model_module_version": "1.5.0",
          "state": {
            "_dom_classes": [],
            "_model_module": "@jupyter-widgets/controls",
            "_model_module_version": "1.5.0",
            "_model_name": "HBoxModel",
            "_view_count": null,
            "_view_module": "@jupyter-widgets/controls",
            "_view_module_version": "1.5.0",
            "_view_name": "HBoxView",
            "box_style": "",
            "children": [
              "IPY_MODEL_5f44d3951e934365b54856635d951a97",
              "IPY_MODEL_69578d1090ec43aca5e2464eab0b8082",
              "IPY_MODEL_c660d776528d4adb93abde981b606422"
            ],
            "layout": "IPY_MODEL_67a295c001474ed386a9aa38d1a8ac66"
          }
        },
        "5f44d3951e934365b54856635d951a97": {
          "model_module": "@jupyter-widgets/controls",
          "model_name": "HTMLModel",
          "model_module_version": "1.5.0",
          "state": {
            "_dom_classes": [],
            "_model_module": "@jupyter-widgets/controls",
            "_model_module_version": "1.5.0",
            "_model_name": "HTMLModel",
            "_view_count": null,
            "_view_module": "@jupyter-widgets/controls",
            "_view_module_version": "1.5.0",
            "_view_name": "HTMLView",
            "description": "",
            "description_tooltip": null,
            "layout": "IPY_MODEL_1e9aa7db79904f4fbc48e0bcfc642ca5",
            "placeholder": "​",
            "style": "IPY_MODEL_db1769503f4244f9b94dc326023404aa",
            "value": "Downloading https://huggingface.co/stanfordnlp/stanza-es/resolve/v1.4.1/models/backward_charlm/newswiki.pt: 100%"
          }
        },
        "69578d1090ec43aca5e2464eab0b8082": {
          "model_module": "@jupyter-widgets/controls",
          "model_name": "FloatProgressModel",
          "model_module_version": "1.5.0",
          "state": {
            "_dom_classes": [],
            "_model_module": "@jupyter-widgets/controls",
            "_model_module_version": "1.5.0",
            "_model_name": "FloatProgressModel",
            "_view_count": null,
            "_view_module": "@jupyter-widgets/controls",
            "_view_module_version": "1.5.0",
            "_view_name": "ProgressView",
            "bar_style": "success",
            "description": "",
            "description_tooltip": null,
            "layout": "IPY_MODEL_005d67e1808347f8aa345be572bf2e0c",
            "max": 20012708,
            "min": 0,
            "orientation": "horizontal",
            "style": "IPY_MODEL_03e9df3e23a64777b3312574edc01700",
            "value": 20012708
          }
        },
        "c660d776528d4adb93abde981b606422": {
          "model_module": "@jupyter-widgets/controls",
          "model_name": "HTMLModel",
          "model_module_version": "1.5.0",
          "state": {
            "_dom_classes": [],
            "_model_module": "@jupyter-widgets/controls",
            "_model_module_version": "1.5.0",
            "_model_name": "HTMLModel",
            "_view_count": null,
            "_view_module": "@jupyter-widgets/controls",
            "_view_module_version": "1.5.0",
            "_view_name": "HTMLView",
            "description": "",
            "description_tooltip": null,
            "layout": "IPY_MODEL_048781975c54497ea43730ff5cae54e6",
            "placeholder": "​",
            "style": "IPY_MODEL_80a5734ce98a4d649aa2d4b584021f57",
            "value": " 20.0M/20.0M [00:00&lt;00:00, 41.5MB/s]"
          }
        },
        "67a295c001474ed386a9aa38d1a8ac66": {
          "model_module": "@jupyter-widgets/base",
          "model_name": "LayoutModel",
          "model_module_version": "1.2.0",
          "state": {
            "_model_module": "@jupyter-widgets/base",
            "_model_module_version": "1.2.0",
            "_model_name": "LayoutModel",
            "_view_count": null,
            "_view_module": "@jupyter-widgets/base",
            "_view_module_version": "1.2.0",
            "_view_name": "LayoutView",
            "align_content": null,
            "align_items": null,
            "align_self": null,
            "border": null,
            "bottom": null,
            "display": null,
            "flex": null,
            "flex_flow": null,
            "grid_area": null,
            "grid_auto_columns": null,
            "grid_auto_flow": null,
            "grid_auto_rows": null,
            "grid_column": null,
            "grid_gap": null,
            "grid_row": null,
            "grid_template_areas": null,
            "grid_template_columns": null,
            "grid_template_rows": null,
            "height": null,
            "justify_content": null,
            "justify_items": null,
            "left": null,
            "margin": null,
            "max_height": null,
            "max_width": null,
            "min_height": null,
            "min_width": null,
            "object_fit": null,
            "object_position": null,
            "order": null,
            "overflow": null,
            "overflow_x": null,
            "overflow_y": null,
            "padding": null,
            "right": null,
            "top": null,
            "visibility": null,
            "width": null
          }
        },
        "1e9aa7db79904f4fbc48e0bcfc642ca5": {
          "model_module": "@jupyter-widgets/base",
          "model_name": "LayoutModel",
          "model_module_version": "1.2.0",
          "state": {
            "_model_module": "@jupyter-widgets/base",
            "_model_module_version": "1.2.0",
            "_model_name": "LayoutModel",
            "_view_count": null,
            "_view_module": "@jupyter-widgets/base",
            "_view_module_version": "1.2.0",
            "_view_name": "LayoutView",
            "align_content": null,
            "align_items": null,
            "align_self": null,
            "border": null,
            "bottom": null,
            "display": null,
            "flex": null,
            "flex_flow": null,
            "grid_area": null,
            "grid_auto_columns": null,
            "grid_auto_flow": null,
            "grid_auto_rows": null,
            "grid_column": null,
            "grid_gap": null,
            "grid_row": null,
            "grid_template_areas": null,
            "grid_template_columns": null,
            "grid_template_rows": null,
            "height": null,
            "justify_content": null,
            "justify_items": null,
            "left": null,
            "margin": null,
            "max_height": null,
            "max_width": null,
            "min_height": null,
            "min_width": null,
            "object_fit": null,
            "object_position": null,
            "order": null,
            "overflow": null,
            "overflow_x": null,
            "overflow_y": null,
            "padding": null,
            "right": null,
            "top": null,
            "visibility": null,
            "width": null
          }
        },
        "db1769503f4244f9b94dc326023404aa": {
          "model_module": "@jupyter-widgets/controls",
          "model_name": "DescriptionStyleModel",
          "model_module_version": "1.5.0",
          "state": {
            "_model_module": "@jupyter-widgets/controls",
            "_model_module_version": "1.5.0",
            "_model_name": "DescriptionStyleModel",
            "_view_count": null,
            "_view_module": "@jupyter-widgets/base",
            "_view_module_version": "1.2.0",
            "_view_name": "StyleView",
            "description_width": ""
          }
        },
        "005d67e1808347f8aa345be572bf2e0c": {
          "model_module": "@jupyter-widgets/base",
          "model_name": "LayoutModel",
          "model_module_version": "1.2.0",
          "state": {
            "_model_module": "@jupyter-widgets/base",
            "_model_module_version": "1.2.0",
            "_model_name": "LayoutModel",
            "_view_count": null,
            "_view_module": "@jupyter-widgets/base",
            "_view_module_version": "1.2.0",
            "_view_name": "LayoutView",
            "align_content": null,
            "align_items": null,
            "align_self": null,
            "border": null,
            "bottom": null,
            "display": null,
            "flex": null,
            "flex_flow": null,
            "grid_area": null,
            "grid_auto_columns": null,
            "grid_auto_flow": null,
            "grid_auto_rows": null,
            "grid_column": null,
            "grid_gap": null,
            "grid_row": null,
            "grid_template_areas": null,
            "grid_template_columns": null,
            "grid_template_rows": null,
            "height": null,
            "justify_content": null,
            "justify_items": null,
            "left": null,
            "margin": null,
            "max_height": null,
            "max_width": null,
            "min_height": null,
            "min_width": null,
            "object_fit": null,
            "object_position": null,
            "order": null,
            "overflow": null,
            "overflow_x": null,
            "overflow_y": null,
            "padding": null,
            "right": null,
            "top": null,
            "visibility": null,
            "width": null
          }
        },
        "03e9df3e23a64777b3312574edc01700": {
          "model_module": "@jupyter-widgets/controls",
          "model_name": "ProgressStyleModel",
          "model_module_version": "1.5.0",
          "state": {
            "_model_module": "@jupyter-widgets/controls",
            "_model_module_version": "1.5.0",
            "_model_name": "ProgressStyleModel",
            "_view_count": null,
            "_view_module": "@jupyter-widgets/base",
            "_view_module_version": "1.2.0",
            "_view_name": "StyleView",
            "bar_color": null,
            "description_width": ""
          }
        },
        "048781975c54497ea43730ff5cae54e6": {
          "model_module": "@jupyter-widgets/base",
          "model_name": "LayoutModel",
          "model_module_version": "1.2.0",
          "state": {
            "_model_module": "@jupyter-widgets/base",
            "_model_module_version": "1.2.0",
            "_model_name": "LayoutModel",
            "_view_count": null,
            "_view_module": "@jupyter-widgets/base",
            "_view_module_version": "1.2.0",
            "_view_name": "LayoutView",
            "align_content": null,
            "align_items": null,
            "align_self": null,
            "border": null,
            "bottom": null,
            "display": null,
            "flex": null,
            "flex_flow": null,
            "grid_area": null,
            "grid_auto_columns": null,
            "grid_auto_flow": null,
            "grid_auto_rows": null,
            "grid_column": null,
            "grid_gap": null,
            "grid_row": null,
            "grid_template_areas": null,
            "grid_template_columns": null,
            "grid_template_rows": null,
            "height": null,
            "justify_content": null,
            "justify_items": null,
            "left": null,
            "margin": null,
            "max_height": null,
            "max_width": null,
            "min_height": null,
            "min_width": null,
            "object_fit": null,
            "object_position": null,
            "order": null,
            "overflow": null,
            "overflow_x": null,
            "overflow_y": null,
            "padding": null,
            "right": null,
            "top": null,
            "visibility": null,
            "width": null
          }
        },
        "80a5734ce98a4d649aa2d4b584021f57": {
          "model_module": "@jupyter-widgets/controls",
          "model_name": "DescriptionStyleModel",
          "model_module_version": "1.5.0",
          "state": {
            "_model_module": "@jupyter-widgets/controls",
            "_model_module_version": "1.5.0",
            "_model_name": "DescriptionStyleModel",
            "_view_count": null,
            "_view_module": "@jupyter-widgets/base",
            "_view_module_version": "1.2.0",
            "_view_name": "StyleView",
            "description_width": ""
          }
        },
        "96fd72eea78b4229a11265c33ec60b4f": {
          "model_module": "@jupyter-widgets/controls",
          "model_name": "HBoxModel",
          "model_module_version": "1.5.0",
          "state": {
            "_dom_classes": [],
            "_model_module": "@jupyter-widgets/controls",
            "_model_module_version": "1.5.0",
            "_model_name": "HBoxModel",
            "_view_count": null,
            "_view_module": "@jupyter-widgets/controls",
            "_view_module_version": "1.5.0",
            "_view_name": "HBoxView",
            "box_style": "",
            "children": [
              "IPY_MODEL_d55df47f1a0f401fa8c7261a97fe6608",
              "IPY_MODEL_852cf23724714e4cb2e3e8935404be71",
              "IPY_MODEL_6afe0780267b47469ac36225d0455445"
            ],
            "layout": "IPY_MODEL_b07ba90297c24552a4a67ef5e7f7e260"
          }
        },
        "d55df47f1a0f401fa8c7261a97fe6608": {
          "model_module": "@jupyter-widgets/controls",
          "model_name": "HTMLModel",
          "model_module_version": "1.5.0",
          "state": {
            "_dom_classes": [],
            "_model_module": "@jupyter-widgets/controls",
            "_model_module_version": "1.5.0",
            "_model_name": "HTMLModel",
            "_view_count": null,
            "_view_module": "@jupyter-widgets/controls",
            "_view_module_version": "1.5.0",
            "_view_name": "HTMLView",
            "description": "",
            "description_tooltip": null,
            "layout": "IPY_MODEL_8240c017cb9b4ac29b786d311fd7a265",
            "placeholder": "​",
            "style": "IPY_MODEL_a52791f0059f46a097405b1fdf84d0c1",
            "value": "Downloading https://huggingface.co/stanfordnlp/stanza-es/resolve/v1.4.1/models/forward_charlm/newswiki.pt: 100%"
          }
        },
        "852cf23724714e4cb2e3e8935404be71": {
          "model_module": "@jupyter-widgets/controls",
          "model_name": "FloatProgressModel",
          "model_module_version": "1.5.0",
          "state": {
            "_dom_classes": [],
            "_model_module": "@jupyter-widgets/controls",
            "_model_module_version": "1.5.0",
            "_model_name": "FloatProgressModel",
            "_view_count": null,
            "_view_module": "@jupyter-widgets/controls",
            "_view_module_version": "1.5.0",
            "_view_name": "ProgressView",
            "bar_style": "success",
            "description": "",
            "description_tooltip": null,
            "layout": "IPY_MODEL_5462bd51ba524b3e994ebbcecf7191ee",
            "max": 20012707,
            "min": 0,
            "orientation": "horizontal",
            "style": "IPY_MODEL_5e4e22fb804c488db37cee62de0a5217",
            "value": 20012707
          }
        },
        "6afe0780267b47469ac36225d0455445": {
          "model_module": "@jupyter-widgets/controls",
          "model_name": "HTMLModel",
          "model_module_version": "1.5.0",
          "state": {
            "_dom_classes": [],
            "_model_module": "@jupyter-widgets/controls",
            "_model_module_version": "1.5.0",
            "_model_name": "HTMLModel",
            "_view_count": null,
            "_view_module": "@jupyter-widgets/controls",
            "_view_module_version": "1.5.0",
            "_view_name": "HTMLView",
            "description": "",
            "description_tooltip": null,
            "layout": "IPY_MODEL_bae834030a75417baf716b2ad37ddf9a",
            "placeholder": "​",
            "style": "IPY_MODEL_41bd5d14ae974c54ae8e1662e6b2b695",
            "value": " 20.0M/20.0M [00:00&lt;00:00, 50.0MB/s]"
          }
        },
        "b07ba90297c24552a4a67ef5e7f7e260": {
          "model_module": "@jupyter-widgets/base",
          "model_name": "LayoutModel",
          "model_module_version": "1.2.0",
          "state": {
            "_model_module": "@jupyter-widgets/base",
            "_model_module_version": "1.2.0",
            "_model_name": "LayoutModel",
            "_view_count": null,
            "_view_module": "@jupyter-widgets/base",
            "_view_module_version": "1.2.0",
            "_view_name": "LayoutView",
            "align_content": null,
            "align_items": null,
            "align_self": null,
            "border": null,
            "bottom": null,
            "display": null,
            "flex": null,
            "flex_flow": null,
            "grid_area": null,
            "grid_auto_columns": null,
            "grid_auto_flow": null,
            "grid_auto_rows": null,
            "grid_column": null,
            "grid_gap": null,
            "grid_row": null,
            "grid_template_areas": null,
            "grid_template_columns": null,
            "grid_template_rows": null,
            "height": null,
            "justify_content": null,
            "justify_items": null,
            "left": null,
            "margin": null,
            "max_height": null,
            "max_width": null,
            "min_height": null,
            "min_width": null,
            "object_fit": null,
            "object_position": null,
            "order": null,
            "overflow": null,
            "overflow_x": null,
            "overflow_y": null,
            "padding": null,
            "right": null,
            "top": null,
            "visibility": null,
            "width": null
          }
        },
        "8240c017cb9b4ac29b786d311fd7a265": {
          "model_module": "@jupyter-widgets/base",
          "model_name": "LayoutModel",
          "model_module_version": "1.2.0",
          "state": {
            "_model_module": "@jupyter-widgets/base",
            "_model_module_version": "1.2.0",
            "_model_name": "LayoutModel",
            "_view_count": null,
            "_view_module": "@jupyter-widgets/base",
            "_view_module_version": "1.2.0",
            "_view_name": "LayoutView",
            "align_content": null,
            "align_items": null,
            "align_self": null,
            "border": null,
            "bottom": null,
            "display": null,
            "flex": null,
            "flex_flow": null,
            "grid_area": null,
            "grid_auto_columns": null,
            "grid_auto_flow": null,
            "grid_auto_rows": null,
            "grid_column": null,
            "grid_gap": null,
            "grid_row": null,
            "grid_template_areas": null,
            "grid_template_columns": null,
            "grid_template_rows": null,
            "height": null,
            "justify_content": null,
            "justify_items": null,
            "left": null,
            "margin": null,
            "max_height": null,
            "max_width": null,
            "min_height": null,
            "min_width": null,
            "object_fit": null,
            "object_position": null,
            "order": null,
            "overflow": null,
            "overflow_x": null,
            "overflow_y": null,
            "padding": null,
            "right": null,
            "top": null,
            "visibility": null,
            "width": null
          }
        },
        "a52791f0059f46a097405b1fdf84d0c1": {
          "model_module": "@jupyter-widgets/controls",
          "model_name": "DescriptionStyleModel",
          "model_module_version": "1.5.0",
          "state": {
            "_model_module": "@jupyter-widgets/controls",
            "_model_module_version": "1.5.0",
            "_model_name": "DescriptionStyleModel",
            "_view_count": null,
            "_view_module": "@jupyter-widgets/base",
            "_view_module_version": "1.2.0",
            "_view_name": "StyleView",
            "description_width": ""
          }
        },
        "5462bd51ba524b3e994ebbcecf7191ee": {
          "model_module": "@jupyter-widgets/base",
          "model_name": "LayoutModel",
          "model_module_version": "1.2.0",
          "state": {
            "_model_module": "@jupyter-widgets/base",
            "_model_module_version": "1.2.0",
            "_model_name": "LayoutModel",
            "_view_count": null,
            "_view_module": "@jupyter-widgets/base",
            "_view_module_version": "1.2.0",
            "_view_name": "LayoutView",
            "align_content": null,
            "align_items": null,
            "align_self": null,
            "border": null,
            "bottom": null,
            "display": null,
            "flex": null,
            "flex_flow": null,
            "grid_area": null,
            "grid_auto_columns": null,
            "grid_auto_flow": null,
            "grid_auto_rows": null,
            "grid_column": null,
            "grid_gap": null,
            "grid_row": null,
            "grid_template_areas": null,
            "grid_template_columns": null,
            "grid_template_rows": null,
            "height": null,
            "justify_content": null,
            "justify_items": null,
            "left": null,
            "margin": null,
            "max_height": null,
            "max_width": null,
            "min_height": null,
            "min_width": null,
            "object_fit": null,
            "object_position": null,
            "order": null,
            "overflow": null,
            "overflow_x": null,
            "overflow_y": null,
            "padding": null,
            "right": null,
            "top": null,
            "visibility": null,
            "width": null
          }
        },
        "5e4e22fb804c488db37cee62de0a5217": {
          "model_module": "@jupyter-widgets/controls",
          "model_name": "ProgressStyleModel",
          "model_module_version": "1.5.0",
          "state": {
            "_model_module": "@jupyter-widgets/controls",
            "_model_module_version": "1.5.0",
            "_model_name": "ProgressStyleModel",
            "_view_count": null,
            "_view_module": "@jupyter-widgets/base",
            "_view_module_version": "1.2.0",
            "_view_name": "StyleView",
            "bar_color": null,
            "description_width": ""
          }
        },
        "bae834030a75417baf716b2ad37ddf9a": {
          "model_module": "@jupyter-widgets/base",
          "model_name": "LayoutModel",
          "model_module_version": "1.2.0",
          "state": {
            "_model_module": "@jupyter-widgets/base",
            "_model_module_version": "1.2.0",
            "_model_name": "LayoutModel",
            "_view_count": null,
            "_view_module": "@jupyter-widgets/base",
            "_view_module_version": "1.2.0",
            "_view_name": "LayoutView",
            "align_content": null,
            "align_items": null,
            "align_self": null,
            "border": null,
            "bottom": null,
            "display": null,
            "flex": null,
            "flex_flow": null,
            "grid_area": null,
            "grid_auto_columns": null,
            "grid_auto_flow": null,
            "grid_auto_rows": null,
            "grid_column": null,
            "grid_gap": null,
            "grid_row": null,
            "grid_template_areas": null,
            "grid_template_columns": null,
            "grid_template_rows": null,
            "height": null,
            "justify_content": null,
            "justify_items": null,
            "left": null,
            "margin": null,
            "max_height": null,
            "max_width": null,
            "min_height": null,
            "min_width": null,
            "object_fit": null,
            "object_position": null,
            "order": null,
            "overflow": null,
            "overflow_x": null,
            "overflow_y": null,
            "padding": null,
            "right": null,
            "top": null,
            "visibility": null,
            "width": null
          }
        },
        "41bd5d14ae974c54ae8e1662e6b2b695": {
          "model_module": "@jupyter-widgets/controls",
          "model_name": "DescriptionStyleModel",
          "model_module_version": "1.5.0",
          "state": {
            "_model_module": "@jupyter-widgets/controls",
            "_model_module_version": "1.5.0",
            "_model_name": "DescriptionStyleModel",
            "_view_count": null,
            "_view_module": "@jupyter-widgets/base",
            "_view_module_version": "1.2.0",
            "_view_name": "StyleView",
            "description_width": ""
          }
        }
      }
    }
  },
  "cells": [
    {
      "cell_type": "code",
      "execution_count": null,
      "metadata": {
        "colab": {
          "base_uri": "https://localhost:8080/"
        },
        "id": "TfAAsojouOhJ",
        "outputId": "b5086072-365c-4d19-8e19-5cbd240212f2"
      },
      "outputs": [
        {
          "output_type": "stream",
          "name": "stderr",
          "text": [
            "[nltk_data] Downloading package vader_lexicon to /root/nltk_data...\n",
            "[nltk_data]   Package vader_lexicon is already up-to-date!\n"
          ]
        }
      ],
      "source": [
        "import json, re\n",
        "import pandas as pd \n",
        "import nltk\n",
        "from nltk.corpus import stopwords\n",
        "from nltk.stem import SnowballStemmer\n",
        "from nltk.tokenize import ToktokTokenizer\n",
        "nltk.download('vader_lexicon')\n",
        "from nltk.sentiment.vader import SentimentIntensityAnalyzer\n",
        "#from sentiment_analysis_spanish import sentiment_analysis"
      ]
    },
    {
      "cell_type": "code",
      "source": [
        "from google.colab import drive\n",
        "drive.mount('/content/gdrive')"
      ],
      "metadata": {
        "colab": {
          "base_uri": "https://localhost:8080/"
        },
        "id": "qzI-TRwLuUbL",
        "outputId": "497e0186-d24d-4fab-ad0d-8c0bfdce79c0"
      },
      "execution_count": null,
      "outputs": [
        {
          "output_type": "stream",
          "name": "stdout",
          "text": [
            "Mounted at /content/gdrive\n"
          ]
        }
      ]
    },
    {
      "cell_type": "code",
      "source": [
        "# Leemos los datos\n",
        "df1 = pd.read_excel(\"/content/gdrive/MyDrive/Diplomado ciencia de datos 2022/Proyecto/ED_nlp.xlsx\")\n",
        "df1.head()"
      ],
      "metadata": {
        "colab": {
          "base_uri": "https://localhost:8080/",
          "height": 1000
        },
        "id": "6QQdZtMjulvd",
        "outputId": "66cd2089-8c23-4130-d66e-dc5737c47f13"
      },
      "execution_count": null,
      "outputs": [
        {
          "output_type": "execute_result",
          "data": {
            "text/plain": [
              "           Marca temporal   Edad       Sexo  \\\n",
              "0 2022-01-30 21:46:40.085  21-25  Masculino   \n",
              "1 2022-01-30 22:06:32.095  21-25  Masculino   \n",
              "2 2022-01-31 07:18:08.770  31-35   Femenino   \n",
              "3 2022-01-31 07:20:25.612  15-20   Femenino   \n",
              "4 2022-01-31 07:21:51.154  15-20   Femenino   \n",
              "\n",
              "   Estrato socioeconómico al que pertenece Usted es estudiante de   \\\n",
              "0                                      2.0                Pregrado   \n",
              "1                                      3.0                Pregrado   \n",
              "2                                      3.0                Pregrado   \n",
              "3                                      3.0                Pregrado   \n",
              "4                                      2.0                Pregrado   \n",
              "\n",
              "  ¿Qué porcentaje de avance lleva de su programa de formación?  \\\n",
              "0                                    Entre 40% y 70%             \n",
              "1                                    Entre 40% y 70%             \n",
              "2                                        Mas del 70%             \n",
              "3                                      Menos del 40%             \n",
              "4                                      Menos del 40%             \n",
              "\n",
              "  Facultad a la cual pertenece       Departamento al que pertenece   \\\n",
              "0                     Ciencias                          Estadística   \n",
              "1                     Ciencias                          Estadística   \n",
              "2                   Ingeniería  Ingeniería de Sistemas e Industrial   \n",
              "3                     Ciencias                          Estadística   \n",
              "4            Ciencias Agrarias                Ingeniería agronómica   \n",
              "\n",
              "      Programa académico   \\\n",
              "0             Estadística   \n",
              "1             Estadística   \n",
              "2   Ingenieria industrial   \n",
              "3                     NaN   \n",
              "4  Ingeniería Agronómica    \n",
              "\n",
              "  ¿Ha respondido la encuesta educación en tiempos de COVID-19 en otro curso?  \\\n",
              "0                                                 Si                           \n",
              "1                                                 No                           \n",
              "2                                                 No                           \n",
              "3                                                 No                           \n",
              "4                                                 No                           \n",
              "\n",
              "   ...  \\\n",
              "0  ...   \n",
              "1  ...   \n",
              "2  ...   \n",
              "3  ...   \n",
              "4  ...   \n",
              "\n",
              "  ¿El docente hace saber de manera oportuna las calificaciones de evaluaciones y demás actividades?  \\\n",
              "0                                     Ocasionalmente                                                  \n",
              "1                                     Frecuentemente                                                  \n",
              "2                                            Siempre                                                  \n",
              "3                                     Frecuentemente                                                  \n",
              "4                                            Siempre                                                  \n",
              "\n",
              "  ¿El docente muestra actitudes de respeto y de disposición al diálogo con los estudiantes?  \\\n",
              "0                                     Frecuentemente                                          \n",
              "1                                            Siempre                                          \n",
              "2                                            Siempre                                          \n",
              "3                                            Siempre                                          \n",
              "4                                            Siempre                                          \n",
              "\n",
              "  ¿El docente muestra compromiso e interés por el aprendizaje de los estudiantes?  \\\n",
              "0                                     Frecuentemente                                \n",
              "1                                     Ocasionalmente                                \n",
              "2                                            Siempre                                \n",
              "3                                            Siempre                                \n",
              "4                                            Siempre                                \n",
              "\n",
              "   ¿El docente utiliza de forma eficiente el tiempo para llevar a cabo las actividades de la clase?  \\\n",
              "0                                     Ocasionalmente                                                  \n",
              "1                                     Frecuentemente                                                  \n",
              "2                                            Siempre                                                  \n",
              "3                                            Siempre                                                  \n",
              "4                                            Siempre                                                  \n",
              "\n",
              "   Tomando en cuenta que con la pandemia las clases han tenido que dictarse de forma remota, ¿considera usted que el docente ha adaptado de forma correcta la metodología, esto, haciendo uso de dinámicas y ejercicios que facilitan el aprendizaje en virtualidad de su clase?  \\\n",
              "0                                   De forma parcial                                                                                                                                                                                                                               \n",
              "1                                   De forma parcial                                                                                                                                                                                                                               \n",
              "2                                     Sí, totalmente                                                                                                                                                                                                                               \n",
              "3                                     Sí, totalmente                                                                                                                                                                                                                               \n",
              "4                                     Sí, totalmente                                                                                                                                                                                                                               \n",
              "\n",
              "   En el marco de la pandemia y las clases remotas, los recursos TIC (Tecnologías de la Información y las Comunicaciones) han tomado gran relevancia. ¿Cómo considera que el docente ha hecho uso de dichas herramientas para impartir las temáticas y evaluar las mismas?  \\\n",
              "0                                          Aceptable                                                                                                                                                                                                                         \n",
              "1                                          Aceptable                                                                                                                                                                                                                         \n",
              "2                                           Muy alto                                                                                                                                                                                                                         \n",
              "3                                               Alto                                                                                                                                                                                                                         \n",
              "4                                           Muy alto                                                                                                                                                                                                                         \n",
              "\n",
              "   De los siguientes materiales de apoyo, ¿cuáles han sido utilizados por el docente en este curso? (Señala únicamente los que emplean para esta clase)   \\\n",
              "0  Artículos científicos, Libro de texto, Video, ...                                                                                                       \n",
              "1  Artículos científicos, Libro de texto, Materia...                                                                                                       \n",
              "2  Artículos científicos, Libro de texto, Diagram...                                                                                                       \n",
              "3  Video, Audiovisual o multimedia, Paquete de có...                                                                                                       \n",
              "4                 Recursos y materiales informáticos                                                                                                       \n",
              "\n",
              "  De acuerdo con el desempeño, ¿qué aspectos positivos le gustaría destacar del docente?  \\\n",
              "0  Comunicación, sencillez, disponibilidad, amabi...                                       \n",
              "1  Puntualidad, disposicion, amabilidad, Conocimi...                                       \n",
              "2                                            Ninguno                                       \n",
              "3  Disposición a la hora de dictar la clase, buen...                                       \n",
              "4  El profesor se preocupa porque uno aprenda rea...                                       \n",
              "\n",
              "  ¿Qué aspectos por mejorar considera pertinentes mencionar del docente?  \\\n",
              "0                                        Puntualidad                       \n",
              "1  Disminuir la velocidad a la que desarrolla los...                       \n",
              "2                                            Ninguno                       \n",
              "3     Organización del tablero de la sesión de clase                       \n",
              "4                                          No lo sé                        \n",
              "\n",
              "  Importancia del curso   \n",
              "0             Importante  \n",
              "1         Muy importante  \n",
              "2             Importante  \n",
              "3             Importante  \n",
              "4         Muy importante  \n",
              "\n",
              "[5 rows x 82 columns]"
            ],
            "text/html": [
              "\n",
              "  <div id=\"df-72208e59-f49a-48da-b6af-98e96fb0c479\">\n",
              "    <div class=\"colab-df-container\">\n",
              "      <div>\n",
              "<style scoped>\n",
              "    .dataframe tbody tr th:only-of-type {\n",
              "        vertical-align: middle;\n",
              "    }\n",
              "\n",
              "    .dataframe tbody tr th {\n",
              "        vertical-align: top;\n",
              "    }\n",
              "\n",
              "    .dataframe thead th {\n",
              "        text-align: right;\n",
              "    }\n",
              "</style>\n",
              "<table border=\"1\" class=\"dataframe\">\n",
              "  <thead>\n",
              "    <tr style=\"text-align: right;\">\n",
              "      <th></th>\n",
              "      <th>Marca temporal</th>\n",
              "      <th>Edad</th>\n",
              "      <th>Sexo</th>\n",
              "      <th>Estrato socioeconómico al que pertenece</th>\n",
              "      <th>Usted es estudiante de</th>\n",
              "      <th>¿Qué porcentaje de avance lleva de su programa de formación?</th>\n",
              "      <th>Facultad a la cual pertenece</th>\n",
              "      <th>Departamento al que pertenece</th>\n",
              "      <th>Programa académico</th>\n",
              "      <th>¿Ha respondido la encuesta educación en tiempos de COVID-19 en otro curso?</th>\n",
              "      <th>...</th>\n",
              "      <th>¿El docente hace saber de manera oportuna las calificaciones de evaluaciones y demás actividades?</th>\n",
              "      <th>¿El docente muestra actitudes de respeto y de disposición al diálogo con los estudiantes?</th>\n",
              "      <th>¿El docente muestra compromiso e interés por el aprendizaje de los estudiantes?</th>\n",
              "      <th>¿El docente utiliza de forma eficiente el tiempo para llevar a cabo las actividades de la clase?</th>\n",
              "      <th>Tomando en cuenta que con la pandemia las clases han tenido que dictarse de forma remota, ¿considera usted que el docente ha adaptado de forma correcta la metodología, esto, haciendo uso de dinámicas y ejercicios que facilitan el aprendizaje en virtualidad de su clase?</th>\n",
              "      <th>En el marco de la pandemia y las clases remotas, los recursos TIC (Tecnologías de la Información y las Comunicaciones) han tomado gran relevancia. ¿Cómo considera que el docente ha hecho uso de dichas herramientas para impartir las temáticas y evaluar las mismas?</th>\n",
              "      <th>De los siguientes materiales de apoyo, ¿cuáles han sido utilizados por el docente en este curso? (Señala únicamente los que emplean para esta clase)</th>\n",
              "      <th>De acuerdo con el desempeño, ¿qué aspectos positivos le gustaría destacar del docente?</th>\n",
              "      <th>¿Qué aspectos por mejorar considera pertinentes mencionar del docente?</th>\n",
              "      <th>Importancia del curso</th>\n",
              "    </tr>\n",
              "  </thead>\n",
              "  <tbody>\n",
              "    <tr>\n",
              "      <th>0</th>\n",
              "      <td>2022-01-30 21:46:40.085</td>\n",
              "      <td>21-25</td>\n",
              "      <td>Masculino</td>\n",
              "      <td>2.0</td>\n",
              "      <td>Pregrado</td>\n",
              "      <td>Entre 40% y 70%</td>\n",
              "      <td>Ciencias</td>\n",
              "      <td>Estadística</td>\n",
              "      <td>Estadística</td>\n",
              "      <td>Si</td>\n",
              "      <td>...</td>\n",
              "      <td>Ocasionalmente</td>\n",
              "      <td>Frecuentemente</td>\n",
              "      <td>Frecuentemente</td>\n",
              "      <td>Ocasionalmente</td>\n",
              "      <td>De forma parcial</td>\n",
              "      <td>Aceptable</td>\n",
              "      <td>Artículos científicos, Libro de texto, Video, ...</td>\n",
              "      <td>Comunicación, sencillez, disponibilidad, amabi...</td>\n",
              "      <td>Puntualidad</td>\n",
              "      <td>Importante</td>\n",
              "    </tr>\n",
              "    <tr>\n",
              "      <th>1</th>\n",
              "      <td>2022-01-30 22:06:32.095</td>\n",
              "      <td>21-25</td>\n",
              "      <td>Masculino</td>\n",
              "      <td>3.0</td>\n",
              "      <td>Pregrado</td>\n",
              "      <td>Entre 40% y 70%</td>\n",
              "      <td>Ciencias</td>\n",
              "      <td>Estadística</td>\n",
              "      <td>Estadística</td>\n",
              "      <td>No</td>\n",
              "      <td>...</td>\n",
              "      <td>Frecuentemente</td>\n",
              "      <td>Siempre</td>\n",
              "      <td>Ocasionalmente</td>\n",
              "      <td>Frecuentemente</td>\n",
              "      <td>De forma parcial</td>\n",
              "      <td>Aceptable</td>\n",
              "      <td>Artículos científicos, Libro de texto, Materia...</td>\n",
              "      <td>Puntualidad, disposicion, amabilidad, Conocimi...</td>\n",
              "      <td>Disminuir la velocidad a la que desarrolla los...</td>\n",
              "      <td>Muy importante</td>\n",
              "    </tr>\n",
              "    <tr>\n",
              "      <th>2</th>\n",
              "      <td>2022-01-31 07:18:08.770</td>\n",
              "      <td>31-35</td>\n",
              "      <td>Femenino</td>\n",
              "      <td>3.0</td>\n",
              "      <td>Pregrado</td>\n",
              "      <td>Mas del 70%</td>\n",
              "      <td>Ingeniería</td>\n",
              "      <td>Ingeniería de Sistemas e Industrial</td>\n",
              "      <td>Ingenieria industrial</td>\n",
              "      <td>No</td>\n",
              "      <td>...</td>\n",
              "      <td>Siempre</td>\n",
              "      <td>Siempre</td>\n",
              "      <td>Siempre</td>\n",
              "      <td>Siempre</td>\n",
              "      <td>Sí, totalmente</td>\n",
              "      <td>Muy alto</td>\n",
              "      <td>Artículos científicos, Libro de texto, Diagram...</td>\n",
              "      <td>Ninguno</td>\n",
              "      <td>Ninguno</td>\n",
              "      <td>Importante</td>\n",
              "    </tr>\n",
              "    <tr>\n",
              "      <th>3</th>\n",
              "      <td>2022-01-31 07:20:25.612</td>\n",
              "      <td>15-20</td>\n",
              "      <td>Femenino</td>\n",
              "      <td>3.0</td>\n",
              "      <td>Pregrado</td>\n",
              "      <td>Menos del 40%</td>\n",
              "      <td>Ciencias</td>\n",
              "      <td>Estadística</td>\n",
              "      <td>NaN</td>\n",
              "      <td>No</td>\n",
              "      <td>...</td>\n",
              "      <td>Frecuentemente</td>\n",
              "      <td>Siempre</td>\n",
              "      <td>Siempre</td>\n",
              "      <td>Siempre</td>\n",
              "      <td>Sí, totalmente</td>\n",
              "      <td>Alto</td>\n",
              "      <td>Video, Audiovisual o multimedia, Paquete de có...</td>\n",
              "      <td>Disposición a la hora de dictar la clase, buen...</td>\n",
              "      <td>Organización del tablero de la sesión de clase</td>\n",
              "      <td>Importante</td>\n",
              "    </tr>\n",
              "    <tr>\n",
              "      <th>4</th>\n",
              "      <td>2022-01-31 07:21:51.154</td>\n",
              "      <td>15-20</td>\n",
              "      <td>Femenino</td>\n",
              "      <td>2.0</td>\n",
              "      <td>Pregrado</td>\n",
              "      <td>Menos del 40%</td>\n",
              "      <td>Ciencias Agrarias</td>\n",
              "      <td>Ingeniería agronómica</td>\n",
              "      <td>Ingeniería Agronómica</td>\n",
              "      <td>No</td>\n",
              "      <td>...</td>\n",
              "      <td>Siempre</td>\n",
              "      <td>Siempre</td>\n",
              "      <td>Siempre</td>\n",
              "      <td>Siempre</td>\n",
              "      <td>Sí, totalmente</td>\n",
              "      <td>Muy alto</td>\n",
              "      <td>Recursos y materiales informáticos</td>\n",
              "      <td>El profesor se preocupa porque uno aprenda rea...</td>\n",
              "      <td>No lo sé</td>\n",
              "      <td>Muy importante</td>\n",
              "    </tr>\n",
              "  </tbody>\n",
              "</table>\n",
              "<p>5 rows × 82 columns</p>\n",
              "</div>\n",
              "      <button class=\"colab-df-convert\" onclick=\"convertToInteractive('df-72208e59-f49a-48da-b6af-98e96fb0c479')\"\n",
              "              title=\"Convert this dataframe to an interactive table.\"\n",
              "              style=\"display:none;\">\n",
              "        \n",
              "  <svg xmlns=\"http://www.w3.org/2000/svg\" height=\"24px\"viewBox=\"0 0 24 24\"\n",
              "       width=\"24px\">\n",
              "    <path d=\"M0 0h24v24H0V0z\" fill=\"none\"/>\n",
              "    <path d=\"M18.56 5.44l.94 2.06.94-2.06 2.06-.94-2.06-.94-.94-2.06-.94 2.06-2.06.94zm-11 1L8.5 8.5l.94-2.06 2.06-.94-2.06-.94L8.5 2.5l-.94 2.06-2.06.94zm10 10l.94 2.06.94-2.06 2.06-.94-2.06-.94-.94-2.06-.94 2.06-2.06.94z\"/><path d=\"M17.41 7.96l-1.37-1.37c-.4-.4-.92-.59-1.43-.59-.52 0-1.04.2-1.43.59L10.3 9.45l-7.72 7.72c-.78.78-.78 2.05 0 2.83L4 21.41c.39.39.9.59 1.41.59.51 0 1.02-.2 1.41-.59l7.78-7.78 2.81-2.81c.8-.78.8-2.07 0-2.86zM5.41 20L4 18.59l7.72-7.72 1.47 1.35L5.41 20z\"/>\n",
              "  </svg>\n",
              "      </button>\n",
              "      \n",
              "  <style>\n",
              "    .colab-df-container {\n",
              "      display:flex;\n",
              "      flex-wrap:wrap;\n",
              "      gap: 12px;\n",
              "    }\n",
              "\n",
              "    .colab-df-convert {\n",
              "      background-color: #E8F0FE;\n",
              "      border: none;\n",
              "      border-radius: 50%;\n",
              "      cursor: pointer;\n",
              "      display: none;\n",
              "      fill: #1967D2;\n",
              "      height: 32px;\n",
              "      padding: 0 0 0 0;\n",
              "      width: 32px;\n",
              "    }\n",
              "\n",
              "    .colab-df-convert:hover {\n",
              "      background-color: #E2EBFA;\n",
              "      box-shadow: 0px 1px 2px rgba(60, 64, 67, 0.3), 0px 1px 3px 1px rgba(60, 64, 67, 0.15);\n",
              "      fill: #174EA6;\n",
              "    }\n",
              "\n",
              "    [theme=dark] .colab-df-convert {\n",
              "      background-color: #3B4455;\n",
              "      fill: #D2E3FC;\n",
              "    }\n",
              "\n",
              "    [theme=dark] .colab-df-convert:hover {\n",
              "      background-color: #434B5C;\n",
              "      box-shadow: 0px 1px 3px 1px rgba(0, 0, 0, 0.15);\n",
              "      filter: drop-shadow(0px 1px 2px rgba(0, 0, 0, 0.3));\n",
              "      fill: #FFFFFF;\n",
              "    }\n",
              "  </style>\n",
              "\n",
              "      <script>\n",
              "        const buttonEl =\n",
              "          document.querySelector('#df-72208e59-f49a-48da-b6af-98e96fb0c479 button.colab-df-convert');\n",
              "        buttonEl.style.display =\n",
              "          google.colab.kernel.accessAllowed ? 'block' : 'none';\n",
              "\n",
              "        async function convertToInteractive(key) {\n",
              "          const element = document.querySelector('#df-72208e59-f49a-48da-b6af-98e96fb0c479');\n",
              "          const dataTable =\n",
              "            await google.colab.kernel.invokeFunction('convertToInteractive',\n",
              "                                                     [key], {});\n",
              "          if (!dataTable) return;\n",
              "\n",
              "          const docLinkHtml = 'Like what you see? Visit the ' +\n",
              "            '<a target=\"_blank\" href=https://colab.research.google.com/notebooks/data_table.ipynb>data table notebook</a>'\n",
              "            + ' to learn more about interactive tables.';\n",
              "          element.innerHTML = '';\n",
              "          dataTable['output_type'] = 'display_data';\n",
              "          await google.colab.output.renderOutput(dataTable, element);\n",
              "          const docLink = document.createElement('div');\n",
              "          docLink.innerHTML = docLinkHtml;\n",
              "          element.appendChild(docLink);\n",
              "        }\n",
              "      </script>\n",
              "    </div>\n",
              "  </div>\n",
              "  "
            ]
          },
          "metadata": {},
          "execution_count": 125
        }
      ]
    },
    {
      "cell_type": "code",
      "source": [
        "# Cambiamos el nombre a las columnas\n",
        "df1.rename(columns = {\"De acuerdo con el desempeño, ¿qué aspectos positivos le gustaría destacar del docente?\":\"destacar\"\n",
        "                     ,\"¿Qué aspectos por mejorar considera pertinentes mencionar del docente?\":\"mejorar\",\n",
        "                     },\n",
        "          inplace = True)"
      ],
      "metadata": {
        "id": "ofeCoYL30dki"
      },
      "execution_count": null,
      "outputs": []
    },
    {
      "cell_type": "code",
      "source": [
        "# Veamos cuántos textos (reseñas) hay por profesor:\n",
        "total = df1.groupby(['Nombre del profesor '])['mejorar'].count().sum()\n",
        "df1.columns\n",
        "\n",
        "df1.groupby(['Nombre del profesor '])['mejorar'].count().sort_values(ascending = False)/total*100\n",
        "# Hallar frecuencias relativas.  (Check). Ahora sólo falta anonimizar el nombre de los profesores"
      ],
      "metadata": {
        "id": "crqyoujozxNT"
      },
      "execution_count": null,
      "outputs": []
    },
    {
      "cell_type": "code",
      "source": [
        "# Cogemos solo las variables que usaremos para el procesamiento de lenguaje natural\n",
        "df = df1.iloc[:,79:81] # columnas 80 y 81\n",
        "df = pd.DataFrame(df)"
      ],
      "metadata": {
        "id": "fLsXbmItuxDN"
      },
      "execution_count": null,
      "outputs": []
    },
    {
      "cell_type": "code",
      "source": [
        "df.head()"
      ],
      "metadata": {
        "colab": {
          "base_uri": "https://localhost:8080/",
          "height": 206
        },
        "id": "kT9lAf8NvftY",
        "outputId": "ae52e6f6-7d01-4ab9-f70a-3fefb7ae2e61"
      },
      "execution_count": null,
      "outputs": [
        {
          "output_type": "execute_result",
          "data": {
            "text/plain": [
              "                                            destacar  \\\n",
              "0  Comunicación, sencillez, disponibilidad, amabi...   \n",
              "1  Puntualidad, disposicion, amabilidad, Conocimi...   \n",
              "2                                            Ninguno   \n",
              "3  Disposición a la hora de dictar la clase, buen...   \n",
              "4  El profesor se preocupa porque uno aprenda rea...   \n",
              "\n",
              "                                             mejorar  \n",
              "0                                        Puntualidad  \n",
              "1  Disminuir la velocidad a la que desarrolla los...  \n",
              "2                                            Ninguno  \n",
              "3     Organización del tablero de la sesión de clase  \n",
              "4                                          No lo sé   "
            ],
            "text/html": [
              "\n",
              "  <div id=\"df-6f117cb9-5e91-4722-a144-bf38d17dc87f\">\n",
              "    <div class=\"colab-df-container\">\n",
              "      <div>\n",
              "<style scoped>\n",
              "    .dataframe tbody tr th:only-of-type {\n",
              "        vertical-align: middle;\n",
              "    }\n",
              "\n",
              "    .dataframe tbody tr th {\n",
              "        vertical-align: top;\n",
              "    }\n",
              "\n",
              "    .dataframe thead th {\n",
              "        text-align: right;\n",
              "    }\n",
              "</style>\n",
              "<table border=\"1\" class=\"dataframe\">\n",
              "  <thead>\n",
              "    <tr style=\"text-align: right;\">\n",
              "      <th></th>\n",
              "      <th>destacar</th>\n",
              "      <th>mejorar</th>\n",
              "    </tr>\n",
              "  </thead>\n",
              "  <tbody>\n",
              "    <tr>\n",
              "      <th>0</th>\n",
              "      <td>Comunicación, sencillez, disponibilidad, amabi...</td>\n",
              "      <td>Puntualidad</td>\n",
              "    </tr>\n",
              "    <tr>\n",
              "      <th>1</th>\n",
              "      <td>Puntualidad, disposicion, amabilidad, Conocimi...</td>\n",
              "      <td>Disminuir la velocidad a la que desarrolla los...</td>\n",
              "    </tr>\n",
              "    <tr>\n",
              "      <th>2</th>\n",
              "      <td>Ninguno</td>\n",
              "      <td>Ninguno</td>\n",
              "    </tr>\n",
              "    <tr>\n",
              "      <th>3</th>\n",
              "      <td>Disposición a la hora de dictar la clase, buen...</td>\n",
              "      <td>Organización del tablero de la sesión de clase</td>\n",
              "    </tr>\n",
              "    <tr>\n",
              "      <th>4</th>\n",
              "      <td>El profesor se preocupa porque uno aprenda rea...</td>\n",
              "      <td>No lo sé</td>\n",
              "    </tr>\n",
              "  </tbody>\n",
              "</table>\n",
              "</div>\n",
              "      <button class=\"colab-df-convert\" onclick=\"convertToInteractive('df-6f117cb9-5e91-4722-a144-bf38d17dc87f')\"\n",
              "              title=\"Convert this dataframe to an interactive table.\"\n",
              "              style=\"display:none;\">\n",
              "        \n",
              "  <svg xmlns=\"http://www.w3.org/2000/svg\" height=\"24px\"viewBox=\"0 0 24 24\"\n",
              "       width=\"24px\">\n",
              "    <path d=\"M0 0h24v24H0V0z\" fill=\"none\"/>\n",
              "    <path d=\"M18.56 5.44l.94 2.06.94-2.06 2.06-.94-2.06-.94-.94-2.06-.94 2.06-2.06.94zm-11 1L8.5 8.5l.94-2.06 2.06-.94-2.06-.94L8.5 2.5l-.94 2.06-2.06.94zm10 10l.94 2.06.94-2.06 2.06-.94-2.06-.94-.94-2.06-.94 2.06-2.06.94z\"/><path d=\"M17.41 7.96l-1.37-1.37c-.4-.4-.92-.59-1.43-.59-.52 0-1.04.2-1.43.59L10.3 9.45l-7.72 7.72c-.78.78-.78 2.05 0 2.83L4 21.41c.39.39.9.59 1.41.59.51 0 1.02-.2 1.41-.59l7.78-7.78 2.81-2.81c.8-.78.8-2.07 0-2.86zM5.41 20L4 18.59l7.72-7.72 1.47 1.35L5.41 20z\"/>\n",
              "  </svg>\n",
              "      </button>\n",
              "      \n",
              "  <style>\n",
              "    .colab-df-container {\n",
              "      display:flex;\n",
              "      flex-wrap:wrap;\n",
              "      gap: 12px;\n",
              "    }\n",
              "\n",
              "    .colab-df-convert {\n",
              "      background-color: #E8F0FE;\n",
              "      border: none;\n",
              "      border-radius: 50%;\n",
              "      cursor: pointer;\n",
              "      display: none;\n",
              "      fill: #1967D2;\n",
              "      height: 32px;\n",
              "      padding: 0 0 0 0;\n",
              "      width: 32px;\n",
              "    }\n",
              "\n",
              "    .colab-df-convert:hover {\n",
              "      background-color: #E2EBFA;\n",
              "      box-shadow: 0px 1px 2px rgba(60, 64, 67, 0.3), 0px 1px 3px 1px rgba(60, 64, 67, 0.15);\n",
              "      fill: #174EA6;\n",
              "    }\n",
              "\n",
              "    [theme=dark] .colab-df-convert {\n",
              "      background-color: #3B4455;\n",
              "      fill: #D2E3FC;\n",
              "    }\n",
              "\n",
              "    [theme=dark] .colab-df-convert:hover {\n",
              "      background-color: #434B5C;\n",
              "      box-shadow: 0px 1px 3px 1px rgba(0, 0, 0, 0.15);\n",
              "      filter: drop-shadow(0px 1px 2px rgba(0, 0, 0, 0.3));\n",
              "      fill: #FFFFFF;\n",
              "    }\n",
              "  </style>\n",
              "\n",
              "      <script>\n",
              "        const buttonEl =\n",
              "          document.querySelector('#df-6f117cb9-5e91-4722-a144-bf38d17dc87f button.colab-df-convert');\n",
              "        buttonEl.style.display =\n",
              "          google.colab.kernel.accessAllowed ? 'block' : 'none';\n",
              "\n",
              "        async function convertToInteractive(key) {\n",
              "          const element = document.querySelector('#df-6f117cb9-5e91-4722-a144-bf38d17dc87f');\n",
              "          const dataTable =\n",
              "            await google.colab.kernel.invokeFunction('convertToInteractive',\n",
              "                                                     [key], {});\n",
              "          if (!dataTable) return;\n",
              "\n",
              "          const docLinkHtml = 'Like what you see? Visit the ' +\n",
              "            '<a target=\"_blank\" href=https://colab.research.google.com/notebooks/data_table.ipynb>data table notebook</a>'\n",
              "            + ' to learn more about interactive tables.';\n",
              "          element.innerHTML = '';\n",
              "          dataTable['output_type'] = 'display_data';\n",
              "          await google.colab.output.renderOutput(dataTable, element);\n",
              "          const docLink = document.createElement('div');\n",
              "          docLink.innerHTML = docLinkHtml;\n",
              "          element.appendChild(docLink);\n",
              "        }\n",
              "      </script>\n",
              "    </div>\n",
              "  </div>\n",
              "  "
            ]
          },
          "metadata": {},
          "execution_count": 174
        }
      ]
    },
    {
      "cell_type": "code",
      "source": [
        "import string\n",
        "tabla = str.maketrans('', '', string.digits)"
      ],
      "metadata": {
        "id": "vwnZkn9DWiSk"
      },
      "execution_count": null,
      "outputs": []
    },
    {
      "cell_type": "code",
      "source": [
        "def limpiar_texto(texto):\n",
        "    \"\"\"\n",
        "    Función para realizar la limpieza de un texto dado.\n",
        "    \"\"\"\n",
        "    # Eliminamos los caracteres especiales\n",
        "    texto = re.sub(r'\\W', ' ', str(texto)) # Sólo pondré en\n",
        "    # Eliminado las palabras que tengo un solo caracter\n",
        "    texto = texto.translate(tabla)  # quito  números... \n",
        "    texto = re.sub(r'\\s+[a-zA-Z]\\s+', ' ', texto)\n",
        "    # Sustituir los espacios en blanco en uno solo\n",
        "    texto = re.sub(r'\\s+', ' ', texto, flags=re.I)\n",
        "    # Convertimos textos a minusculas\n",
        "    texto = texto.lower()\n",
        "    return texto\n",
        "# Voy a dejar el texto en bruto..."
      ],
      "metadata": {
        "id": "_d8kZuPgvzpr"
      },
      "execution_count": null,
      "outputs": []
    },
    {
      "cell_type": "code",
      "source": [
        "df[\"mejorar\"][54].lower()"
      ],
      "metadata": {
        "colab": {
          "base_uri": "https://localhost:8080/",
          "height": 140
        },
        "id": "rz1IV4d2Q7To",
        "outputId": "31b979f9-8448-441e-bf49-79d91cf5c7ac"
      },
      "execution_count": null,
      "outputs": [
        {
          "output_type": "execute_result",
          "data": {
            "text/plain": [
              "'la pedagogía principalmente, la forma de enseñar suele ser muy catedrático y monótono, con pocos ejercicios prácticos solo los realiza para evaluar y no para practicar, la retroalimentación no es buena se le preguntan cosas sobre los procedimientos y no explica solo da la respuesta del ejercicio. mayor compromiso con las clases ya que duramos casi dos semanas sin clases porque tenía problemas de conexión pero no envió vídeos, ejercicios, audios o algo para no atrasarnos. poca disposición de dialogo, se logró a última hora ajustar porcentajes porque ya no había tiempo pero fue porque el curso se lo solicitó varias veces, cuando se le hacían propuestas como grupo no se atendían y ni se respondían. tampoco respeta tiempos del curso, se a demorado en enviar notas y además cuando ha tenido problemas de conexión no avisa con tiempo, hemos durado hasta una hora conectados esperando al profesor sin ninguna razón, para mi eso es irrespetar el tiempo de nuestro tiempo también '"
            ],
            "application/vnd.google.colaboratory.intrinsic+json": {
              "type": "string"
            }
          },
          "metadata": {},
          "execution_count": 177
        }
      ]
    },
    {
      "cell_type": "code",
      "source": [
        "type(df[\"mejorar\"][3])"
      ],
      "metadata": {
        "colab": {
          "base_uri": "https://localhost:8080/"
        },
        "id": "cXVsQJE-RLKN",
        "outputId": "7ad52746-5064-4377-a030-9f6e42883f54"
      },
      "execution_count": null,
      "outputs": [
        {
          "output_type": "execute_result",
          "data": {
            "text/plain": [
              "str"
            ]
          },
          "metadata": {},
          "execution_count": 180
        }
      ]
    },
    {
      "cell_type": "code",
      "source": [
        "limpiar_texto(df[\"mejorar\"][1])"
      ],
      "metadata": {
        "colab": {
          "base_uri": "https://localhost:8080/",
          "height": 35
        },
        "id": "cqjxsHU-RTnK",
        "outputId": "9660db6d-2e7d-4535-df25-a2f6fa82fa34"
      },
      "execution_count": null,
      "outputs": [
        {
          "output_type": "execute_result",
          "data": {
            "text/plain": [
              "'disminuir la velocidad la que desarrolla los temas'"
            ],
            "application/vnd.google.colaboratory.intrinsic+json": {
              "type": "string"
            }
          },
          "metadata": {},
          "execution_count": 181
        }
      ]
    },
    {
      "cell_type": "code",
      "source": [
        "df[\"mejorar\"] = df[\"mejorar\"].astype(\"str\")\n",
        "df[\"destacar\"] = df[\"destacar\"].astype(\"str\")\n",
        "df[\"mejorar\"] = df.loc[:,\"mejorar\"].apply(limpiar_texto)\n",
        "df[\"destacar\"] = df.loc[:,\"destacar\"].apply(limpiar_texto)"
      ],
      "metadata": {
        "id": "gftOTPW2wBH_"
      },
      "execution_count": null,
      "outputs": []
    },
    {
      "cell_type": "code",
      "source": [
        "!pip install stanza"
      ],
      "metadata": {
        "id": "6PRMguAe0JKj"
      },
      "execution_count": null,
      "outputs": []
    },
    {
      "cell_type": "code",
      "source": [
        "import stanza\n",
        "stanza.download('es', package='ancora', processors='tokenize,mwt,pos,lemma', verbose=True)"
      ],
      "metadata": {
        "colab": {
          "base_uri": "https://localhost:8080/",
          "height": 516,
          "referenced_widgets": [
            "f4fa38ab37a840379b739bcb7339518d",
            "67161e60fcf843d082a023337c96ccf4",
            "e3b51cdc84864e7cb80f67e0e3143430",
            "bd48fcf1dd4b44d3b64d3463601fe615",
            "a8da775ec584403bb0b5cf15088567b4",
            "0cea3747249c4ee6bce40f0b8458cab4",
            "47bfe2e040d34e1ca3154329caac2196",
            "72f34ca47f064c969ab2625db0f21999",
            "cc28712dd2754882af76b2229568228b",
            "0c216fbf9bfc48c5aec9f200928de5cf",
            "6ea5945102d84dc68f800a8f7105ff74",
            "4bff3718ebf54f86a666946419e6cd2c",
            "c78309395dcb48e393bb29c090580b8d",
            "e784f87d287b411799e791d9255e2682",
            "3382e7ccf8104875846aa68745e40884",
            "8d474d8365734c2db8f6f74ba595482e",
            "69e9810e71d9421c982fc85eae74ce46",
            "e696b4503e9a4a84a1daf03e256a0439",
            "60be671f86124baf85301dc19c890022",
            "d1ebc487bc9240f0bf694d7820639a0f",
            "1ca5a69896274c50bbcd24ce6dbab6d4",
            "7ad9e87ff65c445faf3282210fd2f46b",
            "699c07fbc14f4000888f2670a1816838",
            "26c0e7c5e5044800aa4336b8b4dc4530",
            "234ea0c95ad04a6ca20e7f689b5aef83",
            "19a27c1488f44d8eba48d6f9c520e885",
            "6e113bebf38a41b3851a39938d9f767a",
            "790e4abe86524642b44fe164bdbdb18e",
            "a7b8e512fbf54bf998f9338b99660180",
            "9216275af1664b5da031f3bae6fd7142",
            "bc0961ab8a374c0d8a2bed2367ff7cbc",
            "e31140cb134944e093e883f622bb7766",
            "fd002ecb3add459591b3950afb0375e2",
            "0d5051daf954424298f2be3c6922209f",
            "67b04f218cff40f2b288929ede2ce20b",
            "f7e0c140ba3049e7b79a9c7a4dc103f8",
            "338a5418ca97449a84e978f5d1117799",
            "22de1570878f49d6995ffe6db275b49c",
            "baf0a3d3ebcf420db85075cedb07337a",
            "d655e86081ae4368a35a184de6baf890",
            "957ba3e9d0b14be684933d3bc8ad7c1c",
            "ece7201b68164ec39f47699f8ea53bc2",
            "6367ab4302fd4a7c826a98ae9c36f1b5",
            "0e84882fbeeb43678d1360cbe159ef02",
            "fdd45e1ba28d44ecae83338ad83a198c",
            "8fae77d908d04d48b1e5b4f6d0602b70",
            "7bb954c1e9b845afb1e1e68d61f35a17",
            "8d18204c553644dca3dbd5c7f7e4ea7d",
            "f1f5350c5d374f739ffcedd0d9e3011e",
            "babb2737a6004b32b0a0ece002bb64c0",
            "e25f45fcccb648b9b2f68a2714e030f4",
            "4548705a94994c1cbde490a1f02e9050",
            "4515805ffc2c4cd5b53af5cc9086633d",
            "ffd3dfeebc5644fbb9d30b25dcd842c9",
            "f45459ded44d46018bdcb387841d9d56",
            "43dc0e5d1ac8433199bf1cf252527cd7",
            "bd2fccf26bf14b63be2b957cee0bce36",
            "a7e59f9eff5f4327b41707bf7c718fd7",
            "0e1df058e6a548829d060e6df8d22f2b",
            "7cfa27feadf24e30ae9403f70e8b5796",
            "be2190050af44d5d891275877b010c3e",
            "be809fa72eef41ffa80406b57fef01f6",
            "21080a28394d4cfa8efae41de1a06dce",
            "f62aee1bed8e41f6bd558e1947faa355",
            "e1e1625978734431b28e3b9eb1e29c82",
            "617f54a2230747b4877e9b7fa2d1f3a2",
            "8232c3311915415191a314449e85d79a",
            "5f44d3951e934365b54856635d951a97",
            "69578d1090ec43aca5e2464eab0b8082",
            "c660d776528d4adb93abde981b606422",
            "67a295c001474ed386a9aa38d1a8ac66",
            "1e9aa7db79904f4fbc48e0bcfc642ca5",
            "db1769503f4244f9b94dc326023404aa",
            "005d67e1808347f8aa345be572bf2e0c",
            "03e9df3e23a64777b3312574edc01700",
            "048781975c54497ea43730ff5cae54e6",
            "80a5734ce98a4d649aa2d4b584021f57",
            "96fd72eea78b4229a11265c33ec60b4f",
            "d55df47f1a0f401fa8c7261a97fe6608",
            "852cf23724714e4cb2e3e8935404be71",
            "6afe0780267b47469ac36225d0455445",
            "b07ba90297c24552a4a67ef5e7f7e260",
            "8240c017cb9b4ac29b786d311fd7a265",
            "a52791f0059f46a097405b1fdf84d0c1",
            "5462bd51ba524b3e994ebbcecf7191ee",
            "5e4e22fb804c488db37cee62de0a5217",
            "bae834030a75417baf716b2ad37ddf9a",
            "41bd5d14ae974c54ae8e1662e6b2b695"
          ]
        },
        "id": "vlULgvpg0OQG",
        "outputId": "173701d1-4afe-47c7-ea44-41305a559aa2"
      },
      "execution_count": null,
      "outputs": [
        {
          "output_type": "display_data",
          "data": {
            "text/plain": [
              "Downloading https://raw.githubusercontent.com/stanfordnlp/stanza-resources/main/resources_1.4.1.json:   0%|   …"
            ],
            "application/vnd.jupyter.widget-view+json": {
              "version_major": 2,
              "version_minor": 0,
              "model_id": "f4fa38ab37a840379b739bcb7339518d"
            }
          },
          "metadata": {}
        },
        {
          "output_type": "stream",
          "name": "stderr",
          "text": [
            "INFO:stanza:Downloading these customized packages for language: es (Spanish)...\n",
            "==============================\n",
            "| Processor       | Package  |\n",
            "------------------------------\n",
            "| tokenize        | ancora   |\n",
            "| mwt             | ancora   |\n",
            "| pos             | ancora   |\n",
            "| lemma           | ancora   |\n",
            "| pretrain        | ancora   |\n",
            "| backward_charlm | newswiki |\n",
            "| forward_charlm  | newswiki |\n",
            "==============================\n",
            "\n"
          ]
        },
        {
          "output_type": "display_data",
          "data": {
            "text/plain": [
              "Downloading https://huggingface.co/stanfordnlp/stanza-es/resolve/v1.4.1/models/tokenize/ancora.pt:   0%|      …"
            ],
            "application/vnd.jupyter.widget-view+json": {
              "version_major": 2,
              "version_minor": 0,
              "model_id": "4bff3718ebf54f86a666946419e6cd2c"
            }
          },
          "metadata": {}
        },
        {
          "output_type": "display_data",
          "data": {
            "text/plain": [
              "Downloading https://huggingface.co/stanfordnlp/stanza-es/resolve/v1.4.1/models/mwt/ancora.pt:   0%|          |…"
            ],
            "application/vnd.jupyter.widget-view+json": {
              "version_major": 2,
              "version_minor": 0,
              "model_id": "699c07fbc14f4000888f2670a1816838"
            }
          },
          "metadata": {}
        },
        {
          "output_type": "display_data",
          "data": {
            "text/plain": [
              "Downloading https://huggingface.co/stanfordnlp/stanza-es/resolve/v1.4.1/models/pos/ancora.pt:   0%|          |…"
            ],
            "application/vnd.jupyter.widget-view+json": {
              "version_major": 2,
              "version_minor": 0,
              "model_id": "0d5051daf954424298f2be3c6922209f"
            }
          },
          "metadata": {}
        },
        {
          "output_type": "display_data",
          "data": {
            "text/plain": [
              "Downloading https://huggingface.co/stanfordnlp/stanza-es/resolve/v1.4.1/models/lemma/ancora.pt:   0%|         …"
            ],
            "application/vnd.jupyter.widget-view+json": {
              "version_major": 2,
              "version_minor": 0,
              "model_id": "fdd45e1ba28d44ecae83338ad83a198c"
            }
          },
          "metadata": {}
        },
        {
          "output_type": "display_data",
          "data": {
            "text/plain": [
              "Downloading https://huggingface.co/stanfordnlp/stanza-es/resolve/v1.4.1/models/pretrain/ancora.pt:   0%|      …"
            ],
            "application/vnd.jupyter.widget-view+json": {
              "version_major": 2,
              "version_minor": 0,
              "model_id": "43dc0e5d1ac8433199bf1cf252527cd7"
            }
          },
          "metadata": {}
        },
        {
          "output_type": "display_data",
          "data": {
            "text/plain": [
              "Downloading https://huggingface.co/stanfordnlp/stanza-es/resolve/v1.4.1/models/backward_charlm/newswiki.pt:   …"
            ],
            "application/vnd.jupyter.widget-view+json": {
              "version_major": 2,
              "version_minor": 0,
              "model_id": "8232c3311915415191a314449e85d79a"
            }
          },
          "metadata": {}
        },
        {
          "output_type": "display_data",
          "data": {
            "text/plain": [
              "Downloading https://huggingface.co/stanfordnlp/stanza-es/resolve/v1.4.1/models/forward_charlm/newswiki.pt:   0…"
            ],
            "application/vnd.jupyter.widget-view+json": {
              "version_major": 2,
              "version_minor": 0,
              "model_id": "96fd72eea78b4229a11265c33ec60b4f"
            }
          },
          "metadata": {}
        },
        {
          "output_type": "stream",
          "name": "stderr",
          "text": [
            "INFO:stanza:Finished downloading models and saved to /root/stanza_resources.\n"
          ]
        }
      ]
    },
    {
      "cell_type": "code",
      "source": [
        "#stNLP = stanza.Pipeline(processors='tokenize,mwt,pos,lemma', lang='es', use_gpu=True)"
      ],
      "metadata": {
        "id": "1PuVwCmG0Zgx"
      },
      "execution_count": null,
      "outputs": []
    },
    {
      "cell_type": "code",
      "source": [
        "type(df[\"mejorar\"][1])"
      ],
      "metadata": {
        "colab": {
          "base_uri": "https://localhost:8080/"
        },
        "id": "c2FgKtp_1O_E",
        "outputId": "4deee8a8-bb4a-4744-b2dc-6341c62d2430"
      },
      "execution_count": null,
      "outputs": [
        {
          "output_type": "execute_result",
          "data": {
            "text/plain": [
              "str"
            ]
          },
          "metadata": {},
          "execution_count": 107
        }
      ]
    },
    {
      "cell_type": "code",
      "source": [
        "import simplemma"
      ],
      "metadata": {
        "id": "mIBpwjEm1tWd"
      },
      "execution_count": null,
      "outputs": []
    },
    {
      "cell_type": "code",
      "source": [
        "df[\"mejorar\"][12]"
      ],
      "metadata": {
        "colab": {
          "base_uri": "https://localhost:8080/",
          "height": 35
        },
        "id": "It4vW9ap1ylW",
        "outputId": "f6eb8f7b-8ad0-4e2d-c4cd-14876858a722"
      },
      "execution_count": null,
      "outputs": [
        {
          "output_type": "execute_result",
          "data": {
            "text/plain": [
              "'no considero que deba cambiar pues el es un docente flexible que permite que se hagan acuerdos en el trascurso del curso'"
            ],
            "application/vnd.google.colaboratory.intrinsic+json": {
              "type": "string"
            }
          },
          "metadata": {},
          "execution_count": 115
        }
      ]
    },
    {
      "cell_type": "code",
      "source": [
        "lematizando = []\n",
        "for i in range(len(df[\"mejorar\"])):\n",
        "  lematizando.append(simplemma.text_lemmatizer(df[\"mejorar\"][i], lang='es'))"
      ],
      "metadata": {
        "id": "Aybu6a1m2O6-"
      },
      "execution_count": null,
      "outputs": []
    },
    {
      "cell_type": "code",
      "source": [
        "df[\"lema\"] = lematizando"
      ],
      "metadata": {
        "id": "D4YM-XDq2gQ6"
      },
      "execution_count": null,
      "outputs": []
    },
    {
      "cell_type": "code",
      "source": [
        "df.head()"
      ],
      "metadata": {
        "colab": {
          "base_uri": "https://localhost:8080/",
          "height": 206
        },
        "id": "YbI9SI1s2pRy",
        "outputId": "5f742f92-ce1a-45f7-d5ce-51b9c0aa3c8f"
      },
      "execution_count": null,
      "outputs": [
        {
          "output_type": "execute_result",
          "data": {
            "text/plain": [
              "                                            destacar  \\\n",
              "0   comunicación sencillez disponibilidad amabilidad   \n",
              "1  puntualidad disposicion amabilidad conocimient...   \n",
              "2                                            ninguno   \n",
              "3  disposición la hora de dictar la clase buena e...   \n",
              "4  el profesor se preocupa porque uno aprenda rea...   \n",
              "\n",
              "                                             mejorar  \\\n",
              "0                                        puntualidad   \n",
              "1  disminuir la velocidad la que desarrolla los t...   \n",
              "2                                            ninguno   \n",
              "3     organización del tablero de la sesión de clase   \n",
              "4                                          no lo sé    \n",
              "\n",
              "                                                lema  \n",
              "0                                      [puntualidad]  \n",
              "1  [disminuir, el, velocidad, el, que, desarrolla...  \n",
              "2                                          [ninguno]  \n",
              "3  [organización, del, tablero, de, el, sesión, d...  \n",
              "4                                      [no, él, ser]  "
            ],
            "text/html": [
              "\n",
              "  <div id=\"df-cd693c0b-cd96-41ee-931e-e47fdb2d3bec\">\n",
              "    <div class=\"colab-df-container\">\n",
              "      <div>\n",
              "<style scoped>\n",
              "    .dataframe tbody tr th:only-of-type {\n",
              "        vertical-align: middle;\n",
              "    }\n",
              "\n",
              "    .dataframe tbody tr th {\n",
              "        vertical-align: top;\n",
              "    }\n",
              "\n",
              "    .dataframe thead th {\n",
              "        text-align: right;\n",
              "    }\n",
              "</style>\n",
              "<table border=\"1\" class=\"dataframe\">\n",
              "  <thead>\n",
              "    <tr style=\"text-align: right;\">\n",
              "      <th></th>\n",
              "      <th>destacar</th>\n",
              "      <th>mejorar</th>\n",
              "      <th>lema</th>\n",
              "    </tr>\n",
              "  </thead>\n",
              "  <tbody>\n",
              "    <tr>\n",
              "      <th>0</th>\n",
              "      <td>comunicación sencillez disponibilidad amabilidad</td>\n",
              "      <td>puntualidad</td>\n",
              "      <td>[puntualidad]</td>\n",
              "    </tr>\n",
              "    <tr>\n",
              "      <th>1</th>\n",
              "      <td>puntualidad disposicion amabilidad conocimient...</td>\n",
              "      <td>disminuir la velocidad la que desarrolla los t...</td>\n",
              "      <td>[disminuir, el, velocidad, el, que, desarrolla...</td>\n",
              "    </tr>\n",
              "    <tr>\n",
              "      <th>2</th>\n",
              "      <td>ninguno</td>\n",
              "      <td>ninguno</td>\n",
              "      <td>[ninguno]</td>\n",
              "    </tr>\n",
              "    <tr>\n",
              "      <th>3</th>\n",
              "      <td>disposición la hora de dictar la clase buena e...</td>\n",
              "      <td>organización del tablero de la sesión de clase</td>\n",
              "      <td>[organización, del, tablero, de, el, sesión, d...</td>\n",
              "    </tr>\n",
              "    <tr>\n",
              "      <th>4</th>\n",
              "      <td>el profesor se preocupa porque uno aprenda rea...</td>\n",
              "      <td>no lo sé</td>\n",
              "      <td>[no, él, ser]</td>\n",
              "    </tr>\n",
              "  </tbody>\n",
              "</table>\n",
              "</div>\n",
              "      <button class=\"colab-df-convert\" onclick=\"convertToInteractive('df-cd693c0b-cd96-41ee-931e-e47fdb2d3bec')\"\n",
              "              title=\"Convert this dataframe to an interactive table.\"\n",
              "              style=\"display:none;\">\n",
              "        \n",
              "  <svg xmlns=\"http://www.w3.org/2000/svg\" height=\"24px\"viewBox=\"0 0 24 24\"\n",
              "       width=\"24px\">\n",
              "    <path d=\"M0 0h24v24H0V0z\" fill=\"none\"/>\n",
              "    <path d=\"M18.56 5.44l.94 2.06.94-2.06 2.06-.94-2.06-.94-.94-2.06-.94 2.06-2.06.94zm-11 1L8.5 8.5l.94-2.06 2.06-.94-2.06-.94L8.5 2.5l-.94 2.06-2.06.94zm10 10l.94 2.06.94-2.06 2.06-.94-2.06-.94-.94-2.06-.94 2.06-2.06.94z\"/><path d=\"M17.41 7.96l-1.37-1.37c-.4-.4-.92-.59-1.43-.59-.52 0-1.04.2-1.43.59L10.3 9.45l-7.72 7.72c-.78.78-.78 2.05 0 2.83L4 21.41c.39.39.9.59 1.41.59.51 0 1.02-.2 1.41-.59l7.78-7.78 2.81-2.81c.8-.78.8-2.07 0-2.86zM5.41 20L4 18.59l7.72-7.72 1.47 1.35L5.41 20z\"/>\n",
              "  </svg>\n",
              "      </button>\n",
              "      \n",
              "  <style>\n",
              "    .colab-df-container {\n",
              "      display:flex;\n",
              "      flex-wrap:wrap;\n",
              "      gap: 12px;\n",
              "    }\n",
              "\n",
              "    .colab-df-convert {\n",
              "      background-color: #E8F0FE;\n",
              "      border: none;\n",
              "      border-radius: 50%;\n",
              "      cursor: pointer;\n",
              "      display: none;\n",
              "      fill: #1967D2;\n",
              "      height: 32px;\n",
              "      padding: 0 0 0 0;\n",
              "      width: 32px;\n",
              "    }\n",
              "\n",
              "    .colab-df-convert:hover {\n",
              "      background-color: #E2EBFA;\n",
              "      box-shadow: 0px 1px 2px rgba(60, 64, 67, 0.3), 0px 1px 3px 1px rgba(60, 64, 67, 0.15);\n",
              "      fill: #174EA6;\n",
              "    }\n",
              "\n",
              "    [theme=dark] .colab-df-convert {\n",
              "      background-color: #3B4455;\n",
              "      fill: #D2E3FC;\n",
              "    }\n",
              "\n",
              "    [theme=dark] .colab-df-convert:hover {\n",
              "      background-color: #434B5C;\n",
              "      box-shadow: 0px 1px 3px 1px rgba(0, 0, 0, 0.15);\n",
              "      filter: drop-shadow(0px 1px 2px rgba(0, 0, 0, 0.3));\n",
              "      fill: #FFFFFF;\n",
              "    }\n",
              "  </style>\n",
              "\n",
              "      <script>\n",
              "        const buttonEl =\n",
              "          document.querySelector('#df-cd693c0b-cd96-41ee-931e-e47fdb2d3bec button.colab-df-convert');\n",
              "        buttonEl.style.display =\n",
              "          google.colab.kernel.accessAllowed ? 'block' : 'none';\n",
              "\n",
              "        async function convertToInteractive(key) {\n",
              "          const element = document.querySelector('#df-cd693c0b-cd96-41ee-931e-e47fdb2d3bec');\n",
              "          const dataTable =\n",
              "            await google.colab.kernel.invokeFunction('convertToInteractive',\n",
              "                                                     [key], {});\n",
              "          if (!dataTable) return;\n",
              "\n",
              "          const docLinkHtml = 'Like what you see? Visit the ' +\n",
              "            '<a target=\"_blank\" href=https://colab.research.google.com/notebooks/data_table.ipynb>data table notebook</a>'\n",
              "            + ' to learn more about interactive tables.';\n",
              "          element.innerHTML = '';\n",
              "          dataTable['output_type'] = 'display_data';\n",
              "          await google.colab.output.renderOutput(dataTable, element);\n",
              "          const docLink = document.createElement('div');\n",
              "          docLink.innerHTML = docLinkHtml;\n",
              "          element.appendChild(docLink);\n",
              "        }\n",
              "      </script>\n",
              "    </div>\n",
              "  </div>\n",
              "  "
            ]
          },
          "metadata": {},
          "execution_count": 134
        }
      ]
    },
    {
      "cell_type": "markdown",
      "source": [
        "## Análisis de sentimientos\n",
        "\n",
        "Intenté usar Vader, pero no es tan bueno para el español. Voy a usar Robertuito."
      ],
      "metadata": {
        "id": "0wb4xaDJwfQM"
      }
    },
    {
      "cell_type": "code",
      "source": [
        "pip install pysentimiento"
      ],
      "metadata": {
        "id": "hkj0X0cJwrb2"
      },
      "execution_count": null,
      "outputs": []
    },
    {
      "cell_type": "code",
      "source": [
        "from pysentimiento import create_analyzer\n",
        "analyzer = create_analyzer(task=\"sentiment\", lang=\"es\")"
      ],
      "metadata": {
        "colab": {
          "base_uri": "https://localhost:8080/"
        },
        "id": "dHowmGvvww5F",
        "outputId": "d4c5bb8a-746b-42fb-a64e-7dac8d74ba23"
      },
      "execution_count": null,
      "outputs": [
        {
          "output_type": "stream",
          "name": "stderr",
          "text": [
            "/usr/local/lib/python3.8/dist-packages/torch/cuda/__init__.py:497: UserWarning: Can't initialize NVML\n",
            "  warnings.warn(\"Can't initialize NVML\")\n"
          ]
        }
      ]
    },
    {
      "cell_type": "code",
      "source": [
        "df.dropna(inplace = True)"
      ],
      "metadata": {
        "id": "tHGM8E7EUUvo"
      },
      "execution_count": null,
      "outputs": []
    },
    {
      "cell_type": "code",
      "source": [
        "prueba = analyzer.predict(df[\"mejorar\"][20]) \n",
        "# Sí trabaja de manera vectorial!!!"
      ],
      "metadata": {
        "id": "XfohGayWU0eL"
      },
      "execution_count": null,
      "outputs": []
    },
    {
      "cell_type": "code",
      "source": [
        "df[\"mejorar\"]"
      ],
      "metadata": {
        "id": "driezkct6cE3",
        "outputId": "8a4dbf2f-480b-48a1-e8c2-981000cc6b55",
        "colab": {
          "base_uri": "https://localhost:8080/"
        }
      },
      "execution_count": null,
      "outputs": [
        {
          "output_type": "execute_result",
          "data": {
            "text/plain": [
              "0                                             puntualidad\n",
              "1       disminuir la velocidad la que desarrolla los t...\n",
              "2                                                 ninguno\n",
              "3          organización del tablero de la sesión de clase\n",
              "4                                               no lo sé \n",
              "                              ...                        \n",
              "1350             compartir las notas con los estudiantes \n",
              "1351              el orden de sus explicaciones en paint \n",
              "1352                                             ninguno \n",
              "1353                                                  nan\n",
              "1354           orden en los escritos del tablero virtual \n",
              "Name: mejorar, Length: 1355, dtype: object"
            ]
          },
          "metadata": {},
          "execution_count": 159
        }
      ]
    },
    {
      "cell_type": "code",
      "source": [
        "prueba.output"
      ],
      "metadata": {
        "colab": {
          "base_uri": "https://localhost:8080/",
          "height": 35
        },
        "id": "UIfzOw5O4hOG",
        "outputId": "5f245881-1bba-4e98-b02a-7ffce6cbd3e6"
      },
      "execution_count": null,
      "outputs": [
        {
          "output_type": "execute_result",
          "data": {
            "text/plain": [
              "'NEU'"
            ],
            "application/vnd.google.colaboratory.intrinsic+json": {
              "type": "string"
            }
          },
          "metadata": {},
          "execution_count": 158
        }
      ]
    },
    {
      "cell_type": "code",
      "source": [
        "help(create_analyzer)"
      ],
      "metadata": {
        "id": "Iq7cs8JrXYdZ"
      },
      "execution_count": null,
      "outputs": []
    },
    {
      "cell_type": "code",
      "source": [
        "# Veamos unos cuantos ejemplos para la seección de \"cosas por mejorar\"\n",
        "#df['punt_mejorar'] = df.iloc[:,1].apply(lambda x: analyzer.predict(x))\n",
        "df[\"punt_mejorar\"] = analyzer.predict(df[\"mejorar\"])\n",
        "# Averiguar si analyzer trabaja directo de manera vectorial. (SÍ)\n",
        "# Mirar si se puede usar batch size. (no la he pillado) \n",
        "# No quitar comas ni puntos. (No pude...) (YA...)"
      ],
      "metadata": {
        "id": "VheCY7JQxHgT",
        "colab": {
          "base_uri": "https://localhost:8080/",
          "height": 143,
          "referenced_widgets": [
            "67c0ee8f245e46ffa0fdf8d01d0816a0",
            "31768c76945e46839a0e85ea900ad5d9",
            "9b934e54fe0d4743a6a95e5fc7bf5112",
            "9f9acac14e4e478d92aa56f6dc43774a",
            "aaece8e218034c9bb938ea01fd302ac9",
            "38fe691e77014edb94c95a75f4b8c20a",
            "5fd191f48f384496a2454b6087cfe0bf",
            "bb9b97f85c15452881e2769958df1882",
            "067c806c775142609d73e514e1c5ccd2",
            "5fd5ec2e3ce74783b2fdbdf682c5ce8b",
            "332d9c17264a478cab92c32c614fb2b6"
          ]
        },
        "outputId": "263ac335-5842-43a9-e40a-cd12402094b5"
      },
      "execution_count": null,
      "outputs": [
        {
          "output_type": "display_data",
          "data": {
            "text/plain": [
              "  0%|          | 0/42 [00:00<?, ?ba/s]"
            ],
            "application/vnd.jupyter.widget-view+json": {
              "version_major": 2,
              "version_minor": 0,
              "model_id": "67c0ee8f245e46ffa0fdf8d01d0816a0"
            }
          },
          "metadata": {}
        },
        {
          "output_type": "stream",
          "name": "stderr",
          "text": [
            "The following columns in the test set  don't have a corresponding argument in `RobertaForSequenceClassification.forward` and have been ignored: text.\n",
            "***** Running Prediction *****\n",
            "  Num examples = 1335\n",
            "  Batch size = 32\n"
          ]
        },
        {
          "output_type": "display_data",
          "data": {
            "text/plain": [
              "<IPython.core.display.HTML object>"
            ],
            "text/html": [
              "\n",
              "    <div>\n",
              "      \n",
              "      <progress value='44' max='1' style='width:300px; height:20px; vertical-align: middle;'></progress>\n",
              "      [1/1 12:34]\n",
              "    </div>\n",
              "    "
            ]
          },
          "metadata": {}
        }
      ]
    },
    {
      "cell_type": "code",
      "source": [
        "prueba"
      ],
      "metadata": {
        "colab": {
          "base_uri": "https://localhost:8080/"
        },
        "id": "CPNVGZpW4cdt",
        "outputId": "748ea90e-b5e8-4726-8292-ee499e25279b"
      },
      "execution_count": null,
      "outputs": [
        {
          "output_type": "execute_result",
          "data": {
            "text/plain": [
              "[AnalyzerOutput(output=NEU, probas={NEU: 0.934, POS: 0.043, NEG: 0.023}),\n",
              " AnalyzerOutput(output=NEU, probas={NEU: 0.989, POS: 0.006, NEG: 0.005}),\n",
              " AnalyzerOutput(output=NEU, probas={NEU: 0.595, NEG: 0.207, POS: 0.197}),\n",
              " AnalyzerOutput(output=NEU, probas={NEU: 0.987, NEG: 0.009, POS: 0.004}),\n",
              " AnalyzerOutput(output=NEU, probas={NEU: 0.960, NEG: 0.026, POS: 0.014}),\n",
              " AnalyzerOutput(output=NEU, probas={NEU: 0.983, POS: 0.015, NEG: 0.002}),\n",
              " AnalyzerOutput(output=NEU, probas={NEU: 0.965, POS: 0.022, NEG: 0.012}),\n",
              " AnalyzerOutput(output=NEU, probas={NEU: 0.990, NEG: 0.008, POS: 0.002}),\n",
              " AnalyzerOutput(output=NEU, probas={NEU: 0.974, NEG: 0.023, POS: 0.003}),\n",
              " AnalyzerOutput(output=NEG, probas={NEG: 0.729, NEU: 0.269, POS: 0.002}),\n",
              " AnalyzerOutput(output=POS, probas={POS: 0.996, NEU: 0.004, NEG: 0.001}),\n",
              " AnalyzerOutput(output=NEU, probas={NEU: 0.985, POS: 0.012, NEG: 0.003}),\n",
              " AnalyzerOutput(output=NEU, probas={NEU: 0.991, NEG: 0.005, POS: 0.004}),\n",
              " AnalyzerOutput(output=NEG, probas={NEG: 0.973, NEU: 0.026, POS: 0.000}),\n",
              " AnalyzerOutput(output=NEU, probas={NEU: 0.984, POS: 0.011, NEG: 0.006}),\n",
              " AnalyzerOutput(output=NEU, probas={NEU: 0.595, NEG: 0.207, POS: 0.197}),\n",
              " AnalyzerOutput(output=NEG, probas={NEG: 0.956, NEU: 0.043, POS: 0.001}),\n",
              " AnalyzerOutput(output=NEG, probas={NEG: 0.996, NEU: 0.003, POS: 0.001}),\n",
              " AnalyzerOutput(output=NEG, probas={NEG: 0.702, NEU: 0.296, POS: 0.001}),\n",
              " AnalyzerOutput(output=POS, probas={POS: 0.769, NEU: 0.229, NEG: 0.002})]"
            ]
          },
          "metadata": {},
          "execution_count": 155
        }
      ]
    },
    {
      "cell_type": "markdown",
      "source": [
        "Hagamos un par de pruebas..."
      ],
      "metadata": {
        "id": "jrYTlyvlyyM2"
      }
    },
    {
      "cell_type": "code",
      "source": [
        "print(\"reseña:\",df[\"mejorar\"][500])\n",
        "print(df['punt_mejorar'][500]) # sin puntuaciones daba negativo: 0.985. NEU = 0.014"
      ],
      "metadata": {
        "colab": {
          "base_uri": "https://localhost:8080/"
        },
        "id": "2474U0Apy0Jk",
        "outputId": "534a8928-a3cc-4f5f-a031-cd2ccbb51b49"
      },
      "execution_count": null,
      "outputs": [
        {
          "output_type": "stream",
          "name": "stdout",
          "text": [
            "reseña: su manera de expresarse hacia los estudiantes a pesar que intenta ser comprensivo su manera de resolver preguntas es un poco fuerte llegando a ser un poco tosco y cortante \n",
            "AnalyzerOutput(output=NEG, probas={NEG: 0.985, NEU: 0.014, POS: 0.000})\n"
          ]
        }
      ]
    },
    {
      "cell_type": "code",
      "source": [
        "print(\"reseña:\",df[\"mejorar\"][200])\n",
        "print(df['punt_mejorar'][200])"
      ],
      "metadata": {
        "colab": {
          "base_uri": "https://localhost:8080/"
        },
        "id": "Gr0Qlw0HzCI8",
        "outputId": "ebb25bef-2334-446c-a794-47fbd57fb048"
      },
      "execution_count": null,
      "outputs": [
        {
          "output_type": "stream",
          "name": "stdout",
          "text": [
            "reseña: ninguno\n",
            "AnalyzerOutput(output=NEU, probas={NEU: 0.595, NEG: 0.207, POS: 0.197})\n"
          ]
        }
      ]
    },
    {
      "cell_type": "code",
      "source": [
        "print(\"reseña:\",df[\"mejorar\"][10])\n",
        "print(df['punt_mejorar'][10])"
      ],
      "metadata": {
        "colab": {
          "base_uri": "https://localhost:8080/"
        },
        "id": "DZPIwEd3zMqe",
        "outputId": "3880bf7a-6398-49e2-cfa6-069c46da97c4"
      },
      "execution_count": null,
      "outputs": [
        {
          "output_type": "stream",
          "name": "stdout",
          "text": [
            "reseña: nada considero que es un excelente profesor \n",
            "AnalyzerOutput(output=POS, probas={POS: 0.996, NEU: 0.004, NEG: 0.001})\n"
          ]
        }
      ]
    },
    {
      "cell_type": "markdown",
      "source": [
        "## Ahora, hagamos un pequeño análisis de tópicos"
      ],
      "metadata": {
        "id": "tPtKIYt51CX8"
      }
    },
    {
      "cell_type": "code",
      "source": [
        "nltk.download('stopwords')"
      ],
      "metadata": {
        "colab": {
          "base_uri": "https://localhost:8080/"
        },
        "id": "PUozQBBd1kL6",
        "outputId": "fbdcf330-375d-43b5-d1a7-29f222383094"
      },
      "execution_count": null,
      "outputs": [
        {
          "output_type": "stream",
          "name": "stderr",
          "text": [
            "[nltk_data] Downloading package stopwords to /root/nltk_data...\n",
            "[nltk_data]   Package stopwords is already up-to-date!\n"
          ]
        },
        {
          "output_type": "execute_result",
          "data": {
            "text/plain": [
              "True"
            ]
          },
          "metadata": {},
          "execution_count": 140
        }
      ]
    },
    {
      "cell_type": "code",
      "source": [
        "df[\"Tokens\"] = df[\"lema\"]"
      ],
      "metadata": {
        "id": "re9clrk11qKb"
      },
      "execution_count": null,
      "outputs": []
    },
    {
      "cell_type": "code",
      "source": [
        "tokenizer = ToktokTokenizer() \n",
        "df[\"Tokens\"] = df.Tokens.apply(tokenizer.tokenize) # No hace falta, ya tokenicé cuando lematicé\n",
        "df.head()"
      ],
      "metadata": {
        "colab": {
          "base_uri": "https://localhost:8080/",
          "height": 206
        },
        "id": "myvb4EFO13Cx",
        "outputId": "ca3ce0c1-cc9d-4673-8bf8-cd3fb1fcf08f"
      },
      "execution_count": null,
      "outputs": [
        {
          "output_type": "execute_result",
          "data": {
            "text/plain": [
              "                                            destacar  \\\n",
              "0   comunicación sencillez disponibilidad amabilidad   \n",
              "1  puntualidad disposicion amabilidad conocimient...   \n",
              "2                                            ninguno   \n",
              "3  disposición la hora de dictar la clase buena e...   \n",
              "4  el profesor se preocupa porque uno aprenda rea...   \n",
              "\n",
              "                                             mejorar  \\\n",
              "0                                        puntualidad   \n",
              "1  disminuir la velocidad la que desarrolla los t...   \n",
              "2                                            ninguno   \n",
              "3     organización del tablero de la sesión de clase   \n",
              "4                                          no lo sé    \n",
              "\n",
              "                                                lema  \\\n",
              "0                                      [puntualidad]   \n",
              "1  [disminuir, el, velocidad, el, que, desarrolla...   \n",
              "2                                          [ninguno]   \n",
              "3  [organización, del, tablero, de, el, sesión, d...   \n",
              "4                                      [no, él, ser]   \n",
              "\n",
              "                                              Tokens  \n",
              "0                          [[, ', puntualidad, ', ]]  \n",
              "1  [[, ', disminuir, ', ,, ', el, ', ,, ', veloci...  \n",
              "2                              [[, ', ninguno, ', ]]  \n",
              "3  [[, ', organización, ', ,, ', del, ', ,, ', ta...  \n",
              "4        [[, ', no, ', ,, ', él, ', ,, ', ser, ', ]]  "
            ],
            "text/html": [
              "\n",
              "  <div id=\"df-d6e0559b-7d1d-4ef4-8d3e-1076cfd39472\">\n",
              "    <div class=\"colab-df-container\">\n",
              "      <div>\n",
              "<style scoped>\n",
              "    .dataframe tbody tr th:only-of-type {\n",
              "        vertical-align: middle;\n",
              "    }\n",
              "\n",
              "    .dataframe tbody tr th {\n",
              "        vertical-align: top;\n",
              "    }\n",
              "\n",
              "    .dataframe thead th {\n",
              "        text-align: right;\n",
              "    }\n",
              "</style>\n",
              "<table border=\"1\" class=\"dataframe\">\n",
              "  <thead>\n",
              "    <tr style=\"text-align: right;\">\n",
              "      <th></th>\n",
              "      <th>destacar</th>\n",
              "      <th>mejorar</th>\n",
              "      <th>lema</th>\n",
              "      <th>Tokens</th>\n",
              "    </tr>\n",
              "  </thead>\n",
              "  <tbody>\n",
              "    <tr>\n",
              "      <th>0</th>\n",
              "      <td>comunicación sencillez disponibilidad amabilidad</td>\n",
              "      <td>puntualidad</td>\n",
              "      <td>[puntualidad]</td>\n",
              "      <td>[[, ', puntualidad, ', ]]</td>\n",
              "    </tr>\n",
              "    <tr>\n",
              "      <th>1</th>\n",
              "      <td>puntualidad disposicion amabilidad conocimient...</td>\n",
              "      <td>disminuir la velocidad la que desarrolla los t...</td>\n",
              "      <td>[disminuir, el, velocidad, el, que, desarrolla...</td>\n",
              "      <td>[[, ', disminuir, ', ,, ', el, ', ,, ', veloci...</td>\n",
              "    </tr>\n",
              "    <tr>\n",
              "      <th>2</th>\n",
              "      <td>ninguno</td>\n",
              "      <td>ninguno</td>\n",
              "      <td>[ninguno]</td>\n",
              "      <td>[[, ', ninguno, ', ]]</td>\n",
              "    </tr>\n",
              "    <tr>\n",
              "      <th>3</th>\n",
              "      <td>disposición la hora de dictar la clase buena e...</td>\n",
              "      <td>organización del tablero de la sesión de clase</td>\n",
              "      <td>[organización, del, tablero, de, el, sesión, d...</td>\n",
              "      <td>[[, ', organización, ', ,, ', del, ', ,, ', ta...</td>\n",
              "    </tr>\n",
              "    <tr>\n",
              "      <th>4</th>\n",
              "      <td>el profesor se preocupa porque uno aprenda rea...</td>\n",
              "      <td>no lo sé</td>\n",
              "      <td>[no, él, ser]</td>\n",
              "      <td>[[, ', no, ', ,, ', él, ', ,, ', ser, ', ]]</td>\n",
              "    </tr>\n",
              "  </tbody>\n",
              "</table>\n",
              "</div>\n",
              "      <button class=\"colab-df-convert\" onclick=\"convertToInteractive('df-d6e0559b-7d1d-4ef4-8d3e-1076cfd39472')\"\n",
              "              title=\"Convert this dataframe to an interactive table.\"\n",
              "              style=\"display:none;\">\n",
              "        \n",
              "  <svg xmlns=\"http://www.w3.org/2000/svg\" height=\"24px\"viewBox=\"0 0 24 24\"\n",
              "       width=\"24px\">\n",
              "    <path d=\"M0 0h24v24H0V0z\" fill=\"none\"/>\n",
              "    <path d=\"M18.56 5.44l.94 2.06.94-2.06 2.06-.94-2.06-.94-.94-2.06-.94 2.06-2.06.94zm-11 1L8.5 8.5l.94-2.06 2.06-.94-2.06-.94L8.5 2.5l-.94 2.06-2.06.94zm10 10l.94 2.06.94-2.06 2.06-.94-2.06-.94-.94-2.06-.94 2.06-2.06.94z\"/><path d=\"M17.41 7.96l-1.37-1.37c-.4-.4-.92-.59-1.43-.59-.52 0-1.04.2-1.43.59L10.3 9.45l-7.72 7.72c-.78.78-.78 2.05 0 2.83L4 21.41c.39.39.9.59 1.41.59.51 0 1.02-.2 1.41-.59l7.78-7.78 2.81-2.81c.8-.78.8-2.07 0-2.86zM5.41 20L4 18.59l7.72-7.72 1.47 1.35L5.41 20z\"/>\n",
              "  </svg>\n",
              "      </button>\n",
              "      \n",
              "  <style>\n",
              "    .colab-df-container {\n",
              "      display:flex;\n",
              "      flex-wrap:wrap;\n",
              "      gap: 12px;\n",
              "    }\n",
              "\n",
              "    .colab-df-convert {\n",
              "      background-color: #E8F0FE;\n",
              "      border: none;\n",
              "      border-radius: 50%;\n",
              "      cursor: pointer;\n",
              "      display: none;\n",
              "      fill: #1967D2;\n",
              "      height: 32px;\n",
              "      padding: 0 0 0 0;\n",
              "      width: 32px;\n",
              "    }\n",
              "\n",
              "    .colab-df-convert:hover {\n",
              "      background-color: #E2EBFA;\n",
              "      box-shadow: 0px 1px 2px rgba(60, 64, 67, 0.3), 0px 1px 3px 1px rgba(60, 64, 67, 0.15);\n",
              "      fill: #174EA6;\n",
              "    }\n",
              "\n",
              "    [theme=dark] .colab-df-convert {\n",
              "      background-color: #3B4455;\n",
              "      fill: #D2E3FC;\n",
              "    }\n",
              "\n",
              "    [theme=dark] .colab-df-convert:hover {\n",
              "      background-color: #434B5C;\n",
              "      box-shadow: 0px 1px 3px 1px rgba(0, 0, 0, 0.15);\n",
              "      filter: drop-shadow(0px 1px 2px rgba(0, 0, 0, 0.3));\n",
              "      fill: #FFFFFF;\n",
              "    }\n",
              "  </style>\n",
              "\n",
              "      <script>\n",
              "        const buttonEl =\n",
              "          document.querySelector('#df-d6e0559b-7d1d-4ef4-8d3e-1076cfd39472 button.colab-df-convert');\n",
              "        buttonEl.style.display =\n",
              "          google.colab.kernel.accessAllowed ? 'block' : 'none';\n",
              "\n",
              "        async function convertToInteractive(key) {\n",
              "          const element = document.querySelector('#df-d6e0559b-7d1d-4ef4-8d3e-1076cfd39472');\n",
              "          const dataTable =\n",
              "            await google.colab.kernel.invokeFunction('convertToInteractive',\n",
              "                                                     [key], {});\n",
              "          if (!dataTable) return;\n",
              "\n",
              "          const docLinkHtml = 'Like what you see? Visit the ' +\n",
              "            '<a target=\"_blank\" href=https://colab.research.google.com/notebooks/data_table.ipynb>data table notebook</a>'\n",
              "            + ' to learn more about interactive tables.';\n",
              "          element.innerHTML = '';\n",
              "          dataTable['output_type'] = 'display_data';\n",
              "          await google.colab.output.renderOutput(dataTable, element);\n",
              "          const docLink = document.createElement('div');\n",
              "          docLink.innerHTML = docLinkHtml;\n",
              "          element.appendChild(docLink);\n",
              "        }\n",
              "      </script>\n",
              "    </div>\n",
              "  </div>\n",
              "  "
            ]
          },
          "metadata": {},
          "execution_count": 142
        }
      ]
    },
    {
      "cell_type": "code",
      "source": [
        "STOPWORDS = set(stopwords.words(\"spanish\"))\n",
        "\n",
        "def filtrar_stopword_digitos(tokens):\n",
        "    \"\"\"\n",
        "    Filtra stopwords y digitos de una lista de tokens.\n",
        "    \"\"\"\n",
        "    return [token for token in tokens if token not in STOPWORDS \n",
        "            and not token.isdigit()]\n",
        "\n",
        "df[\"Tokenslema\"] = df.lema.apply(filtrar_stopword_digitos)\n",
        "#df[\"Tokens\"] = df.Tokens.apply(filtrar_stopword_digitos)\n",
        "df.head()"
      ],
      "metadata": {
        "colab": {
          "base_uri": "https://localhost:8080/",
          "height": 320
        },
        "id": "hmAxa-Ws1F5L",
        "outputId": "3abd4bea-c559-45dd-dd18-44d85f530210"
      },
      "execution_count": null,
      "outputs": [
        {
          "output_type": "execute_result",
          "data": {
            "text/plain": [
              "                                            destacar  \\\n",
              "0   comunicación sencillez disponibilidad amabilidad   \n",
              "1  puntualidad disposicion amabilidad conocimient...   \n",
              "2                                            ninguno   \n",
              "3  disposición la hora de dictar la clase buena e...   \n",
              "4  el profesor se preocupa porque uno aprenda rea...   \n",
              "\n",
              "                                             mejorar  \\\n",
              "0                                        puntualidad   \n",
              "1  disminuir la velocidad la que desarrolla los t...   \n",
              "2                                            ninguno   \n",
              "3     organización del tablero de la sesión de clase   \n",
              "4                                          no lo sé    \n",
              "\n",
              "                                                lema  \\\n",
              "0                                      [puntualidad]   \n",
              "1  [disminuir, el, velocidad, el, que, desarrolla...   \n",
              "2                                          [ninguno]   \n",
              "3  [organización, del, tablero, de, el, sesión, d...   \n",
              "4                                      [no, él, ser]   \n",
              "\n",
              "                                              Tokens  \\\n",
              "0                          [[, ', puntualidad, ', ]]   \n",
              "1  [[, ', disminuir, ', ,, ', ', ,, ', velocidad,...   \n",
              "2                              [[, ', ninguno, ', ]]   \n",
              "3  [[, ', organización, ', ,, ', ', ,, ', tablero...   \n",
              "4                [[, ', ', ,, ', ', ,, ', ser, ', ]]   \n",
              "\n",
              "                                  Tokenslema  \n",
              "0                              [puntualidad]  \n",
              "1  [disminuir, velocidad, desarrollar, tema]  \n",
              "2                                  [ninguno]  \n",
              "3     [organización, tablero, sesión, clase]  \n",
              "4                                      [ser]  "
            ],
            "text/html": [
              "\n",
              "  <div id=\"df-c248ed88-167e-4b5c-b84a-59666941777c\">\n",
              "    <div class=\"colab-df-container\">\n",
              "      <div>\n",
              "<style scoped>\n",
              "    .dataframe tbody tr th:only-of-type {\n",
              "        vertical-align: middle;\n",
              "    }\n",
              "\n",
              "    .dataframe tbody tr th {\n",
              "        vertical-align: top;\n",
              "    }\n",
              "\n",
              "    .dataframe thead th {\n",
              "        text-align: right;\n",
              "    }\n",
              "</style>\n",
              "<table border=\"1\" class=\"dataframe\">\n",
              "  <thead>\n",
              "    <tr style=\"text-align: right;\">\n",
              "      <th></th>\n",
              "      <th>destacar</th>\n",
              "      <th>mejorar</th>\n",
              "      <th>lema</th>\n",
              "      <th>Tokens</th>\n",
              "      <th>Tokenslema</th>\n",
              "    </tr>\n",
              "  </thead>\n",
              "  <tbody>\n",
              "    <tr>\n",
              "      <th>0</th>\n",
              "      <td>comunicación sencillez disponibilidad amabilidad</td>\n",
              "      <td>puntualidad</td>\n",
              "      <td>[puntualidad]</td>\n",
              "      <td>[[, ', puntualidad, ', ]]</td>\n",
              "      <td>[puntualidad]</td>\n",
              "    </tr>\n",
              "    <tr>\n",
              "      <th>1</th>\n",
              "      <td>puntualidad disposicion amabilidad conocimient...</td>\n",
              "      <td>disminuir la velocidad la que desarrolla los t...</td>\n",
              "      <td>[disminuir, el, velocidad, el, que, desarrolla...</td>\n",
              "      <td>[[, ', disminuir, ', ,, ', ', ,, ', velocidad,...</td>\n",
              "      <td>[disminuir, velocidad, desarrollar, tema]</td>\n",
              "    </tr>\n",
              "    <tr>\n",
              "      <th>2</th>\n",
              "      <td>ninguno</td>\n",
              "      <td>ninguno</td>\n",
              "      <td>[ninguno]</td>\n",
              "      <td>[[, ', ninguno, ', ]]</td>\n",
              "      <td>[ninguno]</td>\n",
              "    </tr>\n",
              "    <tr>\n",
              "      <th>3</th>\n",
              "      <td>disposición la hora de dictar la clase buena e...</td>\n",
              "      <td>organización del tablero de la sesión de clase</td>\n",
              "      <td>[organización, del, tablero, de, el, sesión, d...</td>\n",
              "      <td>[[, ', organización, ', ,, ', ', ,, ', tablero...</td>\n",
              "      <td>[organización, tablero, sesión, clase]</td>\n",
              "    </tr>\n",
              "    <tr>\n",
              "      <th>4</th>\n",
              "      <td>el profesor se preocupa porque uno aprenda rea...</td>\n",
              "      <td>no lo sé</td>\n",
              "      <td>[no, él, ser]</td>\n",
              "      <td>[[, ', ', ,, ', ', ,, ', ser, ', ]]</td>\n",
              "      <td>[ser]</td>\n",
              "    </tr>\n",
              "  </tbody>\n",
              "</table>\n",
              "</div>\n",
              "      <button class=\"colab-df-convert\" onclick=\"convertToInteractive('df-c248ed88-167e-4b5c-b84a-59666941777c')\"\n",
              "              title=\"Convert this dataframe to an interactive table.\"\n",
              "              style=\"display:none;\">\n",
              "        \n",
              "  <svg xmlns=\"http://www.w3.org/2000/svg\" height=\"24px\"viewBox=\"0 0 24 24\"\n",
              "       width=\"24px\">\n",
              "    <path d=\"M0 0h24v24H0V0z\" fill=\"none\"/>\n",
              "    <path d=\"M18.56 5.44l.94 2.06.94-2.06 2.06-.94-2.06-.94-.94-2.06-.94 2.06-2.06.94zm-11 1L8.5 8.5l.94-2.06 2.06-.94-2.06-.94L8.5 2.5l-.94 2.06-2.06.94zm10 10l.94 2.06.94-2.06 2.06-.94-2.06-.94-.94-2.06-.94 2.06-2.06.94z\"/><path d=\"M17.41 7.96l-1.37-1.37c-.4-.4-.92-.59-1.43-.59-.52 0-1.04.2-1.43.59L10.3 9.45l-7.72 7.72c-.78.78-.78 2.05 0 2.83L4 21.41c.39.39.9.59 1.41.59.51 0 1.02-.2 1.41-.59l7.78-7.78 2.81-2.81c.8-.78.8-2.07 0-2.86zM5.41 20L4 18.59l7.72-7.72 1.47 1.35L5.41 20z\"/>\n",
              "  </svg>\n",
              "      </button>\n",
              "      \n",
              "  <style>\n",
              "    .colab-df-container {\n",
              "      display:flex;\n",
              "      flex-wrap:wrap;\n",
              "      gap: 12px;\n",
              "    }\n",
              "\n",
              "    .colab-df-convert {\n",
              "      background-color: #E8F0FE;\n",
              "      border: none;\n",
              "      border-radius: 50%;\n",
              "      cursor: pointer;\n",
              "      display: none;\n",
              "      fill: #1967D2;\n",
              "      height: 32px;\n",
              "      padding: 0 0 0 0;\n",
              "      width: 32px;\n",
              "    }\n",
              "\n",
              "    .colab-df-convert:hover {\n",
              "      background-color: #E2EBFA;\n",
              "      box-shadow: 0px 1px 2px rgba(60, 64, 67, 0.3), 0px 1px 3px 1px rgba(60, 64, 67, 0.15);\n",
              "      fill: #174EA6;\n",
              "    }\n",
              "\n",
              "    [theme=dark] .colab-df-convert {\n",
              "      background-color: #3B4455;\n",
              "      fill: #D2E3FC;\n",
              "    }\n",
              "\n",
              "    [theme=dark] .colab-df-convert:hover {\n",
              "      background-color: #434B5C;\n",
              "      box-shadow: 0px 1px 3px 1px rgba(0, 0, 0, 0.15);\n",
              "      filter: drop-shadow(0px 1px 2px rgba(0, 0, 0, 0.3));\n",
              "      fill: #FFFFFF;\n",
              "    }\n",
              "  </style>\n",
              "\n",
              "      <script>\n",
              "        const buttonEl =\n",
              "          document.querySelector('#df-c248ed88-167e-4b5c-b84a-59666941777c button.colab-df-convert');\n",
              "        buttonEl.style.display =\n",
              "          google.colab.kernel.accessAllowed ? 'block' : 'none';\n",
              "\n",
              "        async function convertToInteractive(key) {\n",
              "          const element = document.querySelector('#df-c248ed88-167e-4b5c-b84a-59666941777c');\n",
              "          const dataTable =\n",
              "            await google.colab.kernel.invokeFunction('convertToInteractive',\n",
              "                                                     [key], {});\n",
              "          if (!dataTable) return;\n",
              "\n",
              "          const docLinkHtml = 'Like what you see? Visit the ' +\n",
              "            '<a target=\"_blank\" href=https://colab.research.google.com/notebooks/data_table.ipynb>data table notebook</a>'\n",
              "            + ' to learn more about interactive tables.';\n",
              "          element.innerHTML = '';\n",
              "          dataTable['output_type'] = 'display_data';\n",
              "          await google.colab.output.renderOutput(dataTable, element);\n",
              "          const docLink = document.createElement('div');\n",
              "          docLink.innerHTML = docLinkHtml;\n",
              "          element.appendChild(docLink);\n",
              "        }\n",
              "      </script>\n",
              "    </div>\n",
              "  </div>\n",
              "  "
            ]
          },
          "metadata": {},
          "execution_count": 144
        }
      ]
    },
    {
      "cell_type": "code",
      "source": [
        "# stemmer = SnowballStemmer(\"spanish\")\n",
        "\n",
        "# def stem_palabras(tokens):\n",
        "#     \"\"\"\n",
        "#     Reduce cada palabra de una lista dada a su raíz.\n",
        "#     \"\"\"\n",
        "#     return [stemmer.stem(token) for token in tokens]\n",
        "\n",
        "# df[\"Tokens\"] = df.Tokens.apply(stem_palabras)\n",
        "\n",
        "# df.head()\n",
        "\n",
        "\n",
        "## No usar stem. Lematización sí."
      ],
      "metadata": {
        "colab": {
          "base_uri": "https://localhost:8080/",
          "height": 206
        },
        "id": "wAQF4O6W2Afr",
        "outputId": "19bcc638-7de4-4a6b-deff-a217bfa43263"
      },
      "execution_count": null,
      "outputs": [
        {
          "output_type": "execute_result",
          "data": {
            "text/plain": [
              "                                            destacar  \\\n",
              "0   comunicación sencillez disponibilidad amabilidad   \n",
              "1  puntualidad disposicion amabilidad conocimient...   \n",
              "2                                            ninguno   \n",
              "3  disposición la hora de dictar la clase buena e...   \n",
              "4  el profesor se preocupa porque uno aprenda rea...   \n",
              "\n",
              "                                             mejorar  \\\n",
              "0                                        puntualidad   \n",
              "1  disminuir la velocidad la que desarrolla los t...   \n",
              "2                                            ninguno   \n",
              "3     organización del tablero de la sesión de clase   \n",
              "4                                          no lo sé    \n",
              "\n",
              "                             Tokens  \n",
              "0                         [puntual]  \n",
              "1  [disminu, veloc, desarroll, tem]  \n",
              "2                          [ningun]  \n",
              "3   [organiz, tabler, sesion, clas]  \n",
              "4                              [se]  "
            ],
            "text/html": [
              "\n",
              "  <div id=\"df-1ba56ddf-5884-4a45-9e4e-c2bc86caeb93\">\n",
              "    <div class=\"colab-df-container\">\n",
              "      <div>\n",
              "<style scoped>\n",
              "    .dataframe tbody tr th:only-of-type {\n",
              "        vertical-align: middle;\n",
              "    }\n",
              "\n",
              "    .dataframe tbody tr th {\n",
              "        vertical-align: top;\n",
              "    }\n",
              "\n",
              "    .dataframe thead th {\n",
              "        text-align: right;\n",
              "    }\n",
              "</style>\n",
              "<table border=\"1\" class=\"dataframe\">\n",
              "  <thead>\n",
              "    <tr style=\"text-align: right;\">\n",
              "      <th></th>\n",
              "      <th>destacar</th>\n",
              "      <th>mejorar</th>\n",
              "      <th>Tokens</th>\n",
              "    </tr>\n",
              "  </thead>\n",
              "  <tbody>\n",
              "    <tr>\n",
              "      <th>0</th>\n",
              "      <td>comunicación sencillez disponibilidad amabilidad</td>\n",
              "      <td>puntualidad</td>\n",
              "      <td>[puntual]</td>\n",
              "    </tr>\n",
              "    <tr>\n",
              "      <th>1</th>\n",
              "      <td>puntualidad disposicion amabilidad conocimient...</td>\n",
              "      <td>disminuir la velocidad la que desarrolla los t...</td>\n",
              "      <td>[disminu, veloc, desarroll, tem]</td>\n",
              "    </tr>\n",
              "    <tr>\n",
              "      <th>2</th>\n",
              "      <td>ninguno</td>\n",
              "      <td>ninguno</td>\n",
              "      <td>[ningun]</td>\n",
              "    </tr>\n",
              "    <tr>\n",
              "      <th>3</th>\n",
              "      <td>disposición la hora de dictar la clase buena e...</td>\n",
              "      <td>organización del tablero de la sesión de clase</td>\n",
              "      <td>[organiz, tabler, sesion, clas]</td>\n",
              "    </tr>\n",
              "    <tr>\n",
              "      <th>4</th>\n",
              "      <td>el profesor se preocupa porque uno aprenda rea...</td>\n",
              "      <td>no lo sé</td>\n",
              "      <td>[se]</td>\n",
              "    </tr>\n",
              "  </tbody>\n",
              "</table>\n",
              "</div>\n",
              "      <button class=\"colab-df-convert\" onclick=\"convertToInteractive('df-1ba56ddf-5884-4a45-9e4e-c2bc86caeb93')\"\n",
              "              title=\"Convert this dataframe to an interactive table.\"\n",
              "              style=\"display:none;\">\n",
              "        \n",
              "  <svg xmlns=\"http://www.w3.org/2000/svg\" height=\"24px\"viewBox=\"0 0 24 24\"\n",
              "       width=\"24px\">\n",
              "    <path d=\"M0 0h24v24H0V0z\" fill=\"none\"/>\n",
              "    <path d=\"M18.56 5.44l.94 2.06.94-2.06 2.06-.94-2.06-.94-.94-2.06-.94 2.06-2.06.94zm-11 1L8.5 8.5l.94-2.06 2.06-.94-2.06-.94L8.5 2.5l-.94 2.06-2.06.94zm10 10l.94 2.06.94-2.06 2.06-.94-2.06-.94-.94-2.06-.94 2.06-2.06.94z\"/><path d=\"M17.41 7.96l-1.37-1.37c-.4-.4-.92-.59-1.43-.59-.52 0-1.04.2-1.43.59L10.3 9.45l-7.72 7.72c-.78.78-.78 2.05 0 2.83L4 21.41c.39.39.9.59 1.41.59.51 0 1.02-.2 1.41-.59l7.78-7.78 2.81-2.81c.8-.78.8-2.07 0-2.86zM5.41 20L4 18.59l7.72-7.72 1.47 1.35L5.41 20z\"/>\n",
              "  </svg>\n",
              "      </button>\n",
              "      \n",
              "  <style>\n",
              "    .colab-df-container {\n",
              "      display:flex;\n",
              "      flex-wrap:wrap;\n",
              "      gap: 12px;\n",
              "    }\n",
              "\n",
              "    .colab-df-convert {\n",
              "      background-color: #E8F0FE;\n",
              "      border: none;\n",
              "      border-radius: 50%;\n",
              "      cursor: pointer;\n",
              "      display: none;\n",
              "      fill: #1967D2;\n",
              "      height: 32px;\n",
              "      padding: 0 0 0 0;\n",
              "      width: 32px;\n",
              "    }\n",
              "\n",
              "    .colab-df-convert:hover {\n",
              "      background-color: #E2EBFA;\n",
              "      box-shadow: 0px 1px 2px rgba(60, 64, 67, 0.3), 0px 1px 3px 1px rgba(60, 64, 67, 0.15);\n",
              "      fill: #174EA6;\n",
              "    }\n",
              "\n",
              "    [theme=dark] .colab-df-convert {\n",
              "      background-color: #3B4455;\n",
              "      fill: #D2E3FC;\n",
              "    }\n",
              "\n",
              "    [theme=dark] .colab-df-convert:hover {\n",
              "      background-color: #434B5C;\n",
              "      box-shadow: 0px 1px 3px 1px rgba(0, 0, 0, 0.15);\n",
              "      filter: drop-shadow(0px 1px 2px rgba(0, 0, 0, 0.3));\n",
              "      fill: #FFFFFF;\n",
              "    }\n",
              "  </style>\n",
              "\n",
              "      <script>\n",
              "        const buttonEl =\n",
              "          document.querySelector('#df-1ba56ddf-5884-4a45-9e4e-c2bc86caeb93 button.colab-df-convert');\n",
              "        buttonEl.style.display =\n",
              "          google.colab.kernel.accessAllowed ? 'block' : 'none';\n",
              "\n",
              "        async function convertToInteractive(key) {\n",
              "          const element = document.querySelector('#df-1ba56ddf-5884-4a45-9e4e-c2bc86caeb93');\n",
              "          const dataTable =\n",
              "            await google.colab.kernel.invokeFunction('convertToInteractive',\n",
              "                                                     [key], {});\n",
              "          if (!dataTable) return;\n",
              "\n",
              "          const docLinkHtml = 'Like what you see? Visit the ' +\n",
              "            '<a target=\"_blank\" href=https://colab.research.google.com/notebooks/data_table.ipynb>data table notebook</a>'\n",
              "            + ' to learn more about interactive tables.';\n",
              "          element.innerHTML = '';\n",
              "          dataTable['output_type'] = 'display_data';\n",
              "          await google.colab.output.renderOutput(dataTable, element);\n",
              "          const docLink = document.createElement('div');\n",
              "          docLink.innerHTML = docLinkHtml;\n",
              "          element.appendChild(docLink);\n",
              "        }\n",
              "      </script>\n",
              "    </div>\n",
              "  </div>\n",
              "  "
            ]
          },
          "metadata": {},
          "execution_count": 128
        }
      ]
    },
    {
      "cell_type": "code",
      "source": [
        "pip install simplemma"
      ],
      "metadata": {
        "colab": {
          "base_uri": "https://localhost:8080/"
        },
        "id": "PkMbz3npdBE4",
        "outputId": "0cf8f6ce-75f5-4a23-fd30-659108c73984"
      },
      "execution_count": null,
      "outputs": [
        {
          "output_type": "stream",
          "name": "stdout",
          "text": [
            "Looking in indexes: https://pypi.org/simple, https://us-python.pkg.dev/colab-wheels/public/simple/\n",
            "Collecting simplemma\n",
            "  Downloading simplemma-0.9.0-py3-none-any.whl (76.2 MB)\n",
            "\u001b[K     |████████████████████████████████| 76.2 MB 1.9 MB/s \n",
            "\u001b[?25hInstalling collected packages: simplemma\n",
            "Successfully installed simplemma-0.9.0\n"
          ]
        }
      ]
    },
    {
      "cell_type": "code",
      "source": [
        "from gensim.corpora import Dictionary\n",
        "from gensim.models import LdaModel\n",
        "import random\n",
        "import numpy as np\n",
        "import matplotlib.pyplot as plt\n",
        "from wordcloud import WordCloud\n",
        "%matplotlib inline"
      ],
      "metadata": {
        "id": "PmNb1qcn2DTE"
      },
      "execution_count": null,
      "outputs": []
    },
    {
      "cell_type": "code",
      "source": [
        "diccionario = Dictionary(df.Tokenslema)\n",
        "print(f'Número de tokens: {len(diccionario)}')"
      ],
      "metadata": {
        "colab": {
          "base_uri": "https://localhost:8080/"
        },
        "id": "04iGJpRW2Gvl",
        "outputId": "da9d988e-a5e8-48e2-ecef-dce526390328"
      },
      "execution_count": null,
      "outputs": [
        {
          "output_type": "stream",
          "name": "stdout",
          "text": [
            "Número de tokens: 1399\n"
          ]
        }
      ]
    },
    {
      "cell_type": "code",
      "source": [
        "diccionario.filter_extremes(no_below=3, no_above = 1)\n",
        "print(f'Número de tokens: {len(diccionario)}')"
      ],
      "metadata": {
        "colab": {
          "base_uri": "https://localhost:8080/"
        },
        "id": "GwF9_ZZG2Kkp",
        "outputId": "9e168fcf-b26e-477b-a292-b1295a934a96"
      },
      "execution_count": null,
      "outputs": [
        {
          "output_type": "stream",
          "name": "stdout",
          "text": [
            "Número de tokens: 488\n"
          ]
        }
      ]
    },
    {
      "cell_type": "code",
      "source": [
        "# Creamos el corpus \n",
        "corpus = [diccionario.doc2bow(noticia) for noticia in df.Tokenslema]\n",
        "\n",
        "# Mostramos el BOW de una noticia\n",
        "print(corpus[6])"
      ],
      "metadata": {
        "colab": {
          "base_uri": "https://localhost:8080/"
        },
        "id": "5dMw4_J62NED",
        "outputId": "1930ea40-0f02-4b7a-f161-092568e3b25c"
      },
      "execution_count": null,
      "outputs": [
        {
          "output_type": "stream",
          "name": "stdout",
          "text": [
            "[(16, 1), (17, 1)]\n"
          ]
        }
      ]
    },
    {
      "cell_type": "code",
      "source": [
        "# Indice de perplejidad: Me dará un índice por cada LDA.\n",
        "# índices de cohehrencia."
      ],
      "metadata": {
        "id": "21q0zstILtCF"
      },
      "execution_count": null,
      "outputs": []
    },
    {
      "cell_type": "code",
      "source": [
        "lda = LdaModel(corpus=corpus, id2word=diccionario, \n",
        "               num_topics=20, random_state=42, \n",
        "               chunksize=1000, passes=20, alpha='auto')"
      ],
      "metadata": {
        "id": "KgEr3d6k2PZs"
      },
      "execution_count": null,
      "outputs": []
    },
    {
      "cell_type": "code",
      "source": [
        "topicos = lda.print_topics(num_words=4, num_topics=5)\n",
        "for topico in topicos:\n",
        "    print(topico)\n",
        "# mirar palabras vacías del ocntexto"
      ],
      "metadata": {
        "colab": {
          "base_uri": "https://localhost:8080/"
        },
        "id": "CCddxO4M2TKG",
        "outputId": "49bec25c-3a33-4f72-d7e6-ddb6d37e9223"
      },
      "execution_count": null,
      "outputs": [
        {
          "output_type": "stream",
          "name": "stdout",
          "text": [
            "(3, '0.123*\"taller\" + 0.078*\"rápido\" + 0.074*\"mas\" + 0.074*\"materia\"')\n",
            "(2, '0.133*\"puntualidad\" + 0.046*\"horario\" + 0.046*\"actividad\" + 0.042*\"caso\"')\n",
            "(8, '0.268*\"nota\" + 0.115*\"entrega\" + 0.109*\"tiempo\" + 0.079*\"entregar\"')\n",
            "(13, '0.171*\"clase\" + 0.133*\"ejercicio\" + 0.101*\"hacer\" + 0.100*\"mas\"')\n",
            "(5, '0.778*\"ninguno\" + 0.027*\"presentar\" + 0.022*\"momento\" + 0.022*\"ocurrir\"')\n"
          ]
        }
      ]
    },
    {
      "cell_type": "code",
      "source": [
        "for i in range(0, 5):\n",
        "    plt.figure()\n",
        "    plt.imshow(WordCloud(background_color='white', prefer_horizontal=1.0, font_step=2 )\n",
        "               .fit_words(dict(lda.show_topic(i, 20))))\n",
        "    plt.axis(\"off\")\n",
        "    plt.title(\"Tópico \" + str(i))\n",
        "    plt.show()\n",
        "\n",
        "## hacerlo con tf-idf en vez de hacerlo con bolsas de palabras.\n",
        "# eso se va a ver en qué tanto se repite en cada texto una palabra\n",
        "# y qué tanto se repite en todo el texto (visión global)\n",
        "\n",
        "## mirar bigramas, trigramas.\n",
        "\n",
        "# en sklearn existe eso."
      ],
      "metadata": {
        "colab": {
          "base_uri": "https://localhost:8080/",
          "height": 1000
        },
        "id": "3WCkmK4S2sgY",
        "outputId": "ef4289a3-c85b-4d29-ea8a-02fe06322e06"
      },
      "execution_count": null,
      "outputs": [
        {
          "output_type": "display_data",
          "data": {
            "text/plain": [
              "<Figure size 432x288 with 1 Axes>"
            ],
            "image/png": "[encoded data removed]"
          },
          "metadata": {
            "needs_background": "light"
          }
        },
        {
          "output_type": "display_data",
          "data": {
            "text/plain": [
              "<Figure size 432x288 with 1 Axes>"
            ],
            "image/png": "[encoded data removed]"
          },
          "metadata": {
            "needs_background": "light"
          }
        },
        {
          "output_type": "display_data",
          "data": {
            "text/plain": [
              "<Figure size 432x288 with 1 Axes>"
            ],
            "image/png": "[encoded data removed]"
          },
          "metadata": {
            "needs_background": "light"
          }
        },
        {
          "output_type": "display_data",
          "data": {
            "text/plain": [
              "<Figure size 432x288 with 1 Axes>"
            ],
            "image/png": "[encoded data removed]"
          },
          "metadata": {
            "needs_background": "light"
          }
        },
        {
          "output_type": "display_data",
          "data": {
            "text/plain": [
              "<Figure size 432x288 with 1 Axes>"
            ],
            "image/png": "[encoded data removed]"
          },
          "metadata": {
            "needs_background": "light"
          }
        }
      ]
    },
    {
      "cell_type": "code",
      "source": [],
      "metadata": {
        "id": "iyxuP3k0j3p9"
      },
      "execution_count": null,
      "outputs": []
    },
    {
      "cell_type": "code",
      "source": [
        "indice_reseña = 54 # número arbitrario\n",
        "reseña = df[\"Tokens\"][indice_reseña]\n",
        "print(\"Reseña:\",reseña)\n"
      ],
      "metadata": {
        "colab": {
          "base_uri": "https://localhost:8080/"
        },
        "id": "ywJGXUHk3DDa",
        "outputId": "9f9331aa-1779-4443-acd4-f6c20756d33d"
      },
      "execution_count": null,
      "outputs": [
        {
          "output_type": "stream",
          "name": "stdout",
          "text": [
            "Reseña: ['pedagog', 'principal', 'form', 'enseñ', 'suel', 'ser', 'catedrat', 'monoton', 'poc', 'ejercici', 'practic', 'sol', 'realiz', 'evalu', 'practic', 'retroaliment', 'buen', 'pregunt', 'cos', 'proced', 'explic', 'sol', 'da', 'respuest', 'ejercici', 'mayor', 'compromis', 'clas', 'dur', 'casi', 'dos', 'seman', 'clas', 'problem', 'conexion', 'envi', 'vide', 'ejercici', 'audi', 'atras', 'poc', 'disposicion', 'dialog', 'logr', 'ultim', 'hor', 'ajust', 'porcentaj', 'tiemp', 'curs', 'solicit', 'vari', 'vec', 'hac', 'propuest', 'grup', 'atend', 'respond', 'tampoc', 'respet', 'tiemp', 'curs', 'demor', 'envi', 'not', 'ademas', 'problem', 'conexion', 'avis', 'tiemp', 'dur', 'hor', 'conect', 'esper', 'profesor', 'ningun', 'razon', 'irrespet', 'tiemp', 'tiemp']\n"
          ]
        }
      ]
    },
    {
      "cell_type": "code",
      "source": [
        "df.iloc[54,1]"
      ],
      "metadata": {
        "colab": {
          "base_uri": "https://localhost:8080/",
          "height": 147
        },
        "id": "mPJhNBHU3F-0",
        "outputId": "f2c5fe99-39f6-4366-a81c-4e9007eb77ec"
      },
      "execution_count": null,
      "outputs": [
        {
          "output_type": "execute_result",
          "data": {
            "text/plain": [
              "'la pedagogía principalmente la forma de enseñar suele ser muy catedrático y monótono con pocos ejercicios prácticos solo los realiza para evaluar y no para practicar la retroalimentación no es buena se le preguntan cosas sobre los procedimientos y no explica solo da la respuesta del ejercicio mayor compromiso con las clases ya que duramos casi dos semanas sin clases porque tenía problemas de conexión pero no envió vídeos ejercicios audios o algo para no atrasarnos poca disposición de dialogo se logró a última hora ajustar porcentajes porque ya no había tiempo pero fue porque el curso se lo solicitó varias veces cuando se le hacían propuestas como grupo no se atendían y ni se respondían tampoco respeta tiempos del curso se a demorado en enviar notas y además cuando ha tenido problemas de conexión no avisa con tiempo hemos durado hasta una hora conectados esperando al profesor sin ninguna razón para mi eso es irrespetar el tiempo de nuestro tiempo también '"
            ],
            "application/vnd.google.colaboratory.intrinsic+json": {
              "type": "string"
            }
          },
          "metadata": {},
          "execution_count": 121
        }
      ]
    },
    {
      "cell_type": "code",
      "source": [
        "bow_reseña = corpus[indice_reseña]\n",
        "distribucion_reseña = lda[bow_reseña]"
      ],
      "metadata": {
        "id": "XRjgXjBf3WHS"
      },
      "execution_count": null,
      "outputs": []
    },
    {
      "cell_type": "code",
      "source": [
        "# Indices de los topicos mas significativos\n",
        "dist_indices = [topico[0] for topico in lda[bow_reseña]]\n",
        "# Contribución de los topicos mas significativos\n",
        "dist_contrib = [topico[1] for topico in lda[bow_reseña]]"
      ],
      "metadata": {
        "id": "mmS56fuV3cho"
      },
      "execution_count": null,
      "outputs": []
    },
    {
      "cell_type": "code",
      "source": [
        "distribucion_topicos = pd.DataFrame({'Topico':dist_indices,\n",
        "                                     'Contribucion':dist_contrib })\n",
        "distribucion_topicos.sort_values('Contribucion', \n",
        "                                 ascending=False, inplace=True)\n",
        "ax = distribucion_topicos.plot.bar(y='Contribucion',x='Topico', \n",
        "                                   rot=0, color=\"orange\",\n",
        "                                   title = 'Tópicos mas importantes'\n",
        "                                   'de reseña ' + str(indice_reseña))"
      ],
      "metadata": {
        "colab": {
          "base_uri": "https://localhost:8080/",
          "height": 295
        },
        "id": "8IxG1YYT3n05",
        "outputId": "42ea7ca0-7705-426a-f97d-7100bfab619f"
      },
      "execution_count": null,
      "outputs": [
        {
          "output_type": "display_data",
          "data": {
            "text/plain": [
              "<Figure size 432x288 with 1 Axes>"
            ],
            "image/png": "[encoded data removed]"
          },
          "metadata": {
            "needs_background": "light"
          }
        }
      ]
    },
    {
      "cell_type": "code",
      "source": [
        "for ind, topico in distribucion_topicos.iterrows():\n",
        "    print(\"*** Tópico: \" + str(int(topico.Topico)) + \" ***\")\n",
        "    palabras = [palabra[0] for palabra in lda.show_topic(\n",
        "        topicid=int(topico.Topico))]\n",
        "    palabras = ', '.join(palabras)\n",
        "    print(palabras, \"\\n\")"
      ],
      "metadata": {
        "colab": {
          "base_uri": "https://localhost:8080/"
        },
        "id": "y2kjTGqS3uSK",
        "outputId": "0b7e7d88-8c26-4fef-afb1-afe5ca1a5a60"
      },
      "execution_count": null,
      "outputs": [
        {
          "output_type": "stream",
          "name": "stdout",
          "text": [
            "*** Tópico: 1 ***\n",
            "clas, estudi, profesor, hac, deb, tiemp, evalu, falt, trabaj, form \n",
            "\n",
            "*** Tópico: 4 ***\n",
            "tem, vec, clas, mejor, explic, curs, tiemp, estudi, pued, ten \n",
            "\n",
            "*** Tópico: 2 ***\n",
            "clas, mas, ejercici, hac, dinam, practic, tem, particip, sol, r \n",
            "\n",
            "*** Tópico: 0 ***\n",
            "ningun, bien, explic, moment, profesor, buen, consider, teoric, excel, olvid \n",
            "\n"
          ]
        }
      ]
    },
    {
      "cell_type": "code",
      "source": [
        "# lematizador está en spacy\n"
      ],
      "metadata": {
        "id": "HQY1wtxMNtHV"
      },
      "execution_count": null,
      "outputs": []
    },
    {
      "cell_type": "markdown",
      "source": [
        "## Creación de tópicos con transformers"
      ],
      "metadata": {
        "id": "j_aXxDyBYYZ8"
      }
    },
    {
      "cell_type": "code",
      "source": [
        "!pip install bertopic"
      ],
      "metadata": {
        "colab": {
          "base_uri": "https://localhost:8080/",
          "height": 1000
        },
        "id": "Tv-9w5Y3Yb9w",
        "outputId": "07bdc009-e0e8-4b36-c57a-78f7d4ec7241"
      },
      "execution_count": null,
      "outputs": [
        {
          "output_type": "stream",
          "name": "stdout",
          "text": [
            "Looking in indexes: https://pypi.org/simple, https://us-python.pkg.dev/colab-wheels/public/simple/\n",
            "Collecting bertopic\n",
            "  Downloading bertopic-0.12.0-py2.py3-none-any.whl (90 kB)\n",
            "\u001b[K     |████████████████████████████████| 90 kB 3.8 MB/s \n",
            "\u001b[?25hRequirement already satisfied: plotly>=4.7.0 in /usr/local/lib/python3.7/dist-packages (from bertopic) (5.5.0)\n",
            "Requirement already satisfied: pandas>=1.1.5 in /usr/local/lib/python3.7/dist-packages (from bertopic) (1.3.5)\n",
            "Collecting hdbscan>=0.8.28\n",
            "  Downloading hdbscan-0.8.29.tar.gz (5.2 MB)\n",
            "\u001b[K     |████████████████████████████████| 5.2 MB 38.0 MB/s \n",
            "\u001b[?25h  Installing build dependencies ... \u001b[?25l\u001b[?25hdone\n",
            "  Getting requirements to build wheel ... \u001b[?25l\u001b[?25hdone\n",
            "    Preparing wheel metadata ... \u001b[?25l\u001b[?25hdone\n",
            "Collecting pyyaml<6.0\n",
            "  Downloading PyYAML-5.4.1-cp37-cp37m-manylinux1_x86_64.whl (636 kB)\n",
            "\u001b[K     |████████████████████████████████| 636 kB 62.4 MB/s \n",
            "\u001b[?25hRequirement already satisfied: scikit-learn>=0.22.2.post1 in /usr/local/lib/python3.7/dist-packages (from bertopic) (1.0.2)\n",
            "Requirement already satisfied: numpy>=1.20.0 in /usr/local/lib/python3.7/dist-packages (from bertopic) (1.21.6)\n",
            "Requirement already satisfied: tqdm>=4.41.1 in /usr/local/lib/python3.7/dist-packages (from bertopic) (4.64.1)\n",
            "Collecting umap-learn>=0.5.0\n",
            "  Downloading umap-learn-0.5.3.tar.gz (88 kB)\n",
            "\u001b[K     |████████████████████████████████| 88 kB 6.3 MB/s \n",
            "\u001b[?25hCollecting sentence-transformers>=0.4.1\n",
            "  Downloading sentence-transformers-2.2.2.tar.gz (85 kB)\n",
            "\u001b[K     |████████████████████████████████| 85 kB 3.9 MB/s \n",
            "\u001b[?25hRequirement already satisfied: joblib>=1.0 in /usr/local/lib/python3.7/dist-packages (from hdbscan>=0.8.28->bertopic) (1.2.0)\n",
            "Requirement already satisfied: cython>=0.27 in /usr/local/lib/python3.7/dist-packages (from hdbscan>=0.8.28->bertopic) (0.29.32)\n",
            "Requirement already satisfied: scipy>=1.0 in /usr/local/lib/python3.7/dist-packages (from hdbscan>=0.8.28->bertopic) (1.7.3)\n",
            "Requirement already satisfied: python-dateutil>=2.7.3 in /usr/local/lib/python3.7/dist-packages (from pandas>=1.1.5->bertopic) (2.8.2)\n",
            "Requirement already satisfied: pytz>=2017.3 in /usr/local/lib/python3.7/dist-packages (from pandas>=1.1.5->bertopic) (2022.6)\n",
            "Requirement already satisfied: tenacity>=6.2.0 in /usr/local/lib/python3.7/dist-packages (from plotly>=4.7.0->bertopic) (8.1.0)\n",
            "Requirement already satisfied: six in /usr/local/lib/python3.7/dist-packages (from plotly>=4.7.0->bertopic) (1.15.0)\n",
            "Requirement already satisfied: threadpoolctl>=2.0.0 in /usr/local/lib/python3.7/dist-packages (from scikit-learn>=0.22.2.post1->bertopic) (3.1.0)\n",
            "Requirement already satisfied: transformers<5.0.0,>=4.6.0 in /usr/local/lib/python3.7/dist-packages (from sentence-transformers>=0.4.1->bertopic) (4.13.0)\n",
            "Requirement already satisfied: torch>=1.6.0 in /usr/local/lib/python3.7/dist-packages (from sentence-transformers>=0.4.1->bertopic) (1.12.1+cu113)\n",
            "Requirement already satisfied: torchvision in /usr/local/lib/python3.7/dist-packages (from sentence-transformers>=0.4.1->bertopic) (0.13.1+cu113)\n",
            "Requirement already satisfied: nltk in /usr/local/lib/python3.7/dist-packages (from sentence-transformers>=0.4.1->bertopic) (3.7)\n",
            "Collecting sentencepiece\n",
            "  Downloading sentencepiece-0.1.97-cp37-cp37m-manylinux_2_17_x86_64.manylinux2014_x86_64.whl (1.3 MB)\n",
            "\u001b[K     |████████████████████████████████| 1.3 MB 27.9 MB/s \n",
            "\u001b[?25hRequirement already satisfied: huggingface-hub>=0.4.0 in /usr/local/lib/python3.7/dist-packages (from sentence-transformers>=0.4.1->bertopic) (0.11.0)\n",
            "Requirement already satisfied: filelock in /usr/local/lib/python3.7/dist-packages (from huggingface-hub>=0.4.0->sentence-transformers>=0.4.1->bertopic) (3.8.0)\n",
            "Requirement already satisfied: importlib-metadata in /usr/local/lib/python3.7/dist-packages (from huggingface-hub>=0.4.0->sentence-transformers>=0.4.1->bertopic) (4.13.0)\n",
            "Requirement already satisfied: requests in /usr/local/lib/python3.7/dist-packages (from huggingface-hub>=0.4.0->sentence-transformers>=0.4.1->bertopic) (2.23.0)\n",
            "Requirement already satisfied: typing-extensions>=3.7.4.3 in /usr/local/lib/python3.7/dist-packages (from huggingface-hub>=0.4.0->sentence-transformers>=0.4.1->bertopic) (4.1.1)\n",
            "Requirement already satisfied: packaging>=20.9 in /usr/local/lib/python3.7/dist-packages (from huggingface-hub>=0.4.0->sentence-transformers>=0.4.1->bertopic) (21.3)\n",
            "Requirement already satisfied: pyparsing!=3.0.5,>=2.0.2 in /usr/local/lib/python3.7/dist-packages (from packaging>=20.9->huggingface-hub>=0.4.0->sentence-transformers>=0.4.1->bertopic) (3.0.9)\n",
            "Requirement already satisfied: regex!=2019.12.17 in /usr/local/lib/python3.7/dist-packages (from transformers<5.0.0,>=4.6.0->sentence-transformers>=0.4.1->bertopic) (2022.6.2)\n",
            "Requirement already satisfied: sacremoses in /usr/local/lib/python3.7/dist-packages (from transformers<5.0.0,>=4.6.0->sentence-transformers>=0.4.1->bertopic) (0.0.53)\n",
            "Requirement already satisfied: tokenizers<0.11,>=0.10.1 in /usr/local/lib/python3.7/dist-packages (from transformers<5.0.0,>=4.6.0->sentence-transformers>=0.4.1->bertopic) (0.10.3)\n",
            "Requirement already satisfied: numba>=0.49 in /usr/local/lib/python3.7/dist-packages (from umap-learn>=0.5.0->bertopic) (0.56.4)\n",
            "Collecting pynndescent>=0.5\n",
            "  Downloading pynndescent-0.5.8.tar.gz (1.1 MB)\n",
            "\u001b[K     |████████████████████████████████| 1.1 MB 50.8 MB/s \n",
            "\u001b[?25hRequirement already satisfied: llvmlite<0.40,>=0.39.0dev0 in /usr/local/lib/python3.7/dist-packages (from numba>=0.49->umap-learn>=0.5.0->bertopic) (0.39.1)\n",
            "Requirement already satisfied: setuptools in /usr/local/lib/python3.7/dist-packages (from numba>=0.49->umap-learn>=0.5.0->bertopic) (57.4.0)\n",
            "Requirement already satisfied: zipp>=0.5 in /usr/local/lib/python3.7/dist-packages (from importlib-metadata->huggingface-hub>=0.4.0->sentence-transformers>=0.4.1->bertopic) (3.10.0)\n",
            "Requirement already satisfied: click in /usr/local/lib/python3.7/dist-packages (from nltk->sentence-transformers>=0.4.1->bertopic) (7.1.2)\n",
            "Requirement already satisfied: urllib3!=1.25.0,!=1.25.1,<1.26,>=1.21.1 in /usr/local/lib/python3.7/dist-packages (from requests->huggingface-hub>=0.4.0->sentence-transformers>=0.4.1->bertopic) (1.25.11)\n",
            "Requirement already satisfied: chardet<4,>=3.0.2 in /usr/local/lib/python3.7/dist-packages (from requests->huggingface-hub>=0.4.0->sentence-transformers>=0.4.1->bertopic) (3.0.4)\n",
            "Requirement already satisfied: certifi>=2017.4.17 in /usr/local/lib/python3.7/dist-packages (from requests->huggingface-hub>=0.4.0->sentence-transformers>=0.4.1->bertopic) (2022.9.24)\n",
            "Requirement already satisfied: idna<3,>=2.5 in /usr/local/lib/python3.7/dist-packages (from requests->huggingface-hub>=0.4.0->sentence-transformers>=0.4.1->bertopic) (2.10)\n",
            "Requirement already satisfied: pillow!=8.3.*,>=5.3.0 in /usr/local/lib/python3.7/dist-packages (from torchvision->sentence-transformers>=0.4.1->bertopic) (7.1.2)\n",
            "Building wheels for collected packages: hdbscan, sentence-transformers, umap-learn, pynndescent\n",
            "  Building wheel for hdbscan (PEP 517) ... \u001b[?25l\u001b[?25hdone\n",
            "  Created wheel for hdbscan: filename=hdbscan-0.8.29-cp37-cp37m-linux_x86_64.whl size=2340658 sha256=4479bfe76bc18aa044a2cd09664f11a91798b863f03c18a3e2687fffe839dcc8\n",
            "  Stored in directory: /root/.cache/pip/wheels/93/78/2e/03ee191669a772e9653260aa3bd53e0b1a768751a9676e8c82\n",
            "  Building wheel for sentence-transformers (setup.py) ... \u001b[?25l\u001b[?25hdone\n",
            "  Created wheel for sentence-transformers: filename=sentence_transformers-2.2.2-py3-none-any.whl size=125938 sha256=cc2b310a5ad604486ab0fc72c5e8d5eaa056c2524ef9b930457e6943d82e1dbb\n",
            "  Stored in directory: /root/.cache/pip/wheels/bf/06/fb/d59c1e5bd1dac7f6cf61ec0036cc3a10ab8fecaa6b2c3d3ee9\n",
            "  Building wheel for umap-learn (setup.py) ... \u001b[?25l\u001b[?25hdone\n",
            "  Created wheel for umap-learn: filename=umap_learn-0.5.3-py3-none-any.whl size=82830 sha256=98968f90594c6b51070e4b7ed68c50b56eef47d9b5958ea2e73a7bbe60901a80\n",
            "  Stored in directory: /root/.cache/pip/wheels/b3/52/a5/1fd9e3e76a7ab34f134c07469cd6f16e27ef3a37aeff1fe821\n",
            "  Building wheel for pynndescent (setup.py) ... \u001b[?25l\u001b[?25hdone\n",
            "  Created wheel for pynndescent: filename=pynndescent-0.5.8-py3-none-any.whl size=55509 sha256=5f69125cfa8ad84fae8bc1821696b7c4b15ddc76f1fdf354ecdde9c7917ad166\n",
            "  Stored in directory: /root/.cache/pip/wheels/19/bc/eb/974072a56a7082a302f8b4be1ad6d21bf5019235c2eff65928\n",
            "Successfully built hdbscan sentence-transformers umap-learn pynndescent\n",
            "Installing collected packages: pyyaml, sentencepiece, pynndescent, umap-learn, sentence-transformers, hdbscan, bertopic\n",
            "  Attempting uninstall: pyyaml\n",
            "    Found existing installation: PyYAML 6.0\n",
            "    Uninstalling PyYAML-6.0:\n",
            "      Successfully uninstalled PyYAML-6.0\n",
            "Successfully installed bertopic-0.12.0 hdbscan-0.8.29 pynndescent-0.5.8 pyyaml-5.4.1 sentence-transformers-2.2.2 sentencepiece-0.1.97 umap-learn-0.5.3\n"
          ]
        },
        {
          "output_type": "display_data",
          "data": {
            "application/vnd.colab-display-data+json": {
              "pip_warning": {
                "packages": [
                  "yaml"
                ]
              }
            }
          },
          "metadata": {}
        }
      ]
    },
    {
      "cell_type": "code",
      "source": [
        "import nltk\n",
        "nltk.download('punkt')\n",
        "nltk.download('stopwords')\n",
        "from bertopic import BERTopic"
      ],
      "metadata": {
        "colab": {
          "base_uri": "https://localhost:8080/"
        },
        "id": "YVtxtnBSYsxc",
        "outputId": "0b5d1f4a-fbe4-4262-a9dd-46a5bd1835f6"
      },
      "execution_count": null,
      "outputs": [
        {
          "output_type": "stream",
          "name": "stderr",
          "text": [
            "[nltk_data] Downloading package punkt to /root/nltk_data...\n",
            "[nltk_data]   Unzipping tokenizers/punkt.zip.\n",
            "[nltk_data] Downloading package stopwords to /root/nltk_data...\n",
            "[nltk_data]   Unzipping corpora/stopwords.zip.\n"
          ]
        }
      ]
    },
    {
      "cell_type": "code",
      "source": [
        "df[\"Tokens\"] = df[\"mejorar\"]"
      ],
      "metadata": {
        "id": "P7O6hfHNY47H"
      },
      "execution_count": null,
      "outputs": []
    },
    {
      "cell_type": "code",
      "source": [
        "tokenizer = ToktokTokenizer() \n",
        "df[\"Tokens\"] = df.Tokens.apply(tokenizer.tokenize)\n",
        "df.head()"
      ],
      "metadata": {
        "colab": {
          "base_uri": "https://localhost:8080/",
          "height": 206
        },
        "id": "X2TyFxnkY1DI",
        "outputId": "d07061de-05c5-4d3d-a3db-a3731bb512bd"
      },
      "execution_count": null,
      "outputs": [
        {
          "output_type": "execute_result",
          "data": {
            "text/plain": [
              "                                            destacar  \\\n",
              "0   comunicación sencillez disponibilidad amabilidad   \n",
              "1  puntualidad disposicion amabilidad conocimient...   \n",
              "2                                            ninguno   \n",
              "3  disposición a la hora de dictar la clase buena...   \n",
              "4  el profesor se preocupa porque uno aprenda rea...   \n",
              "\n",
              "                                             mejorar  \\\n",
              "0                                        puntualidad   \n",
              "1  disminuir la velocidad a la que desarrolla los...   \n",
              "2                                            ninguno   \n",
              "3     organización del tablero de la sesión de clase   \n",
              "4                                          no lo sé    \n",
              "\n",
              "                                        punt_mejorar  \\\n",
              "0  AnalyzerOutput(output=NEU, probas={NEU: 0.934,...   \n",
              "1  AnalyzerOutput(output=NEU, probas={NEU: 0.990,...   \n",
              "2  AnalyzerOutput(output=NEU, probas={NEU: 0.595,...   \n",
              "3  AnalyzerOutput(output=NEU, probas={NEU: 0.987,...   \n",
              "4  AnalyzerOutput(output=NEU, probas={NEU: 0.960,...   \n",
              "\n",
              "                                              Tokens  \n",
              "0                                      [puntualidad]  \n",
              "1  [disminuir, la, velocidad, a, la, que, desarro...  \n",
              "2                                          [ninguno]  \n",
              "3  [organización, del, tablero, de, la, sesión, d...  \n",
              "4                                       [no, lo, sé]  "
            ],
            "text/html": [
              "\n",
              "  <div id=\"df-0a3cb390-61b8-442b-9143-85c265142599\">\n",
              "    <div class=\"colab-df-container\">\n",
              "      <div>\n",
              "<style scoped>\n",
              "    .dataframe tbody tr th:only-of-type {\n",
              "        vertical-align: middle;\n",
              "    }\n",
              "\n",
              "    .dataframe tbody tr th {\n",
              "        vertical-align: top;\n",
              "    }\n",
              "\n",
              "    .dataframe thead th {\n",
              "        text-align: right;\n",
              "    }\n",
              "</style>\n",
              "<table border=\"1\" class=\"dataframe\">\n",
              "  <thead>\n",
              "    <tr style=\"text-align: right;\">\n",
              "      <th></th>\n",
              "      <th>destacar</th>\n",
              "      <th>mejorar</th>\n",
              "      <th>punt_mejorar</th>\n",
              "      <th>Tokens</th>\n",
              "    </tr>\n",
              "  </thead>\n",
              "  <tbody>\n",
              "    <tr>\n",
              "      <th>0</th>\n",
              "      <td>comunicación sencillez disponibilidad amabilidad</td>\n",
              "      <td>puntualidad</td>\n",
              "      <td>AnalyzerOutput(output=NEU, probas={NEU: 0.934,...</td>\n",
              "      <td>[puntualidad]</td>\n",
              "    </tr>\n",
              "    <tr>\n",
              "      <th>1</th>\n",
              "      <td>puntualidad disposicion amabilidad conocimient...</td>\n",
              "      <td>disminuir la velocidad a la que desarrolla los...</td>\n",
              "      <td>AnalyzerOutput(output=NEU, probas={NEU: 0.990,...</td>\n",
              "      <td>[disminuir, la, velocidad, a, la, que, desarro...</td>\n",
              "    </tr>\n",
              "    <tr>\n",
              "      <th>2</th>\n",
              "      <td>ninguno</td>\n",
              "      <td>ninguno</td>\n",
              "      <td>AnalyzerOutput(output=NEU, probas={NEU: 0.595,...</td>\n",
              "      <td>[ninguno]</td>\n",
              "    </tr>\n",
              "    <tr>\n",
              "      <th>3</th>\n",
              "      <td>disposición a la hora de dictar la clase buena...</td>\n",
              "      <td>organización del tablero de la sesión de clase</td>\n",
              "      <td>AnalyzerOutput(output=NEU, probas={NEU: 0.987,...</td>\n",
              "      <td>[organización, del, tablero, de, la, sesión, d...</td>\n",
              "    </tr>\n",
              "    <tr>\n",
              "      <th>4</th>\n",
              "      <td>el profesor se preocupa porque uno aprenda rea...</td>\n",
              "      <td>no lo sé</td>\n",
              "      <td>AnalyzerOutput(output=NEU, probas={NEU: 0.960,...</td>\n",
              "      <td>[no, lo, sé]</td>\n",
              "    </tr>\n",
              "  </tbody>\n",
              "</table>\n",
              "</div>\n",
              "      <button class=\"colab-df-convert\" onclick=\"convertToInteractive('df-0a3cb390-61b8-442b-9143-85c265142599')\"\n",
              "              title=\"Convert this dataframe to an interactive table.\"\n",
              "              style=\"display:none;\">\n",
              "        \n",
              "  <svg xmlns=\"http://www.w3.org/2000/svg\" height=\"24px\"viewBox=\"0 0 24 24\"\n",
              "       width=\"24px\">\n",
              "    <path d=\"M0 0h24v24H0V0z\" fill=\"none\"/>\n",
              "    <path d=\"M18.56 5.44l.94 2.06.94-2.06 2.06-.94-2.06-.94-.94-2.06-.94 2.06-2.06.94zm-11 1L8.5 8.5l.94-2.06 2.06-.94-2.06-.94L8.5 2.5l-.94 2.06-2.06.94zm10 10l.94 2.06.94-2.06 2.06-.94-2.06-.94-.94-2.06-.94 2.06-2.06.94z\"/><path d=\"M17.41 7.96l-1.37-1.37c-.4-.4-.92-.59-1.43-.59-.52 0-1.04.2-1.43.59L10.3 9.45l-7.72 7.72c-.78.78-.78 2.05 0 2.83L4 21.41c.39.39.9.59 1.41.59.51 0 1.02-.2 1.41-.59l7.78-7.78 2.81-2.81c.8-.78.8-2.07 0-2.86zM5.41 20L4 18.59l7.72-7.72 1.47 1.35L5.41 20z\"/>\n",
              "  </svg>\n",
              "      </button>\n",
              "      \n",
              "  <style>\n",
              "    .colab-df-container {\n",
              "      display:flex;\n",
              "      flex-wrap:wrap;\n",
              "      gap: 12px;\n",
              "    }\n",
              "\n",
              "    .colab-df-convert {\n",
              "      background-color: #E8F0FE;\n",
              "      border: none;\n",
              "      border-radius: 50%;\n",
              "      cursor: pointer;\n",
              "      display: none;\n",
              "      fill: #1967D2;\n",
              "      height: 32px;\n",
              "      padding: 0 0 0 0;\n",
              "      width: 32px;\n",
              "    }\n",
              "\n",
              "    .colab-df-convert:hover {\n",
              "      background-color: #E2EBFA;\n",
              "      box-shadow: 0px 1px 2px rgba(60, 64, 67, 0.3), 0px 1px 3px 1px rgba(60, 64, 67, 0.15);\n",
              "      fill: #174EA6;\n",
              "    }\n",
              "\n",
              "    [theme=dark] .colab-df-convert {\n",
              "      background-color: #3B4455;\n",
              "      fill: #D2E3FC;\n",
              "    }\n",
              "\n",
              "    [theme=dark] .colab-df-convert:hover {\n",
              "      background-color: #434B5C;\n",
              "      box-shadow: 0px 1px 3px 1px rgba(0, 0, 0, 0.15);\n",
              "      filter: drop-shadow(0px 1px 2px rgba(0, 0, 0, 0.3));\n",
              "      fill: #FFFFFF;\n",
              "    }\n",
              "  </style>\n",
              "\n",
              "      <script>\n",
              "        const buttonEl =\n",
              "          document.querySelector('#df-0a3cb390-61b8-442b-9143-85c265142599 button.colab-df-convert');\n",
              "        buttonEl.style.display =\n",
              "          google.colab.kernel.accessAllowed ? 'block' : 'none';\n",
              "\n",
              "        async function convertToInteractive(key) {\n",
              "          const element = document.querySelector('#df-0a3cb390-61b8-442b-9143-85c265142599');\n",
              "          const dataTable =\n",
              "            await google.colab.kernel.invokeFunction('convertToInteractive',\n",
              "                                                     [key], {});\n",
              "          if (!dataTable) return;\n",
              "\n",
              "          const docLinkHtml = 'Like what you see? Visit the ' +\n",
              "            '<a target=\"_blank\" href=https://colab.research.google.com/notebooks/data_table.ipynb>data table notebook</a>'\n",
              "            + ' to learn more about interactive tables.';\n",
              "          element.innerHTML = '';\n",
              "          dataTable['output_type'] = 'display_data';\n",
              "          await google.colab.output.renderOutput(dataTable, element);\n",
              "          const docLink = document.createElement('div');\n",
              "          docLink.innerHTML = docLinkHtml;\n",
              "          element.appendChild(docLink);\n",
              "        }\n",
              "      </script>\n",
              "    </div>\n",
              "  </div>\n",
              "  "
            ]
          },
          "metadata": {},
          "execution_count": 88
        }
      ]
    },
    {
      "cell_type": "code",
      "source": [
        "# Creo el modelo\n",
        "model = BERTopic(language=\"spanish\")"
      ],
      "metadata": {
        "id": "OOUT18rVZG-A"
      },
      "execution_count": null,
      "outputs": []
    },
    {
      "cell_type": "markdown",
      "source": [
        "# A última hora: ClUSTER DE MENSAJES"
      ],
      "metadata": {
        "id": "J6LM1kQTltC2"
      }
    },
    {
      "cell_type": "code",
      "source": [
        "pip install sentence_transformers"
      ],
      "metadata": {
        "id": "xPfwwgeWm0lP"
      },
      "execution_count": null,
      "outputs": []
    },
    {
      "cell_type": "code",
      "source": [
        "import tensorflow as tf\n",
        "import tensorflow_hub as hub\n",
        "from sentence_transformers import SentenceTransformer"
      ],
      "metadata": {
        "id": "vBpbD0kElvh6"
      },
      "execution_count": null,
      "outputs": []
    },
    {
      "cell_type": "code",
      "source": [
        "model = SentenceTransformer('sentence-transformers/paraphrase-distilroberta-base-v1')"
      ],
      "metadata": {
        "id": "0E1Z9CinnAyw"
      },
      "execution_count": null,
      "outputs": []
    },
    {
      "cell_type": "code",
      "source": [
        "embeddings = model.encode(df[\"destacar\"])"
      ],
      "metadata": {
        "id": "_5ydl6-UnM_Y"
      },
      "execution_count": null,
      "outputs": []
    },
    {
      "cell_type": "code",
      "source": [
        "embeddings.shape # 1355 textos, 768 vectores de representación."
      ],
      "metadata": {
        "colab": {
          "base_uri": "https://localhost:8080/"
        },
        "id": "Eqrwx7rVoD7Z",
        "outputId": "bbb9a5b1-c2a1-42e8-f5f3-94e1ce2d5c91"
      },
      "execution_count": null,
      "outputs": [
        {
          "output_type": "execute_result",
          "data": {
            "text/plain": [
              "(1355, 768)"
            ]
          },
          "metadata": {},
          "execution_count": 184
        }
      ]
    },
    {
      "cell_type": "code",
      "source": [
        "!pip install umap-learn"
      ],
      "metadata": {
        "id": "mrN8EvvIp2Lc"
      },
      "execution_count": null,
      "outputs": []
    },
    {
      "cell_type": "code",
      "source": [
        "import umap"
      ],
      "metadata": {
        "id": "LqNsYyEOplqE"
      },
      "execution_count": null,
      "outputs": []
    },
    {
      "cell_type": "code",
      "source": [
        "# Reduzcamos a 80, porque los textos suelen ser cortos.\n",
        "from sklearn.decomposition import PCA"
      ],
      "metadata": {
        "id": "YLIPvscQolwl"
      },
      "execution_count": null,
      "outputs": []
    },
    {
      "cell_type": "code",
      "source": [
        "pca = PCA(n_components=100, whiten = True,random_state = 123)"
      ],
      "metadata": {
        "id": "KRn1n_Vyo3tR"
      },
      "execution_count": null,
      "outputs": []
    },
    {
      "cell_type": "code",
      "source": [
        "reducepca = pca.fit_transform(embeddings)\n",
        "print(\"La varianza explicada es del\",pca.explained_variance_ratio_.sum()*100,\"%\") # random_seed. Tenerlo presente"
      ],
      "metadata": {
        "colab": {
          "base_uri": "https://localhost:8080/"
        },
        "id": "8s_gQnObo51P",
        "outputId": "1cff0b06-6268-4123-88e1-b1f75d8e3a55"
      },
      "execution_count": null,
      "outputs": [
        {
          "output_type": "stream",
          "name": "stdout",
          "text": [
            "La varianza explicada es del 89.69008922576904 %\n"
          ]
        }
      ]
    },
    {
      "cell_type": "code",
      "source": [
        "# Fit and transform the data\n",
        "reducer = umap.UMAP(n_components = 100)\n",
        "X_trans = reducer.fit_transform(embeddings) "
      ],
      "metadata": {
        "id": "A83ba5Nfo_S8"
      },
      "execution_count": null,
      "outputs": []
    },
    {
      "cell_type": "code",
      "source": [
        "!pip install hdbscan"
      ],
      "metadata": {
        "colab": {
          "base_uri": "https://localhost:8080/"
        },
        "id": "DUtr0xxLq-9a",
        "outputId": "fedf806b-06ff-435f-ac13-7ace2ce8fac4"
      },
      "execution_count": null,
      "outputs": [
        {
          "output_type": "stream",
          "name": "stdout",
          "text": [
            "Looking in indexes: https://pypi.org/simple, https://us-python.pkg.dev/colab-wheels/public/simple/\n",
            "Collecting hdbscan\n",
            "  Downloading hdbscan-0.8.29.tar.gz (5.2 MB)\n",
            "\u001b[K     |████████████████████████████████| 5.2 MB 5.2 MB/s \n",
            "\u001b[?25h  Installing build dependencies ... \u001b[?25l\u001b[?25hdone\n",
            "  Getting requirements to build wheel ... \u001b[?25l\u001b[?25hdone\n",
            "    Preparing wheel metadata ... \u001b[?25l\u001b[?25hdone\n",
            "Requirement already satisfied: scikit-learn>=0.20 in /usr/local/lib/python3.8/dist-packages (from hdbscan) (1.0.2)\n",
            "Requirement already satisfied: cython>=0.27 in /usr/local/lib/python3.8/dist-packages (from hdbscan) (0.29.32)\n",
            "Requirement already satisfied: numpy>=1.20 in /usr/local/lib/python3.8/dist-packages (from hdbscan) (1.21.6)\n",
            "Requirement already satisfied: scipy>=1.0 in /usr/local/lib/python3.8/dist-packages (from hdbscan) (1.7.3)\n",
            "Requirement already satisfied: joblib>=1.0 in /usr/local/lib/python3.8/dist-packages (from hdbscan) (1.2.0)\n",
            "Requirement already satisfied: threadpoolctl>=2.0.0 in /usr/local/lib/python3.8/dist-packages (from scikit-learn>=0.20->hdbscan) (3.1.0)\n",
            "Building wheels for collected packages: hdbscan\n",
            "  Building wheel for hdbscan (PEP 517) ... \u001b[?25l\u001b[?25hdone\n",
            "  Created wheel for hdbscan: filename=hdbscan-0.8.29-cp38-cp38-linux_x86_64.whl size=2700867 sha256=f063d9e2c3fae5ebdf43a46f930e089b24fd12c0e50f8c0ab87fe11b6c215401\n",
            "  Stored in directory: /root/.cache/pip/wheels/76/06/48/527e038689c581cc9e519c73840efdc7473805149e55bd7ffd\n",
            "Successfully built hdbscan\n",
            "Installing collected packages: hdbscan\n",
            "Successfully installed hdbscan-0.8.29\n"
          ]
        }
      ]
    },
    {
      "cell_type": "code",
      "source": [
        "import hdbscan"
      ],
      "metadata": {
        "id": "njIEoN1NrVin"
      },
      "execution_count": null,
      "outputs": []
    },
    {
      "cell_type": "code",
      "source": [
        "clusters = hdbscan.HDBSCAN(min_cluster_size = 10,\n",
        "                               metric='euclidean', \n",
        "                               cluster_selection_method='eom').fit(X_trans)"
      ],
      "metadata": {
        "id": "_xmQkB5Sq5dL"
      },
      "execution_count": null,
      "outputs": []
    },
    {
      "cell_type": "code",
      "source": [
        "dflabels = pd.DataFrame(clusters.labels_)"
      ],
      "metadata": {
        "id": "TZs04vr1rXnS"
      },
      "execution_count": null,
      "outputs": []
    },
    {
      "cell_type": "code",
      "source": [
        "dflabels.value_counts()"
      ],
      "metadata": {
        "colab": {
          "base_uri": "https://localhost:8080/"
        },
        "id": "GGtatvh_rj6a",
        "outputId": "f079e963-03e9-49f6-967e-abe84ac67434"
      },
      "execution_count": null,
      "outputs": [
        {
          "output_type": "execute_result",
          "data": {
            "text/plain": [
              " 3    1258\n",
              " 2      24\n",
              " 0      20\n",
              " 4      20\n",
              " 1      17\n",
              "-1      16\n",
              "dtype: int64"
            ]
          },
          "metadata": {},
          "execution_count": 78
        }
      ]
    },
    {
      "cell_type": "code",
      "source": [
        "df[\"etiqueta\"] = dflabels"
      ],
      "metadata": {
        "id": "KnIJYgghrnzp"
      },
      "execution_count": null,
      "outputs": []
    },
    {
      "cell_type": "code",
      "source": [
        "atipicos = df[\"etiqueta\"][df[\"etiqueta\"]== -1].index"
      ],
      "metadata": {
        "id": "AW5cWOOMrsKA"
      },
      "execution_count": null,
      "outputs": []
    },
    {
      "cell_type": "code",
      "source": [
        "df.iloc[atipicos,:]"
      ],
      "metadata": {
        "colab": {
          "base_uri": "https://localhost:8080/",
          "height": 551
        },
        "id": "lP74R4T8s3ro",
        "outputId": "783b3282-3b50-4822-9719-98c2f8444eba"
      },
      "execution_count": null,
      "outputs": [
        {
          "output_type": "execute_result",
          "data": {
            "text/plain": [
              "                   destacar  \\\n",
              "2                   ninguno   \n",
              "54                 ninguna    \n",
              "74                    todos   \n",
              "259                 ninguno   \n",
              "435   ninguno buen profesor   \n",
              "510                 ninguno   \n",
              "619                    todo   \n",
              "835                    todo   \n",
              "840                    todo   \n",
              "883                    todo   \n",
              "891               todo jaja   \n",
              "1055                ninguno   \n",
              "1120                   todo   \n",
              "1219                ninguno   \n",
              "1287   ninguno en especial    \n",
              "1330                ninguna   \n",
              "\n",
              "                                                mejorar  etiqueta  \n",
              "2                                               ninguno        -1  \n",
              "54    la pedagogía principalmente la forma de enseña...        -1  \n",
              "74                                              ninguno        -1  \n",
              "259                                             ninguno        -1  \n",
              "435                               ninguno buen profesor        -1  \n",
              "510   casi todo el trato hacia sus estudiantes es mu...        -1  \n",
              "619                                                nada        -1  \n",
              "835             creo que dejar un tris menos de trabajo        -1  \n",
              "840                                                nada        -1  \n",
              "883                                             ninguno        -1  \n",
              "891       es muy buen profesor no tengo recomendaciones        -1  \n",
              "1055                                            ninguno        -1  \n",
              "1120                     las tareas influyan en la nota        -1  \n",
              "1219                          puntualidad comunicación         -1  \n",
              "1287                                ninguno en especial        -1  \n",
              "1330                                debe explicar mejor        -1  "
            ],
            "text/html": [
              "\n",
              "  <div id=\"df-6b9a98eb-dad2-4d16-9f65-5870588d6669\">\n",
              "    <div class=\"colab-df-container\">\n",
              "      <div>\n",
              "<style scoped>\n",
              "    .dataframe tbody tr th:only-of-type {\n",
              "        vertical-align: middle;\n",
              "    }\n",
              "\n",
              "    .dataframe tbody tr th {\n",
              "        vertical-align: top;\n",
              "    }\n",
              "\n",
              "    .dataframe thead th {\n",
              "        text-align: right;\n",
              "    }\n",
              "</style>\n",
              "<table border=\"1\" class=\"dataframe\">\n",
              "  <thead>\n",
              "    <tr style=\"text-align: right;\">\n",
              "      <th></th>\n",
              "      <th>destacar</th>\n",
              "      <th>mejorar</th>\n",
              "      <th>etiqueta</th>\n",
              "    </tr>\n",
              "  </thead>\n",
              "  <tbody>\n",
              "    <tr>\n",
              "      <th>2</th>\n",
              "      <td>ninguno</td>\n",
              "      <td>ninguno</td>\n",
              "      <td>-1</td>\n",
              "    </tr>\n",
              "    <tr>\n",
              "      <th>54</th>\n",
              "      <td>ninguna</td>\n",
              "      <td>la pedagogía principalmente la forma de enseña...</td>\n",
              "      <td>-1</td>\n",
              "    </tr>\n",
              "    <tr>\n",
              "      <th>74</th>\n",
              "      <td>todos</td>\n",
              "      <td>ninguno</td>\n",
              "      <td>-1</td>\n",
              "    </tr>\n",
              "    <tr>\n",
              "      <th>259</th>\n",
              "      <td>ninguno</td>\n",
              "      <td>ninguno</td>\n",
              "      <td>-1</td>\n",
              "    </tr>\n",
              "    <tr>\n",
              "      <th>435</th>\n",
              "      <td>ninguno buen profesor</td>\n",
              "      <td>ninguno buen profesor</td>\n",
              "      <td>-1</td>\n",
              "    </tr>\n",
              "    <tr>\n",
              "      <th>510</th>\n",
              "      <td>ninguno</td>\n",
              "      <td>casi todo el trato hacia sus estudiantes es mu...</td>\n",
              "      <td>-1</td>\n",
              "    </tr>\n",
              "    <tr>\n",
              "      <th>619</th>\n",
              "      <td>todo</td>\n",
              "      <td>nada</td>\n",
              "      <td>-1</td>\n",
              "    </tr>\n",
              "    <tr>\n",
              "      <th>835</th>\n",
              "      <td>todo</td>\n",
              "      <td>creo que dejar un tris menos de trabajo</td>\n",
              "      <td>-1</td>\n",
              "    </tr>\n",
              "    <tr>\n",
              "      <th>840</th>\n",
              "      <td>todo</td>\n",
              "      <td>nada</td>\n",
              "      <td>-1</td>\n",
              "    </tr>\n",
              "    <tr>\n",
              "      <th>883</th>\n",
              "      <td>todo</td>\n",
              "      <td>ninguno</td>\n",
              "      <td>-1</td>\n",
              "    </tr>\n",
              "    <tr>\n",
              "      <th>891</th>\n",
              "      <td>todo jaja</td>\n",
              "      <td>es muy buen profesor no tengo recomendaciones</td>\n",
              "      <td>-1</td>\n",
              "    </tr>\n",
              "    <tr>\n",
              "      <th>1055</th>\n",
              "      <td>ninguno</td>\n",
              "      <td>ninguno</td>\n",
              "      <td>-1</td>\n",
              "    </tr>\n",
              "    <tr>\n",
              "      <th>1120</th>\n",
              "      <td>todo</td>\n",
              "      <td>las tareas influyan en la nota</td>\n",
              "      <td>-1</td>\n",
              "    </tr>\n",
              "    <tr>\n",
              "      <th>1219</th>\n",
              "      <td>ninguno</td>\n",
              "      <td>puntualidad comunicación</td>\n",
              "      <td>-1</td>\n",
              "    </tr>\n",
              "    <tr>\n",
              "      <th>1287</th>\n",
              "      <td>ninguno en especial</td>\n",
              "      <td>ninguno en especial</td>\n",
              "      <td>-1</td>\n",
              "    </tr>\n",
              "    <tr>\n",
              "      <th>1330</th>\n",
              "      <td>ninguna</td>\n",
              "      <td>debe explicar mejor</td>\n",
              "      <td>-1</td>\n",
              "    </tr>\n",
              "  </tbody>\n",
              "</table>\n",
              "</div>\n",
              "      <button class=\"colab-df-convert\" onclick=\"convertToInteractive('df-6b9a98eb-dad2-4d16-9f65-5870588d6669')\"\n",
              "              title=\"Convert this dataframe to an interactive table.\"\n",
              "              style=\"display:none;\">\n",
              "        \n",
              "  <svg xmlns=\"http://www.w3.org/2000/svg\" height=\"24px\"viewBox=\"0 0 24 24\"\n",
              "       width=\"24px\">\n",
              "    <path d=\"M0 0h24v24H0V0z\" fill=\"none\"/>\n",
              "    <path d=\"M18.56 5.44l.94 2.06.94-2.06 2.06-.94-2.06-.94-.94-2.06-.94 2.06-2.06.94zm-11 1L8.5 8.5l.94-2.06 2.06-.94-2.06-.94L8.5 2.5l-.94 2.06-2.06.94zm10 10l.94 2.06.94-2.06 2.06-.94-2.06-.94-.94-2.06-.94 2.06-2.06.94z\"/><path d=\"M17.41 7.96l-1.37-1.37c-.4-.4-.92-.59-1.43-.59-.52 0-1.04.2-1.43.59L10.3 9.45l-7.72 7.72c-.78.78-.78 2.05 0 2.83L4 21.41c.39.39.9.59 1.41.59.51 0 1.02-.2 1.41-.59l7.78-7.78 2.81-2.81c.8-.78.8-2.07 0-2.86zM5.41 20L4 18.59l7.72-7.72 1.47 1.35L5.41 20z\"/>\n",
              "  </svg>\n",
              "      </button>\n",
              "      \n",
              "  <style>\n",
              "    .colab-df-container {\n",
              "      display:flex;\n",
              "      flex-wrap:wrap;\n",
              "      gap: 12px;\n",
              "    }\n",
              "\n",
              "    .colab-df-convert {\n",
              "      background-color: #E8F0FE;\n",
              "      border: none;\n",
              "      border-radius: 50%;\n",
              "      cursor: pointer;\n",
              "      display: none;\n",
              "      fill: #1967D2;\n",
              "      height: 32px;\n",
              "      padding: 0 0 0 0;\n",
              "      width: 32px;\n",
              "    }\n",
              "\n",
              "    .colab-df-convert:hover {\n",
              "      background-color: #E2EBFA;\n",
              "      box-shadow: 0px 1px 2px rgba(60, 64, 67, 0.3), 0px 1px 3px 1px rgba(60, 64, 67, 0.15);\n",
              "      fill: #174EA6;\n",
              "    }\n",
              "\n",
              "    [theme=dark] .colab-df-convert {\n",
              "      background-color: #3B4455;\n",
              "      fill: #D2E3FC;\n",
              "    }\n",
              "\n",
              "    [theme=dark] .colab-df-convert:hover {\n",
              "      background-color: #434B5C;\n",
              "      box-shadow: 0px 1px 3px 1px rgba(0, 0, 0, 0.15);\n",
              "      filter: drop-shadow(0px 1px 2px rgba(0, 0, 0, 0.3));\n",
              "      fill: #FFFFFF;\n",
              "    }\n",
              "  </style>\n",
              "\n",
              "      <script>\n",
              "        const buttonEl =\n",
              "          document.querySelector('#df-6b9a98eb-dad2-4d16-9f65-5870588d6669 button.colab-df-convert');\n",
              "        buttonEl.style.display =\n",
              "          google.colab.kernel.accessAllowed ? 'block' : 'none';\n",
              "\n",
              "        async function convertToInteractive(key) {\n",
              "          const element = document.querySelector('#df-6b9a98eb-dad2-4d16-9f65-5870588d6669');\n",
              "          const dataTable =\n",
              "            await google.colab.kernel.invokeFunction('convertToInteractive',\n",
              "                                                     [key], {});\n",
              "          if (!dataTable) return;\n",
              "\n",
              "          const docLinkHtml = 'Like what you see? Visit the ' +\n",
              "            '<a target=\"_blank\" href=https://colab.research.google.com/notebooks/data_table.ipynb>data table notebook</a>'\n",
              "            + ' to learn more about interactive tables.';\n",
              "          element.innerHTML = '';\n",
              "          dataTable['output_type'] = 'display_data';\n",
              "          await google.colab.output.renderOutput(dataTable, element);\n",
              "          const docLink = document.createElement('div');\n",
              "          docLink.innerHTML = docLinkHtml;\n",
              "          element.appendChild(docLink);\n",
              "        }\n",
              "      </script>\n",
              "    </div>\n",
              "  </div>\n",
              "  "
            ]
          },
          "metadata": {},
          "execution_count": 93
        }
      ]
    },
    {
      "cell_type": "code",
      "source": [
        "def generate_clusters(message_embeddings,\n",
        "                      n_neighbors,\n",
        "                      n_components, \n",
        "                      min_cluster_size,\n",
        "                      random_state = None):\n",
        "    \"\"\"\n",
        "    Generate HDBSCAN cluster object after reducing embedding dimensionality with UMAP\n",
        "    \"\"\"\n",
        "    \n",
        "    umap_embeddings = (umap.UMAP(n_neighbors=n_neighbors, \n",
        "                                n_components=n_components, \n",
        "                                metric='cosine', \n",
        "                                random_state=random_state)\n",
        "                            .fit_transform(message_embeddings))\n",
        "\n",
        "    clusters = hdbscan.HDBSCAN(min_cluster_size = min_cluster_size,\n",
        "                               metric='euclidean', \n",
        "                               cluster_selection_method='eom').fit(umap_embeddings)\n",
        "\n",
        "    return clusters"
      ],
      "metadata": {
        "id": "nqN-KFZzoFyt"
      },
      "execution_count": null,
      "outputs": []
    },
    {
      "cell_type": "code",
      "source": [
        "\n",
        "def score_clusters(clusters, prob_threshold = 0.05):\n",
        "    \"\"\"\n",
        "    Returns the label count and cost of a given cluster supplied from running hdbscan\n",
        "    \"\"\"\n",
        "    \n",
        "    cluster_labels = clusters.labels_\n",
        "    label_count = len(np.unique(cluster_labels))\n",
        "    total_num = len(clusters.labels_)\n",
        "    cost = (np.count_nonzero(clusters.probabilities_ < prob_threshold)/total_num)\n",
        "    \n",
        "    return label_count, cost"
      ],
      "metadata": {
        "id": "lYxZfk-IoM2k"
      },
      "execution_count": null,
      "outputs": []
    },
    {
      "cell_type": "code",
      "source": [
        "def random_search(embeddings, space, num_evals):\n",
        "    \"\"\"\n",
        "    Randomly search hyperparameter space and limited number of times \n",
        "    and return a summary of the results\n",
        "    \"\"\"\n",
        "    \n",
        "    results = []\n",
        "    \n",
        "    for i in trange(num_evals):\n",
        "        n_neighbors = random.choice(space['n_neighbors'])\n",
        "        n_components = random.choice(space['n_components'])\n",
        "        min_cluster_size = random.choice(space['min_cluster_size'])\n",
        "        \n",
        "        clusters = generate_clusters(embeddings, \n",
        "                                     n_neighbors = n_neighbors, \n",
        "                                     n_components = n_components, \n",
        "                                     min_cluster_size = min_cluster_size, \n",
        "                                     random_state = 42)\n",
        "    \n",
        "        label_count, cost = score_clusters(clusters, prob_threshold = 0.05)\n",
        "                \n",
        "        results.append([i, n_neighbors, n_components, min_cluster_size, \n",
        "                        label_count, cost])\n",
        "    \n",
        "    result_df = pd.DataFrame(results, columns=['run_id', 'n_neighbors', 'n_components', \n",
        "                                               'min_cluster_size', 'label_count', 'cost'])\n",
        "    \n",
        "    return result_df.sort_values(by='cost')"
      ],
      "metadata": {
        "id": "EWwx3wk4oTwI"
      },
      "execution_count": null,
      "outputs": []
    }
  ]
}