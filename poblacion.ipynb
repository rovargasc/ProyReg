{
 "cells": [
  {
   "cell_type": "code",
   "execution_count": 1,
   "id": "f9fb58d8-b2ef-470f-bf22-62e81cf66451",
   "metadata": {},
   "outputs": [
    {
     "name": "stdout",
     "output_type": "stream",
     "text": [
      "Using data directory: C:\\Users\\rosme\\.bokeh\\data\n",
      "Skipping 'CGM.csv' (checksum match)\n",
      "Skipping 'US_Counties.zip' (checksum match)\n",
      "Skipping 'us_cities.json' (checksum match)\n",
      "Skipping 'unemployment09.csv' (checksum match)\n",
      "Skipping 'AAPL.csv' (checksum match)\n",
      "Skipping 'FB.csv' (checksum match)\n",
      "Skipping 'GOOG.csv' (checksum match)\n",
      "Skipping 'IBM.csv' (checksum match)\n",
      "Skipping 'MSFT.csv' (checksum match)\n",
      "Skipping 'WPP2012_SA_DB03_POPULATION_QUINQUENNIAL.zip' (checksum match)\n",
      "Skipping 'gapminder_fertility.csv' (checksum match)\n",
      "Skipping 'gapminder_population.csv' (checksum match)\n",
      "Skipping 'gapminder_life_expectancy.csv' (checksum match)\n",
      "Skipping 'gapminder_regions.csv' (checksum match)\n",
      "Skipping 'world_cities.zip' (checksum match)\n",
      "Skipping 'airports.json' (checksum match)\n",
      "Skipping 'movies.db.zip' (checksum match)\n",
      "Skipping 'airports.csv' (checksum match)\n",
      "Skipping 'routes.csv' (checksum match)\n",
      "Skipping 'haarcascade_frontalface_default.xml' (checksum match)\n"
     ]
    }
   ],
   "source": [
    "# from bokeh.sampledata.gapminder import population, fertility, life_expectancy\n",
    "import bokeh.sampledata\n",
    "bokeh.sampledata.download()\n",
    "from bokeh.sampledata.gapminder import population, fertility, life_expectancy"
   ]
  },
  {
   "cell_type": "code",
   "execution_count": 2,
   "id": "d82b24dd-6fcb-4087-85a9-fa0b15938366",
   "metadata": {},
   "outputs": [],
   "source": [
    "## bokeh_animation_ex1.py\n",
    "\n",
    "from bokeh.models import Button, Slider\n",
    "from bokeh.plotting import figure, column, row\n",
    "from bokeh.models.ranges import FactorRange\n",
    "from bokeh.io import curdoc\n",
    "\n",
    "import time\n",
    "\n",
    "## Prepare Data\n",
    "def convert_population(population):\n",
    "    if population > 1e9:\n",
    "        pop = \"{:.2f} Bn\".format(population / 1e9)\n",
    "    else:\n",
    "        pop = \"{:.2f} Mn\".format(population / 1e6)\n",
    "    return pop\n",
    "\n",
    "top_10 = population[[\"1964\"]].dropna().sort_values(by=[\"1964\"], ascending=False).reset_index()\n",
    "top_10 = top_10.rename(columns={\"1964\": \"Population\"}).head(10).reset_index()\n",
    "top_10[\"index\"] = top_10[\"index\"] + 1\n",
    "top_10[\"index\"] = top_10[\"index\"].values[::-1]\n",
    "top_10 = top_10.sort_values(by=\"Population\")\n",
    "top_10[\"Population_Text\"] = top_10[\"Population\"].apply(convert_population)\n",
    "\n",
    "\n",
    "## Create Chart\n",
    "fig = figure(width=700, height=500, title=\"Top 10 Countries by Population (1964-2013)\",\n",
    "             x_range=(0, 1.6e9))\n",
    "\n",
    "bars = fig.hbar(y=\"index\", right=\"Population\", color=\"dodgerblue\",\n",
    "                height=0.85, source=top_10)\n",
    "text = fig.text(x=\"Population\", y=\"index\", text=\"Population_Text\", x_offset=5,\n",
    "                text_baseline=\"middle\", source=top_10)\n",
    "\n",
    "x_range = list(map(int, [0, 200e6, 400e6, 600e6, 800e6, 1e9, 1.2e9, 1.4e9, 1.6e9]))\n",
    "x_range_ticks = [\"1 Mn\", \"200 Mn\", \"400 Mn\", \"600 Mn\", \"800 Mn\", \"1.00 Bn\", \"1.20 Bn\", \"1.40 Bn\", \"1.6 Bn\"]\n",
    "#fig.xaxis.ticker = x_range\n",
    "fig.xaxis.major_label_overrides = dict(zip(x_range, x_range_ticks))\n",
    "\n",
    "fig.yaxis.ticker = list(range(1,11))\n",
    "fig.yaxis.major_label_overrides = dict(zip(list(range(1,11)), top_10.Country.values))\n",
    "\n",
    "## Define Widgets\n",
    "slider = Slider(start=1964, end=2013, value=1964, step=1, title=\"Year:\")\n",
    "btn = Button(label=\"Play\")\n",
    "\n",
    "## Define Callbacks\n",
    "curr_year = 1964\n",
    "def update_chart():\n",
    "    global curr_year\n",
    "    curr_year += 1\n",
    "    slider.value = curr_year\n",
    "    if curr_year == 2013:\n",
    "        curr_year = 1964\n",
    "\n",
    "callback = None\n",
    "def execute_animation():\n",
    "    global callback\n",
    "    if btn.label == \"Play\":\n",
    "        btn.label = \"Pause\"\n",
    "        callback = curdoc().add_periodic_callback(update_chart, 100)\n",
    "    else:\n",
    "        btn.label = \"Play\"\n",
    "        curdoc().remove_periodic_callback(callback)\n",
    "\n",
    "\n",
    "def modify_chart(attr, old, new):\n",
    "    idx = \"{}\".format(slider.value)\n",
    "    top_10 = population[[idx]].dropna().sort_values(by=[idx], ascending=False).reset_index()\n",
    "    top_10 = top_10.rename(columns={idx: \"Population\"}).head(10).reset_index()\n",
    "    top_10[\"index\"] = top_10[\"index\"] + 1\n",
    "    top_10[\"index\"] = top_10[\"index\"].values[::-1]\n",
    "    top_10 = top_10.sort_values(by=\"Population\")\n",
    "    top_10[\"Population_Text\"] = top_10[\"Population\"].apply(convert_population)\n",
    "\n",
    "    bars.data_source.data = top_10\n",
    "    text.data_source.data = top_10\n",
    "\n",
    "    fig.yaxis.major_label_overrides = dict(zip(list(range(1,10)), top_10.Country.values))\n",
    "\n",
    "\n",
    "## Register Callbacks\n",
    "btn.on_click(execute_animation)\n",
    "slider.on_change(\"value\", modify_chart)\n",
    "\n",
    "\n",
    "## GUI\n",
    "curdoc().add_root(column(btn, slider, fig))"
   ]
  },
  {
   "cell_type": "code",
   "execution_count": 3,
   "id": "85291093-2c6f-447f-a2a1-572373592cf9",
   "metadata": {},
   "outputs": [
    {
     "name": "stdout",
     "output_type": "stream",
     "text": [
      "^C\n"
     ]
    }
   ],
   "source": [
    "!bokeh serve --show --port 2009 poblacion.ipynb"
   ]
  }
 ],
 "metadata": {
  "kernelspec": {
   "display_name": "Python 3 (ipykernel)",
   "language": "python",
   "name": "python3"
  },
  "language_info": {
   "codemirror_mode": {
    "name": "ipython",
    "version": 3
   },
   "file_extension": ".py",
   "mimetype": "text/x-python",
   "name": "python",
   "nbconvert_exporter": "python",
   "pygments_lexer": "ipython3",
   "version": "3.10.8"
  }
 },
 "nbformat": 4,
 "nbformat_minor": 5
}
